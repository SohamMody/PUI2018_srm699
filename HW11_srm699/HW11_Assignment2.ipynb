{
 "cells": [
  {
   "cell_type": "code",
   "execution_count": 7,
   "metadata": {},
   "outputs": [
    {
     "name": "stdout",
     "output_type": "stream",
     "text": [
      "Populating the interactive namespace from numpy and matplotlib\n"
     ]
    }
   ],
   "source": [
    "from __future__  import print_function, division\n",
    "import pylab as pl\n",
    "import matplotlib.pyplot as plt\n",
    "import pandas as pd\n",
    "import numpy as np\n",
    "import os\n",
    "%pylab inline\n",
    "import os\n",
    "import json\n",
    "os.environ[\"PUIDATA\"] = \"%s//Desktop/PUI/PUIDATA\"%os.getenv(\"HOME\")"
   ]
  },
  {
   "cell_type": "code",
   "execution_count": 2,
   "metadata": {},
   "outputs": [
    {
     "data": {
      "text/plain": [
       "0"
      ]
     },
     "execution_count": 2,
     "metadata": {},
     "output_type": "execute_result"
    }
   ],
   "source": [
    "os.system('curl https://data.cityofnewyork.us/api/views/3qem-6v3v/rows.csv?accessType=DOWNLOAD>shelters.csv')\n",
    "os.system('mv shelters.csv ' + os.getenv(\"PUIDATA\"))"
   ]
  },
  {
   "cell_type": "markdown",
   "metadata": {},
   "source": [
    "## This dataset has been provided by the department of homeless services and contains information about the number of shelter buildings in each community district and borough of NYC. This data is of 31st July, 31st August and 30th September 2018 i.e. data for 3 months."
   ]
  },
  {
   "cell_type": "code",
   "execution_count": 3,
   "metadata": {},
   "outputs": [],
   "source": [
    "shelters = pd.read_csv(os.getenv(\"PUIDATA\") +'/shelters.csv')"
   ]
  },
  {
   "cell_type": "code",
   "execution_count": 43,
   "metadata": {},
   "outputs": [
    {
     "data": {
      "text/html": [
       "<div>\n",
       "<style scoped>\n",
       "    .dataframe tbody tr th:only-of-type {\n",
       "        vertical-align: middle;\n",
       "    }\n",
       "\n",
       "    .dataframe tbody tr th {\n",
       "        vertical-align: top;\n",
       "    }\n",
       "\n",
       "    .dataframe thead th {\n",
       "        text-align: right;\n",
       "    }\n",
       "</style>\n",
       "<table border=\"1\" class=\"dataframe\">\n",
       "  <thead>\n",
       "    <tr style=\"text-align: right;\">\n",
       "      <th></th>\n",
       "      <th>Report Date</th>\n",
       "      <th>Borough</th>\n",
       "      <th>Community District</th>\n",
       "      <th>Adult Family Comm Hotel</th>\n",
       "      <th>Adult Family Shelter</th>\n",
       "      <th>Adult Shelter</th>\n",
       "      <th>Adult Shelter Comm Hotel</th>\n",
       "      <th>FWC Cluster</th>\n",
       "      <th>FWC Comm Hotel</th>\n",
       "      <th>FWC Shelter</th>\n",
       "    </tr>\n",
       "  </thead>\n",
       "  <tbody>\n",
       "    <tr>\n",
       "      <th>0</th>\n",
       "      <td>07/31/2018</td>\n",
       "      <td>Bronx</td>\n",
       "      <td>201</td>\n",
       "      <td>NaN</td>\n",
       "      <td>1.0</td>\n",
       "      <td>2.0</td>\n",
       "      <td>NaN</td>\n",
       "      <td>4.0</td>\n",
       "      <td>1.0</td>\n",
       "      <td>7.0</td>\n",
       "    </tr>\n",
       "    <tr>\n",
       "      <th>1</th>\n",
       "      <td>07/31/2018</td>\n",
       "      <td>Bronx</td>\n",
       "      <td>202</td>\n",
       "      <td>NaN</td>\n",
       "      <td>1.0</td>\n",
       "      <td>NaN</td>\n",
       "      <td>NaN</td>\n",
       "      <td>3.0</td>\n",
       "      <td>NaN</td>\n",
       "      <td>6.0</td>\n",
       "    </tr>\n",
       "    <tr>\n",
       "      <th>2</th>\n",
       "      <td>07/31/2018</td>\n",
       "      <td>Bronx</td>\n",
       "      <td>203</td>\n",
       "      <td>NaN</td>\n",
       "      <td>2.0</td>\n",
       "      <td>5.0</td>\n",
       "      <td>NaN</td>\n",
       "      <td>5.0</td>\n",
       "      <td>2.0</td>\n",
       "      <td>9.0</td>\n",
       "    </tr>\n",
       "    <tr>\n",
       "      <th>3</th>\n",
       "      <td>07/31/2018</td>\n",
       "      <td>Bronx</td>\n",
       "      <td>204</td>\n",
       "      <td>NaN</td>\n",
       "      <td>NaN</td>\n",
       "      <td>2.0</td>\n",
       "      <td>NaN</td>\n",
       "      <td>18.0</td>\n",
       "      <td>NaN</td>\n",
       "      <td>14.0</td>\n",
       "    </tr>\n",
       "    <tr>\n",
       "      <th>4</th>\n",
       "      <td>07/31/2018</td>\n",
       "      <td>Bronx</td>\n",
       "      <td>205</td>\n",
       "      <td>NaN</td>\n",
       "      <td>2.0</td>\n",
       "      <td>3.0</td>\n",
       "      <td>NaN</td>\n",
       "      <td>12.0</td>\n",
       "      <td>NaN</td>\n",
       "      <td>5.0</td>\n",
       "    </tr>\n",
       "  </tbody>\n",
       "</table>\n",
       "</div>"
      ],
      "text/plain": [
       "  Report Date Borough  Community District  Adult Family Comm Hotel  \\\n",
       "0  07/31/2018   Bronx                 201                      NaN   \n",
       "1  07/31/2018   Bronx                 202                      NaN   \n",
       "2  07/31/2018   Bronx                 203                      NaN   \n",
       "3  07/31/2018   Bronx                 204                      NaN   \n",
       "4  07/31/2018   Bronx                 205                      NaN   \n",
       "\n",
       "   Adult Family Shelter  Adult Shelter  Adult Shelter Comm Hotel  FWC Cluster  \\\n",
       "0                   1.0            2.0                       NaN          4.0   \n",
       "1                   1.0            NaN                       NaN          3.0   \n",
       "2                   2.0            5.0                       NaN          5.0   \n",
       "3                   NaN            2.0                       NaN         18.0   \n",
       "4                   2.0            3.0                       NaN         12.0   \n",
       "\n",
       "   FWC Comm Hotel  FWC Shelter  \n",
       "0             1.0          7.0  \n",
       "1             NaN          6.0  \n",
       "2             2.0          9.0  \n",
       "3             NaN         14.0  \n",
       "4             NaN          5.0  "
      ]
     },
     "execution_count": 43,
     "metadata": {},
     "output_type": "execute_result"
    }
   ],
   "source": [
    "shelters.head()"
   ]
  },
  {
   "cell_type": "code",
   "execution_count": 40,
   "metadata": {},
   "outputs": [
    {
     "data": {
      "text/plain": [
       "Text(0,0.5,'Count of shelters in each borough')"
      ]
     },
     "execution_count": 40,
     "metadata": {},
     "output_type": "execute_result"
    },
    {
     "data": {
      "image/png": "[encoded data removed]",
      "text/plain": [
       "<Figure size 432x288 with 1 Axes>"
      ]
     },
     "metadata": {},
     "output_type": "display_data"
    }
   ],
   "source": [
    "ax,fig = plt.subplots(1,1)\n",
    "fig = (shelters.groupby('Borough')['FWC Shelter'].sum()).plot(kind='bar',\\\n",
    "        color=['b','g','g','g','r'])\n",
    "plt.title('The total number of shelters providied for families with children in each borough of NYC')\n",
    "plt.xticks(rotation='horizontal')\n",
    "plt.xlabel('BOROUGH')\n",
    "plt.ylabel('Count of shelters in each borough')"
   ]
  },
  {
   "cell_type": "markdown",
   "metadata": {},
   "source": [
    "### Figure 1 : The plot shows the number of shelters provided for families with children for boroughes of New  York City.This dataset has been provided by the department of homeless services and contains information about the number of shelter buildings in each community district and borough of NYC. Shelter buildings is nothing but the number of shelters or in other words, the number of people( families in this case) that are provided shelter. This data is of 31st July, 31st August and 30th September 2018 i.e. data for 3 months. Bronx(blue) has the highest number of shelters while Staten Island(red) has very few which kind of makes sense as there are fewer homeless people in Staten Island and people from other brorughs would find it the least accessible of all the boroughs. "
   ]
  },
  {
   "cell_type": "markdown",
   "metadata": {},
   "source": [
    "### Note"
   ]
  },
  {
   "cell_type": "markdown",
   "metadata": {},
   "source": [
    "#### I have tried to incorporate the inputs and criticisms provided by Cyrus(cb4102) and Sam(sm4372) in my corrected plot by better defining what I am trying to plot and improving the labelling and caption. Sam and Cyrus both suggested to report the count as a measure of borough population but, that would not be a better measure as the shelters aren't just for people from that brorough or specific district. It's just the count of resources the DHS can provide. Like, a homeless family from Manhattan can also get shelter in the Bronx or Brooklyn. Furthermore, shelter buildings actually doesn't actually mean an entire buidling; it is just the count of families that can be provided shelter. Shelter building is just a term that the DHS uses. Also, Sam suggested doing a time series rendering but the dataset is just 3 points of time; 1 for so that would not "
   ]
  }
 ],
 "metadata": {
  "kernelspec": {
   "display_name": "Python 3",
   "language": "python",
   "name": "python3"
  },
  "language_info": {
   "codemirror_mode": {
    "name": "ipython",
    "version": 3
   },
   "file_extension": ".py",
   "mimetype": "text/x-python",
   "name": "python",
   "nbconvert_exporter": "python",
   "pygments_lexer": "ipython3",
   "version": "3.6.5"
  }
 },
 "nbformat": 4,
 "nbformat_minor": 2
}
