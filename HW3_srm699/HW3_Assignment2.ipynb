{
 "cells": [
  {
   "cell_type": "code",
   "execution_count": 182,
   "metadata": {},
   "outputs": [
    {
     "name": "stdout",
     "output_type": "stream",
     "text": [
      "Populating the interactive namespace from numpy and matplotlib\n"
     ]
    }
   ],
   "source": [
    "from __future__ import print_function\n",
    "import os\n",
    "import pandas as pd\n",
    "%pylab inline"
   ]
  },
  {
   "cell_type": "code",
   "execution_count": 118,
   "metadata": {},
   "outputs": [
    {
     "name": "stdout",
     "output_type": "stream",
     "text": [
      "  % Total    % Received % Xferd  Average Speed   Time    Time     Time  Current\n",
      "                                 Dload  Upload   Total   Spent    Left  Speed\n",
      "100 92.9M    0 92.9M    0     0  2614k      0 --:--:--  0:00:36 --:--:-- 2526k^C\n"
     ]
    }
   ],
   "source": [
    "!curl https://data.cityofnewyork.us/api/views/h9gi-nx95/rows.csv?accessType=DOWNLOAD>mvc.csv\n",
    "#The dataset is about motor vehicle collisions across 2012-2018   "
   ]
  },
  {
   "cell_type": "code",
   "execution_count": 119,
   "metadata": {},
   "outputs": [
    {
     "name": "stdout",
     "output_type": "stream",
     "text": [
      "PUIdata /nfshome/srm699/PUIDATA\n"
     ]
    }
   ],
   "source": [
    "os.environ[\"PUIDATA\"] = \"%s/PUIDATA\"%os.getenv(\"HOME\")\n",
    "print(\"PUIdata\", os.getenv(\"PUIDATA\"))"
   ]
  },
  {
   "cell_type": "code",
   "execution_count": 120,
   "metadata": {},
   "outputs": [],
   "source": [
    "!mv mvc.csv $PUIDATA"
   ]
  },
  {
   "cell_type": "code",
   "execution_count": 117,
   "metadata": {},
   "outputs": [
    {
     "name": "stdout",
     "output_type": "stream",
     "text": [
      "mvc.csv  stopandfrisk2017.csv  summer2009_NYCCAS.csv\n"
     ]
    }
   ],
   "source": [
    "#check if the data has been moved\n",
    "! ls $PUIDATA"
   ]
  },
  {
   "cell_type": "code",
   "execution_count": 155,
   "metadata": {},
   "outputs": [],
   "source": [
    "#The dataset has been provided by NYPD and is posted on its website so that people can\n",
    "#see how dangerous different intersections are in NYC\n",
    "mvc= pd.read_csv(\"%s/mvc.csv\"%os.getenv(\"PUIDATA\"))"
   ]
  },
  {
   "cell_type": "code",
   "execution_count": 162,
   "metadata": {},
   "outputs": [
    {
     "data": {
      "text/plain": [
       "(471914, 29)"
      ]
     },
     "execution_count": 162,
     "metadata": {},
     "output_type": "execute_result"
    }
   ],
   "source": [
    "mvc.head(7) #Displaying first 7 rows\n",
    "mvc.size\n",
    "shape(mvc)"
   ]
  },
  {
   "cell_type": "code",
   "execution_count": 178,
   "metadata": {},
   "outputs": [
    {
     "data": {
      "text/plain": [
       "1450000"
      ]
     },
     "execution_count": 178,
     "metadata": {},
     "output_type": "execute_result"
    }
   ],
   "source": [
    "mvc=mvc.iloc[:50000]#Subsetting the dataset\n",
    "mvc.size"
   ]
  },
  {
   "cell_type": "code",
   "execution_count": 179,
   "metadata": {},
   "outputs": [],
   "source": [
    "mvc2= mvc[['ZIP CODE','NUMBER OF MOTORIST INJURED']]\n",
    "#keeping only the zip-code of the collision and the number of motorists injured"
   ]
  },
  {
   "cell_type": "code",
   "execution_count": 180,
   "metadata": {},
   "outputs": [
    {
     "data": {
      "text/html": [
       "<div>\n",
       "<table border=\"1\" class=\"dataframe\">\n",
       "  <thead>\n",
       "    <tr style=\"text-align: right;\">\n",
       "      <th></th>\n",
       "      <th>ZIP CODE</th>\n",
       "      <th>NUMBER OF MOTORIST INJURED</th>\n",
       "    </tr>\n",
       "  </thead>\n",
       "  <tbody>\n",
       "    <tr>\n",
       "      <th>0</th>\n",
       "      <td>10451.0</td>\n",
       "      <td>0.0</td>\n",
       "    </tr>\n",
       "    <tr>\n",
       "      <th>1</th>\n",
       "      <td>10462.0</td>\n",
       "      <td>0.0</td>\n",
       "    </tr>\n",
       "    <tr>\n",
       "      <th>2</th>\n",
       "      <td>11221.0</td>\n",
       "      <td>0.0</td>\n",
       "    </tr>\n",
       "    <tr>\n",
       "      <th>3</th>\n",
       "      <td>11235.0</td>\n",
       "      <td>0.0</td>\n",
       "    </tr>\n",
       "    <tr>\n",
       "      <th>4</th>\n",
       "      <td>NaN</td>\n",
       "      <td>0.0</td>\n",
       "    </tr>\n",
       "  </tbody>\n",
       "</table>\n",
       "</div>"
      ],
      "text/plain": [
       "   ZIP CODE  NUMBER OF MOTORIST INJURED\n",
       "0   10451.0                         0.0\n",
       "1   10462.0                         0.0\n",
       "2   11221.0                         0.0\n",
       "3   11235.0                         0.0\n",
       "4       NaN                         0.0"
      ]
     },
     "execution_count": 180,
     "metadata": {},
     "output_type": "execute_result"
    }
   ],
   "source": [
    "mvc2.head(5)"
   ]
  },
  {
   "cell_type": "code",
   "execution_count": 181,
   "metadata": {},
   "outputs": [
    {
     "data": {
      "text/plain": [
       "<matplotlib.axes._subplots.AxesSubplot at 0x7ff5a58f7cc0>"
      ]
     },
     "execution_count": 181,
     "metadata": {},
     "output_type": "execute_result"
    },
    {
     "data": {
      "image/png": "[encoded data removed]",
      "text/plain": [
       "<matplotlib.figure.Figure at 0x7ff5b7535a58>"
      ]
     },
     "metadata": {},
     "output_type": "display_data"
    }
   ],
   "source": [
    "mvc2.plot.scatter(x=\"NUMBER OF MOTORIST INJURED\", y=\"ZIP CODE\")"
   ]
  },
  {
   "cell_type": "markdown",
   "metadata": {},
   "source": [
    "Figure 1: The plot shows the number of motorists injured in collisions in various zipcodes as reported by NYPD from 06/28/2018 to 09/15/2018. From the graph and knowledge of zip codes of NYC, we can see that Staten Island has the least number of accidents which does make sense."
   ]
  },
  {
   "cell_type": "markdown",
   "metadata": {},
   "source": [
    "# Extra Credit"
   ]
  },
  {
   "cell_type": "code",
   "execution_count": 184,
   "metadata": {},
   "outputs": [],
   "source": [
    "url = \"https://data.cityofnewyork.us/resource/qiz3-axqb.json\""
   ]
  },
  {
   "cell_type": "code",
   "execution_count": 185,
   "metadata": {},
   "outputs": [],
   "source": [
    "mvcapi = pd.read_json(url)"
   ]
  },
  {
   "cell_type": "code",
   "execution_count": 186,
   "metadata": {},
   "outputs": [
    {
     "data": {
      "text/html": [
       "<div>\n",
       "<table border=\"1\" class=\"dataframe\">\n",
       "  <thead>\n",
       "    <tr style=\"text-align: right;\">\n",
       "      <th></th>\n",
       "      <th>:@computed_region_92fq_4b7q</th>\n",
       "      <th>:@computed_region_efsh_h5xi</th>\n",
       "      <th>:@computed_region_f5dn_yrer</th>\n",
       "      <th>:@computed_region_sbqj_enih</th>\n",
       "      <th>:@computed_region_yeji_bk3q</th>\n",
       "      <th>borough</th>\n",
       "      <th>contributing_factor_vehicle_1</th>\n",
       "      <th>contributing_factor_vehicle_2</th>\n",
       "      <th>contributing_factor_vehicle_3</th>\n",
       "      <th>contributing_factor_vehicle_4</th>\n",
       "      <th>...</th>\n",
       "      <th>off_street_name</th>\n",
       "      <th>on_street_name</th>\n",
       "      <th>time</th>\n",
       "      <th>unique_key</th>\n",
       "      <th>vehicle_type_code1</th>\n",
       "      <th>vehicle_type_code2</th>\n",
       "      <th>vehicle_type_code_3</th>\n",
       "      <th>vehicle_type_code_4</th>\n",
       "      <th>vehicle_type_code_5</th>\n",
       "      <th>zip_code</th>\n",
       "    </tr>\n",
       "  </thead>\n",
       "  <tbody>\n",
       "    <tr>\n",
       "      <th>0</th>\n",
       "      <td>14.0</td>\n",
       "      <td>10693.0</td>\n",
       "      <td>30.0</td>\n",
       "      <td>76.0</td>\n",
       "      <td>1.0</td>\n",
       "      <td>NaN</td>\n",
       "      <td>Following Too Closely</td>\n",
       "      <td>Unspecified</td>\n",
       "      <td>NaN</td>\n",
       "      <td>NaN</td>\n",
       "      <td>...</td>\n",
       "      <td>NaN</td>\n",
       "      <td>TODT HILL ROAD</td>\n",
       "      <td>13:27</td>\n",
       "      <td>3981513</td>\n",
       "      <td>Sedan</td>\n",
       "      <td>Station Wagon/Sport Utility Vehicle</td>\n",
       "      <td>NaN</td>\n",
       "      <td>NaN</td>\n",
       "      <td>NaN</td>\n",
       "      <td>NaN</td>\n",
       "    </tr>\n",
       "    <tr>\n",
       "      <th>1</th>\n",
       "      <td>16.0</td>\n",
       "      <td>24332.0</td>\n",
       "      <td>41.0</td>\n",
       "      <td>61.0</td>\n",
       "      <td>3.0</td>\n",
       "      <td>QUEENS</td>\n",
       "      <td>Unsafe Lane Changing</td>\n",
       "      <td>Following Too Closely</td>\n",
       "      <td>NaN</td>\n",
       "      <td>NaN</td>\n",
       "      <td>...</td>\n",
       "      <td>NaN</td>\n",
       "      <td>NaN</td>\n",
       "      <td>8:00</td>\n",
       "      <td>3980959</td>\n",
       "      <td>Sedan</td>\n",
       "      <td>Sedan</td>\n",
       "      <td>NaN</td>\n",
       "      <td>NaN</td>\n",
       "      <td>NaN</td>\n",
       "      <td>11423.0</td>\n",
       "    </tr>\n",
       "    <tr>\n",
       "      <th>2</th>\n",
       "      <td>30.0</td>\n",
       "      <td>18181.0</td>\n",
       "      <td>42.0</td>\n",
       "      <td>53.0</td>\n",
       "      <td>2.0</td>\n",
       "      <td>BROOKLYN</td>\n",
       "      <td>Driver Inattention/Distraction</td>\n",
       "      <td>Unspecified</td>\n",
       "      <td>NaN</td>\n",
       "      <td>NaN</td>\n",
       "      <td>...</td>\n",
       "      <td>CENTRAL AVENUE</td>\n",
       "      <td>BLEECKER STREET</td>\n",
       "      <td>5:20</td>\n",
       "      <td>3981214</td>\n",
       "      <td>Sedan</td>\n",
       "      <td>Sedan</td>\n",
       "      <td>NaN</td>\n",
       "      <td>NaN</td>\n",
       "      <td>NaN</td>\n",
       "      <td>11221.0</td>\n",
       "    </tr>\n",
       "    <tr>\n",
       "      <th>3</th>\n",
       "      <td>35.0</td>\n",
       "      <td>10929.0</td>\n",
       "      <td>49.0</td>\n",
       "      <td>23.0</td>\n",
       "      <td>5.0</td>\n",
       "      <td>BRONX</td>\n",
       "      <td>Unspecified</td>\n",
       "      <td>Unspecified</td>\n",
       "      <td>NaN</td>\n",
       "      <td>NaN</td>\n",
       "      <td>...</td>\n",
       "      <td>GERARD AVENUE</td>\n",
       "      <td>EAST 149 STREET</td>\n",
       "      <td>16:26</td>\n",
       "      <td>3981886</td>\n",
       "      <td>Sedan</td>\n",
       "      <td>Station Wagon/Sport Utility Vehicle</td>\n",
       "      <td>NaN</td>\n",
       "      <td>NaN</td>\n",
       "      <td>NaN</td>\n",
       "      <td>10451.0</td>\n",
       "    </tr>\n",
       "    <tr>\n",
       "      <th>4</th>\n",
       "      <td>NaN</td>\n",
       "      <td>NaN</td>\n",
       "      <td>NaN</td>\n",
       "      <td>NaN</td>\n",
       "      <td>NaN</td>\n",
       "      <td>NaN</td>\n",
       "      <td>Unspecified</td>\n",
       "      <td>Unspecified</td>\n",
       "      <td>NaN</td>\n",
       "      <td>NaN</td>\n",
       "      <td>...</td>\n",
       "      <td>GRAND CENTRAL PARKWAY</td>\n",
       "      <td>UNION TURNPIKE</td>\n",
       "      <td>21:30</td>\n",
       "      <td>3981113</td>\n",
       "      <td>Sedan</td>\n",
       "      <td>Station Wagon/Sport Utility Vehicle</td>\n",
       "      <td>NaN</td>\n",
       "      <td>NaN</td>\n",
       "      <td>NaN</td>\n",
       "      <td>NaN</td>\n",
       "    </tr>\n",
       "    <tr>\n",
       "      <th>5</th>\n",
       "      <td>34.0</td>\n",
       "      <td>14788.0</td>\n",
       "      <td>53.0</td>\n",
       "      <td>66.0</td>\n",
       "      <td>3.0</td>\n",
       "      <td>NaN</td>\n",
       "      <td>Driver Inattention/Distraction</td>\n",
       "      <td>Unspecified</td>\n",
       "      <td>NaN</td>\n",
       "      <td>NaN</td>\n",
       "      <td>...</td>\n",
       "      <td>LONG ISLAND EXPRESSWAY</td>\n",
       "      <td>MAURICE AVENUE</td>\n",
       "      <td>1:45</td>\n",
       "      <td>3980844</td>\n",
       "      <td>Sedan</td>\n",
       "      <td>NaN</td>\n",
       "      <td>NaN</td>\n",
       "      <td>NaN</td>\n",
       "      <td>NaN</td>\n",
       "      <td>NaN</td>\n",
       "    </tr>\n",
       "    <tr>\n",
       "      <th>6</th>\n",
       "      <td>51.0</td>\n",
       "      <td>12081.0</td>\n",
       "      <td>11.0</td>\n",
       "      <td>10.0</td>\n",
       "      <td>4.0</td>\n",
       "      <td>NaN</td>\n",
       "      <td>Driver Inattention/Distraction</td>\n",
       "      <td>Unspecified</td>\n",
       "      <td>NaN</td>\n",
       "      <td>NaN</td>\n",
       "      <td>...</td>\n",
       "      <td>NaN</td>\n",
       "      <td>WEST 53 STREET</td>\n",
       "      <td>3:50</td>\n",
       "      <td>3980910</td>\n",
       "      <td>Sedan</td>\n",
       "      <td>Sedan</td>\n",
       "      <td>NaN</td>\n",
       "      <td>NaN</td>\n",
       "      <td>NaN</td>\n",
       "      <td>NaN</td>\n",
       "    </tr>\n",
       "    <tr>\n",
       "      <th>7</th>\n",
       "      <td>26.0</td>\n",
       "      <td>13510.0</td>\n",
       "      <td>60.0</td>\n",
       "      <td>43.0</td>\n",
       "      <td>2.0</td>\n",
       "      <td>BROOKLYN</td>\n",
       "      <td>Driver Inattention/Distraction</td>\n",
       "      <td>Unspecified</td>\n",
       "      <td>NaN</td>\n",
       "      <td>NaN</td>\n",
       "      <td>...</td>\n",
       "      <td>NaN</td>\n",
       "      <td>NaN</td>\n",
       "      <td>19:07</td>\n",
       "      <td>3981246</td>\n",
       "      <td>Sedan</td>\n",
       "      <td>Station Wagon/Sport Utility Vehicle</td>\n",
       "      <td>NaN</td>\n",
       "      <td>NaN</td>\n",
       "      <td>NaN</td>\n",
       "      <td>11226.0</td>\n",
       "    </tr>\n",
       "  </tbody>\n",
       "</table>\n",
       "<p>8 rows × 34 columns</p>\n",
       "</div>"
      ],
      "text/plain": [
       "   :@computed_region_92fq_4b7q  :@computed_region_efsh_h5xi  \\\n",
       "0                         14.0                      10693.0   \n",
       "1                         16.0                      24332.0   \n",
       "2                         30.0                      18181.0   \n",
       "3                         35.0                      10929.0   \n",
       "4                          NaN                          NaN   \n",
       "5                         34.0                      14788.0   \n",
       "6                         51.0                      12081.0   \n",
       "7                         26.0                      13510.0   \n",
       "\n",
       "   :@computed_region_f5dn_yrer  :@computed_region_sbqj_enih  \\\n",
       "0                         30.0                         76.0   \n",
       "1                         41.0                         61.0   \n",
       "2                         42.0                         53.0   \n",
       "3                         49.0                         23.0   \n",
       "4                          NaN                          NaN   \n",
       "5                         53.0                         66.0   \n",
       "6                         11.0                         10.0   \n",
       "7                         60.0                         43.0   \n",
       "\n",
       "   :@computed_region_yeji_bk3q   borough   contributing_factor_vehicle_1  \\\n",
       "0                          1.0       NaN           Following Too Closely   \n",
       "1                          3.0    QUEENS            Unsafe Lane Changing   \n",
       "2                          2.0  BROOKLYN  Driver Inattention/Distraction   \n",
       "3                          5.0     BRONX                     Unspecified   \n",
       "4                          NaN       NaN                     Unspecified   \n",
       "5                          3.0       NaN  Driver Inattention/Distraction   \n",
       "6                          4.0       NaN  Driver Inattention/Distraction   \n",
       "7                          2.0  BROOKLYN  Driver Inattention/Distraction   \n",
       "\n",
       "  contributing_factor_vehicle_2 contributing_factor_vehicle_3  \\\n",
       "0                   Unspecified                           NaN   \n",
       "1         Following Too Closely                           NaN   \n",
       "2                   Unspecified                           NaN   \n",
       "3                   Unspecified                           NaN   \n",
       "4                   Unspecified                           NaN   \n",
       "5                   Unspecified                           NaN   \n",
       "6                   Unspecified                           NaN   \n",
       "7                   Unspecified                           NaN   \n",
       "\n",
       "  contributing_factor_vehicle_4    ...            off_street_name  \\\n",
       "0                           NaN    ...                        NaN   \n",
       "1                           NaN    ...                        NaN   \n",
       "2                           NaN    ...             CENTRAL AVENUE   \n",
       "3                           NaN    ...              GERARD AVENUE   \n",
       "4                           NaN    ...      GRAND CENTRAL PARKWAY   \n",
       "5                           NaN    ...     LONG ISLAND EXPRESSWAY   \n",
       "6                           NaN    ...                        NaN   \n",
       "7                           NaN    ...                        NaN   \n",
       "\n",
       "                     on_street_name   time  unique_key vehicle_type_code1  \\\n",
       "0  TODT HILL ROAD                    13:27     3981513              Sedan   \n",
       "1                               NaN   8:00     3980959              Sedan   \n",
       "2  BLEECKER STREET                    5:20     3981214              Sedan   \n",
       "3  EAST 149 STREET                   16:26     3981886              Sedan   \n",
       "4  UNION TURNPIKE                    21:30     3981113              Sedan   \n",
       "5  MAURICE AVENUE                     1:45     3980844              Sedan   \n",
       "6  WEST 53 STREET                     3:50     3980910              Sedan   \n",
       "7                               NaN  19:07     3981246              Sedan   \n",
       "\n",
       "                    vehicle_type_code2  vehicle_type_code_3  \\\n",
       "0  Station Wagon/Sport Utility Vehicle                  NaN   \n",
       "1                                Sedan                  NaN   \n",
       "2                                Sedan                  NaN   \n",
       "3  Station Wagon/Sport Utility Vehicle                  NaN   \n",
       "4  Station Wagon/Sport Utility Vehicle                  NaN   \n",
       "5                                  NaN                  NaN   \n",
       "6                                Sedan                  NaN   \n",
       "7  Station Wagon/Sport Utility Vehicle                  NaN   \n",
       "\n",
       "   vehicle_type_code_4  vehicle_type_code_5  zip_code  \n",
       "0                  NaN                  NaN       NaN  \n",
       "1                  NaN                  NaN   11423.0  \n",
       "2                  NaN                  NaN   11221.0  \n",
       "3                  NaN                  NaN   10451.0  \n",
       "4                  NaN                  NaN       NaN  \n",
       "5                  NaN                  NaN       NaN  \n",
       "6                  NaN                  NaN       NaN  \n",
       "7                  NaN                  NaN   11226.0  \n",
       "\n",
       "[8 rows x 34 columns]"
      ]
     },
     "execution_count": 186,
     "metadata": {},
     "output_type": "execute_result"
    }
   ],
   "source": [
    "mvcapi.head(8)"
   ]
  },
  {
   "cell_type": "markdown",
   "metadata": {},
   "source": [
    "# I am using the same NYPD dataset as it already has a date/time column."
   ]
  },
  {
   "cell_type": "code",
   "execution_count": 190,
   "metadata": {},
   "outputs": [
    {
     "data": {
      "text/html": [
       "<div>\n",
       "<table border=\"1\" class=\"dataframe\">\n",
       "  <thead>\n",
       "    <tr style=\"text-align: right;\">\n",
       "      <th></th>\n",
       "      <th>DATE</th>\n",
       "      <th>TIME</th>\n",
       "      <th>BOROUGH</th>\n",
       "      <th>ZIP CODE</th>\n",
       "      <th>LATITUDE</th>\n",
       "      <th>LONGITUDE</th>\n",
       "      <th>LOCATION</th>\n",
       "      <th>ON STREET NAME</th>\n",
       "      <th>CROSS STREET NAME</th>\n",
       "      <th>OFF STREET NAME</th>\n",
       "      <th>...</th>\n",
       "      <th>CONTRIBUTING FACTOR VEHICLE 2</th>\n",
       "      <th>CONTRIBUTING FACTOR VEHICLE 3</th>\n",
       "      <th>CONTRIBUTING FACTOR VEHICLE 4</th>\n",
       "      <th>CONTRIBUTING FACTOR VEHICLE 5</th>\n",
       "      <th>UNIQUE KEY</th>\n",
       "      <th>VEHICLE TYPE CODE 1</th>\n",
       "      <th>VEHICLE TYPE CODE 2</th>\n",
       "      <th>VEHICLE TYPE CODE 3</th>\n",
       "      <th>VEHICLE TYPE CODE 4</th>\n",
       "      <th>VEHICLE TYPE CODE 5</th>\n",
       "    </tr>\n",
       "  </thead>\n",
       "  <tbody>\n",
       "    <tr>\n",
       "      <th>0</th>\n",
       "      <td>09/15/2018</td>\n",
       "      <td>0:00</td>\n",
       "      <td>BRONX</td>\n",
       "      <td>10451.0</td>\n",
       "      <td>NaN</td>\n",
       "      <td>NaN</td>\n",
       "      <td>NaN</td>\n",
       "      <td>EAST 138 STREET</td>\n",
       "      <td>EXTERIOR STREET</td>\n",
       "      <td>NaN</td>\n",
       "      <td>...</td>\n",
       "      <td>Unspecified</td>\n",
       "      <td>NaN</td>\n",
       "      <td>NaN</td>\n",
       "      <td>NaN</td>\n",
       "      <td>3981865.0</td>\n",
       "      <td>Sedan</td>\n",
       "      <td>Sedan</td>\n",
       "      <td>NaN</td>\n",
       "      <td>NaN</td>\n",
       "      <td>NaN</td>\n",
       "    </tr>\n",
       "    <tr>\n",
       "      <th>1</th>\n",
       "      <td>09/15/2018</td>\n",
       "      <td>0:00</td>\n",
       "      <td>BRONX</td>\n",
       "      <td>10462.0</td>\n",
       "      <td>40.852410</td>\n",
       "      <td>-73.867775</td>\n",
       "      <td>(40.85241, -73.867775)</td>\n",
       "      <td>WHITE PLAINS ROAD</td>\n",
       "      <td>BRADY AVENUE</td>\n",
       "      <td>NaN</td>\n",
       "      <td>...</td>\n",
       "      <td>Unspecified</td>\n",
       "      <td>NaN</td>\n",
       "      <td>NaN</td>\n",
       "      <td>NaN</td>\n",
       "      <td>3981254.0</td>\n",
       "      <td>Sedan</td>\n",
       "      <td>Sedan</td>\n",
       "      <td>NaN</td>\n",
       "      <td>NaN</td>\n",
       "      <td>NaN</td>\n",
       "    </tr>\n",
       "    <tr>\n",
       "      <th>2</th>\n",
       "      <td>09/15/2018</td>\n",
       "      <td>0:00</td>\n",
       "      <td>BROOKLYN</td>\n",
       "      <td>11221.0</td>\n",
       "      <td>40.693300</td>\n",
       "      <td>-73.923004</td>\n",
       "      <td>(40.6933, -73.923004)</td>\n",
       "      <td>NaN</td>\n",
       "      <td>NaN</td>\n",
       "      <td>28        BLEECKER STREET</td>\n",
       "      <td>...</td>\n",
       "      <td>Following Too Closely</td>\n",
       "      <td>NaN</td>\n",
       "      <td>NaN</td>\n",
       "      <td>NaN</td>\n",
       "      <td>3981224.0</td>\n",
       "      <td>Sedan</td>\n",
       "      <td>Station Wagon/Sport Utility Vehicle</td>\n",
       "      <td>NaN</td>\n",
       "      <td>NaN</td>\n",
       "      <td>NaN</td>\n",
       "    </tr>\n",
       "    <tr>\n",
       "      <th>3</th>\n",
       "      <td>09/15/2018</td>\n",
       "      <td>0:00</td>\n",
       "      <td>BROOKLYN</td>\n",
       "      <td>11235.0</td>\n",
       "      <td>40.582058</td>\n",
       "      <td>-73.959946</td>\n",
       "      <td>(40.582058, -73.959946)</td>\n",
       "      <td>NaN</td>\n",
       "      <td>NaN</td>\n",
       "      <td>3031      CONEY ISLAND AVENUE</td>\n",
       "      <td>...</td>\n",
       "      <td>Unspecified</td>\n",
       "      <td>NaN</td>\n",
       "      <td>NaN</td>\n",
       "      <td>NaN</td>\n",
       "      <td>3982108.0</td>\n",
       "      <td>Sedan</td>\n",
       "      <td>Sedan</td>\n",
       "      <td>NaN</td>\n",
       "      <td>NaN</td>\n",
       "      <td>NaN</td>\n",
       "    </tr>\n",
       "    <tr>\n",
       "      <th>4</th>\n",
       "      <td>09/15/2018</td>\n",
       "      <td>0:00</td>\n",
       "      <td>NaN</td>\n",
       "      <td>NaN</td>\n",
       "      <td>40.789463</td>\n",
       "      <td>-73.786040</td>\n",
       "      <td>(40.789463, -73.78604)</td>\n",
       "      <td>CROSS ISLAND PARKWAY</td>\n",
       "      <td>NaN</td>\n",
       "      <td>NaN</td>\n",
       "      <td>...</td>\n",
       "      <td>Unspecified</td>\n",
       "      <td>NaN</td>\n",
       "      <td>NaN</td>\n",
       "      <td>NaN</td>\n",
       "      <td>3981096.0</td>\n",
       "      <td>Sedan</td>\n",
       "      <td>Station Wagon/Sport Utility Vehicle</td>\n",
       "      <td>NaN</td>\n",
       "      <td>NaN</td>\n",
       "      <td>NaN</td>\n",
       "    </tr>\n",
       "    <tr>\n",
       "      <th>5</th>\n",
       "      <td>09/15/2018</td>\n",
       "      <td>0:00</td>\n",
       "      <td>NaN</td>\n",
       "      <td>NaN</td>\n",
       "      <td>40.840090</td>\n",
       "      <td>-73.880360</td>\n",
       "      <td>(40.84009, -73.88036)</td>\n",
       "      <td>EAST TREMONT AVENUE</td>\n",
       "      <td>BOSTON ROAD</td>\n",
       "      <td>NaN</td>\n",
       "      <td>...</td>\n",
       "      <td>Unspecified</td>\n",
       "      <td>NaN</td>\n",
       "      <td>NaN</td>\n",
       "      <td>NaN</td>\n",
       "      <td>3981776.0</td>\n",
       "      <td>Sedan</td>\n",
       "      <td>Station Wagon/Sport Utility Vehicle</td>\n",
       "      <td>NaN</td>\n",
       "      <td>NaN</td>\n",
       "      <td>NaN</td>\n",
       "    </tr>\n",
       "    <tr>\n",
       "      <th>6</th>\n",
       "      <td>09/15/2018</td>\n",
       "      <td>0:00</td>\n",
       "      <td>NaN</td>\n",
       "      <td>NaN</td>\n",
       "      <td>40.794735</td>\n",
       "      <td>-73.969880</td>\n",
       "      <td>(40.794735, -73.96988)</td>\n",
       "      <td>WEST 97 STREET</td>\n",
       "      <td>NaN</td>\n",
       "      <td>NaN</td>\n",
       "      <td>...</td>\n",
       "      <td>Driver Inattention/Distraction</td>\n",
       "      <td>NaN</td>\n",
       "      <td>NaN</td>\n",
       "      <td>NaN</td>\n",
       "      <td>3981944.0</td>\n",
       "      <td>Station Wagon/Sport Utility Vehicle</td>\n",
       "      <td>Sedan</td>\n",
       "      <td>NaN</td>\n",
       "      <td>NaN</td>\n",
       "      <td>NaN</td>\n",
       "    </tr>\n",
       "  </tbody>\n",
       "</table>\n",
       "<p>7 rows × 29 columns</p>\n",
       "</div>"
      ],
      "text/plain": [
       "         DATE  TIME   BOROUGH  ZIP CODE   LATITUDE  LONGITUDE  \\\n",
       "0  09/15/2018  0:00     BRONX   10451.0        NaN        NaN   \n",
       "1  09/15/2018  0:00     BRONX   10462.0  40.852410 -73.867775   \n",
       "2  09/15/2018  0:00  BROOKLYN   11221.0  40.693300 -73.923004   \n",
       "3  09/15/2018  0:00  BROOKLYN   11235.0  40.582058 -73.959946   \n",
       "4  09/15/2018  0:00       NaN       NaN  40.789463 -73.786040   \n",
       "5  09/15/2018  0:00       NaN       NaN  40.840090 -73.880360   \n",
       "6  09/15/2018  0:00       NaN       NaN  40.794735 -73.969880   \n",
       "\n",
       "                  LOCATION                    ON STREET NAME  \\\n",
       "0                      NaN  EAST 138 STREET                    \n",
       "1   (40.85241, -73.867775)  WHITE PLAINS ROAD                  \n",
       "2    (40.6933, -73.923004)                               NaN   \n",
       "3  (40.582058, -73.959946)                               NaN   \n",
       "4   (40.789463, -73.78604)  CROSS ISLAND PARKWAY               \n",
       "5    (40.84009, -73.88036)  EAST TREMONT AVENUE                \n",
       "6   (40.794735, -73.96988)  WEST 97 STREET                     \n",
       "\n",
       "  CROSS STREET NAME                           OFF STREET NAME  \\\n",
       "0   EXTERIOR STREET                                       NaN   \n",
       "1      BRADY AVENUE                                       NaN   \n",
       "2               NaN  28        BLEECKER STREET                  \n",
       "3               NaN  3031      CONEY ISLAND AVENUE              \n",
       "4               NaN                                       NaN   \n",
       "5       BOSTON ROAD                                       NaN   \n",
       "6               NaN                                       NaN   \n",
       "\n",
       "          ...           CONTRIBUTING FACTOR VEHICLE 2  \\\n",
       "0         ...                             Unspecified   \n",
       "1         ...                             Unspecified   \n",
       "2         ...                   Following Too Closely   \n",
       "3         ...                             Unspecified   \n",
       "4         ...                             Unspecified   \n",
       "5         ...                             Unspecified   \n",
       "6         ...          Driver Inattention/Distraction   \n",
       "\n",
       "   CONTRIBUTING FACTOR VEHICLE 3  CONTRIBUTING FACTOR VEHICLE 4  \\\n",
       "0                            NaN                            NaN   \n",
       "1                            NaN                            NaN   \n",
       "2                            NaN                            NaN   \n",
       "3                            NaN                            NaN   \n",
       "4                            NaN                            NaN   \n",
       "5                            NaN                            NaN   \n",
       "6                            NaN                            NaN   \n",
       "\n",
       "   CONTRIBUTING FACTOR VEHICLE 5  UNIQUE KEY  \\\n",
       "0                            NaN   3981865.0   \n",
       "1                            NaN   3981254.0   \n",
       "2                            NaN   3981224.0   \n",
       "3                            NaN   3982108.0   \n",
       "4                            NaN   3981096.0   \n",
       "5                            NaN   3981776.0   \n",
       "6                            NaN   3981944.0   \n",
       "\n",
       "                   VEHICLE TYPE CODE 1                  VEHICLE TYPE CODE 2  \\\n",
       "0                                Sedan                                Sedan   \n",
       "1                                Sedan                                Sedan   \n",
       "2                                Sedan  Station Wagon/Sport Utility Vehicle   \n",
       "3                                Sedan                                Sedan   \n",
       "4                                Sedan  Station Wagon/Sport Utility Vehicle   \n",
       "5                                Sedan  Station Wagon/Sport Utility Vehicle   \n",
       "6  Station Wagon/Sport Utility Vehicle                                Sedan   \n",
       "\n",
       "   VEHICLE TYPE CODE 3 VEHICLE TYPE CODE 4 VEHICLE TYPE CODE 5  \n",
       "0                  NaN                 NaN                 NaN  \n",
       "1                  NaN                 NaN                 NaN  \n",
       "2                  NaN                 NaN                 NaN  \n",
       "3                  NaN                 NaN                 NaN  \n",
       "4                  NaN                 NaN                 NaN  \n",
       "5                  NaN                 NaN                 NaN  \n",
       "6                  NaN                 NaN                 NaN  \n",
       "\n",
       "[7 rows x 29 columns]"
      ]
     },
     "execution_count": 190,
     "metadata": {},
     "output_type": "execute_result"
    }
   ],
   "source": [
    "mvc.head(7)"
   ]
  },
  {
   "cell_type": "code",
   "execution_count": 193,
   "metadata": {},
   "outputs": [],
   "source": [
    "mvc3=mvc[['DATE','NUMBER OF MOTORIST INJURED','ZIP CODE']]#does not make sense to plot zip code against date"
   ]
  },
  {
   "cell_type": "code",
   "execution_count": 195,
   "metadata": {},
   "outputs": [
    {
     "data": {
      "text/html": [
       "<div>\n",
       "<table border=\"1\" class=\"dataframe\">\n",
       "  <thead>\n",
       "    <tr style=\"text-align: right;\">\n",
       "      <th></th>\n",
       "      <th>DATE</th>\n",
       "      <th>NUMBER OF MOTORIST INJURED</th>\n",
       "      <th>ZIP CODE</th>\n",
       "    </tr>\n",
       "  </thead>\n",
       "  <tbody>\n",
       "    <tr>\n",
       "      <th>0</th>\n",
       "      <td>09/15/2018</td>\n",
       "      <td>0.0</td>\n",
       "      <td>10451.0</td>\n",
       "    </tr>\n",
       "    <tr>\n",
       "      <th>1</th>\n",
       "      <td>09/15/2018</td>\n",
       "      <td>0.0</td>\n",
       "      <td>10462.0</td>\n",
       "    </tr>\n",
       "    <tr>\n",
       "      <th>2</th>\n",
       "      <td>09/15/2018</td>\n",
       "      <td>0.0</td>\n",
       "      <td>11221.0</td>\n",
       "    </tr>\n",
       "    <tr>\n",
       "      <th>3</th>\n",
       "      <td>09/15/2018</td>\n",
       "      <td>0.0</td>\n",
       "      <td>11235.0</td>\n",
       "    </tr>\n",
       "    <tr>\n",
       "      <th>4</th>\n",
       "      <td>09/15/2018</td>\n",
       "      <td>0.0</td>\n",
       "      <td>NaN</td>\n",
       "    </tr>\n",
       "  </tbody>\n",
       "</table>\n",
       "</div>"
      ],
      "text/plain": [
       "         DATE  NUMBER OF MOTORIST INJURED  ZIP CODE\n",
       "0  09/15/2018                         0.0   10451.0\n",
       "1  09/15/2018                         0.0   10462.0\n",
       "2  09/15/2018                         0.0   11221.0\n",
       "3  09/15/2018                         0.0   11235.0\n",
       "4  09/15/2018                         0.0       NaN"
      ]
     },
     "execution_count": 195,
     "metadata": {},
     "output_type": "execute_result"
    }
   ],
   "source": [
    "mvc3.head()"
   ]
  },
  {
   "cell_type": "code",
   "execution_count": 200,
   "metadata": {},
   "outputs": [
    {
     "data": {
      "text/plain": [
       "Text(0,0.5,'Count')"
      ]
     },
     "execution_count": 200,
     "metadata": {},
     "output_type": "execute_result"
    },
    {
     "data": {
      "image/png": "[encoded data removed]",
      "text/plain": [
       "<matplotlib.figure.Figure at 0x7ff5babfdbe0>"
      ]
     },
     "metadata": {},
     "output_type": "display_data"
    }
   ],
   "source": [
    "ax=mvc3.plot(x='DATE', y=\"NUMBER OF MOTORIST INJURED\")\n",
    "ax.set_ylabel(\"Count\")"
   ]
  },
  {
   "cell_type": "markdown",
   "metadata": {},
   "source": [
    "Figure 2: This plot shows the count of motorcyclists injured in collsions across NYC as a function of time between 06/28/2018 and 09/15/2018. There is no specific trend but it is seen that many motorcyclists were injured in the first week of August."
   ]
  },
  {
   "cell_type": "code",
   "execution_count": null,
   "metadata": {},
   "outputs": [],
   "source": []
  }
 ],
 "metadata": {
  "kernelspec": {
   "display_name": "PUI2016_Python3",
   "language": "python",
   "name": "pui2016_python3"
  },
  "language_info": {
   "codemirror_mode": {
    "name": "ipython",
    "version": 3
   },
   "file_extension": ".py",
   "mimetype": "text/x-python",
   "name": "python",
   "nbconvert_exporter": "python",
   "pygments_lexer": "ipython3",
   "version": "3.5.4"
  }
 },
 "nbformat": 4,
 "nbformat_minor": 2
}
