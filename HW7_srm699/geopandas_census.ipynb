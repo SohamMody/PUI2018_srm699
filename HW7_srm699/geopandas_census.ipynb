{
 "cells": [
  {
   "cell_type": "markdown",
   "metadata": {},
   "source": [
    "## This notebook is designed to pratice with both geopandas and census data.  This is a simple spatial exploratory analysis of census data. The goal is to assess wheather the location of the [linkNYC](https://www.link.nyc/) access points is optimal to guarantee a more \"democratic\" access to the internet.\n",
    "\n",
    "## THE CENSUS: \n",
    "make sure you do the assigned reading about the census. Census data are a national trasure! The census is a survey  designed to collect data on every person that lives in the USA every 10 years. The Census Bureau collects data, designes aggregation areas (the census blocks and tracts for example, which are designed for maximal homogeneity across all features). However, the Census Bureau does not only collect and aggregate data every 10 years, it also collects the America Community Survey every 5 years, and some more restricted survey on an annual bases. The 1 year survey data is what we will use: https://www.census.gov/services/index.html\n"
   ]
  },
  {
   "cell_type": "markdown",
   "metadata": {},
   "source": [
    "# 1. PUMA : Public Use Microdata Area\n",
    "Census geographies that are not specific political entities (i.e. states, counties etc) are designed for homogeneity so that aggregating the data over the whole area will leat to an estimat (mean or median for example) with minimal variance. Among these geographies are the _census tracts_, _census blocks_, and _Public Use Microdata Areas (PUMAs)_. PUMAs are geographical areas designed to aggregate census data. Each PUMA contains at least 100,000 people. PUMAs do not overlap, and are contained within a single state. \n",
    "\n",
    "## 1.1 download the NYC  Public Use Microdata Areas (PUMA) geometry fron the NYC Open Data API and read it in with geopandas\n",
    "\n",
    "https://data.cityofnewyork.us/Housing-Development/Public-Use-Microdata-Areas-PUMA-/cwiz-gcty/data\n",
    "\n",
    "download it as a shape file. When you download a shapefile you actually download a zipped folder which contains the shape file and other files that are necessary to read the shape file in. You can do that with the urllib library in python 3 with the function \n",
    "\n",
    "        urllib.request.urlretrieve(url, \"file.gz\")\n",
    "\n",
    "then unpack the data into your PUIdata directory, then read it in with geopandas, reading in the shape file with the function \n",
    "\n",
    "        geopandas.GeoDataFrame.from_file(filename)"
   ]
  },
  {
   "cell_type": "markdown",
   "metadata": {},
   "source": [
    "PUMAs were first created for the 1990 Census. PUMAs are identified by a specific 4 numbers id. In the shapefile foung at data.cityofnewyork.us the id is named \"puma\" and it is in fact a 4 digits number. You can read it in as an integer (although of course it is a categorical variable inherently!). Often the PUMA id is found in conjunction with the 3 numbers state id, leading to a 7 numbers identification. The id for the State of NY is 036. See this link for more: https://www.census.gov/geo/reference/geoidentifiers.html\n"
   ]
  },
  {
   "cell_type": "code",
   "execution_count": 47,
   "metadata": {},
   "outputs": [],
   "source": [
    "import pandas as pd\n",
    "import numpy as np\n",
    "import geopandas as gpd\n",
    "import urllib\n",
    "import requests\n",
    "import matplotlib.pyplot as plt\n",
    "%matplotlib inline\n",
    "import sys\n",
    "import os\n",
    "import json\n",
    "import io\n",
    "import shapely\n",
    "#import rtree\n",
    "from geopandas.tools import sjoin\n",
    "#import osmnx as ox\n",
    "from fiona import crs\n",
    "os.environ[\"PUIDATA\"] = \"%s/Desktop/PUI/PUIDATA\"%os.getenv(\"HOME\")"
   ]
  },
  {
   "cell_type": "code",
   "execution_count": 48,
   "metadata": {},
   "outputs": [
    {
     "data": {
      "text/plain": [
       "'/Users/soham/Desktop/PUI/PUIDATA'"
      ]
     },
     "execution_count": 48,
     "metadata": {},
     "output_type": "execute_result"
    }
   ],
   "source": [
    "os.getenv('PUIDATA')"
   ]
  },
  {
   "cell_type": "code",
   "execution_count": 49,
   "metadata": {},
   "outputs": [
    {
     "data": {
      "text/plain": [
       "('/Users/soham/Desktop/PUI/PUIDATA/puma.gz',\n",
       " <http.client.HTTPMessage at 0x1a2b58d160>)"
      ]
     },
     "execution_count": 49,
     "metadata": {},
     "output_type": "execute_result"
    }
   ],
   "source": [
    "url = \"https://data.cityofnewyork.us/api/geospatial/cwiz-gcty?method=export&format=Shapefile\"\n",
    "urllib.request.urlretrieve(url, os.getenv('PUIDATA')+'/'+\"puma.gz\")"
   ]
  },
  {
   "cell_type": "code",
   "execution_count": 50,
   "metadata": {},
   "outputs": [
    {
     "name": "stdout",
     "output_type": "stream",
     "text": [
      "Archive:  /Users/soham/Desktop/PUI/PUIDATA/puma.gz\n",
      "  inflating: /Users/soham/Desktop/PUI/PUIDATA/puma/geo_export_05ba7107-86e1-4945-a6ab-dd628d1be364.dbf  \n",
      "  inflating: /Users/soham/Desktop/PUI/PUIDATA/puma/geo_export_05ba7107-86e1-4945-a6ab-dd628d1be364.shp  \n",
      "  inflating: /Users/soham/Desktop/PUI/PUIDATA/puma/geo_export_05ba7107-86e1-4945-a6ab-dd628d1be364.shx  \n",
      "  inflating: /Users/soham/Desktop/PUI/PUIDATA/puma/geo_export_05ba7107-86e1-4945-a6ab-dd628d1be364.prj  \n"
     ]
    }
   ],
   "source": [
    "!unzip $PUIDATA/puma.gz -d $PUIDATA/puma"
   ]
  },
  {
   "cell_type": "code",
   "execution_count": 51,
   "metadata": {},
   "outputs": [
    {
     "data": {
      "text/html": [
       "<div>\n",
       "<style scoped>\n",
       "    .dataframe tbody tr th:only-of-type {\n",
       "        vertical-align: middle;\n",
       "    }\n",
       "\n",
       "    .dataframe tbody tr th {\n",
       "        vertical-align: top;\n",
       "    }\n",
       "\n",
       "    .dataframe thead th {\n",
       "        text-align: right;\n",
       "    }\n",
       "</style>\n",
       "<table border=\"1\" class=\"dataframe\">\n",
       "  <thead>\n",
       "    <tr style=\"text-align: right;\">\n",
       "      <th></th>\n",
       "      <th>puma</th>\n",
       "      <th>shape_area</th>\n",
       "      <th>shape_leng</th>\n",
       "      <th>geometry</th>\n",
       "    </tr>\n",
       "  </thead>\n",
       "  <tbody>\n",
       "    <tr>\n",
       "      <th>0</th>\n",
       "      <td>3701</td>\n",
       "      <td>9.792852e+07</td>\n",
       "      <td>53227.144461</td>\n",
       "      <td>POLYGON ((-73.89641133483133 40.90450452082026...</td>\n",
       "    </tr>\n",
       "    <tr>\n",
       "      <th>1</th>\n",
       "      <td>3702</td>\n",
       "      <td>1.889860e+08</td>\n",
       "      <td>106050.002302</td>\n",
       "      <td>POLYGON ((-73.8442314689986 40.86942035096838,...</td>\n",
       "    </tr>\n",
       "    <tr>\n",
       "      <th>2</th>\n",
       "      <td>3703</td>\n",
       "      <td>2.670137e+08</td>\n",
       "      <td>304071.257466</td>\n",
       "      <td>(POLYGON ((-73.78833349834532 40.8346671297593...</td>\n",
       "    </tr>\n",
       "    <tr>\n",
       "      <th>3</th>\n",
       "      <td>3704</td>\n",
       "      <td>1.062129e+08</td>\n",
       "      <td>47970.901277</td>\n",
       "      <td>POLYGON ((-73.84792614069238 40.8713422330779,...</td>\n",
       "    </tr>\n",
       "    <tr>\n",
       "      <th>4</th>\n",
       "      <td>4015</td>\n",
       "      <td>8.105438e+07</td>\n",
       "      <td>50007.415493</td>\n",
       "      <td>POLYGON ((-73.95374853778468 40.63858633758547...</td>\n",
       "    </tr>\n",
       "  </tbody>\n",
       "</table>\n",
       "</div>"
      ],
      "text/plain": [
       "   puma    shape_area     shape_leng  \\\n",
       "0  3701  9.792852e+07   53227.144461   \n",
       "1  3702  1.889860e+08  106050.002302   \n",
       "2  3703  2.670137e+08  304071.257466   \n",
       "3  3704  1.062129e+08   47970.901277   \n",
       "4  4015  8.105438e+07   50007.415493   \n",
       "\n",
       "                                            geometry  \n",
       "0  POLYGON ((-73.89641133483133 40.90450452082026...  \n",
       "1  POLYGON ((-73.8442314689986 40.86942035096838,...  \n",
       "2  (POLYGON ((-73.78833349834532 40.8346671297593...  \n",
       "3  POLYGON ((-73.84792614069238 40.8713422330779,...  \n",
       "4  POLYGON ((-73.95374853778468 40.63858633758547...  "
      ]
     },
     "execution_count": 51,
     "metadata": {},
     "output_type": "execute_result"
    }
   ],
   "source": [
    "pumashp = gpd.read_file(os.getenv('PUIDATA')+'/puma/geo_export_ccf32db0-1970-4aa1-af86-76f290215cd4.shp')\n",
    "pumashp.head()"
   ]
  },
  {
   "cell_type": "code",
   "execution_count": 52,
   "metadata": {},
   "outputs": [],
   "source": [
    "pumashp.puma = pumashp.puma.astype(int)"
   ]
  },
  {
   "cell_type": "code",
   "execution_count": 53,
   "metadata": {},
   "outputs": [
    {
     "data": {
      "text/plain": [
       "{'init': 'epsg:4326'}"
      ]
     },
     "execution_count": 53,
     "metadata": {},
     "output_type": "execute_result"
    }
   ],
   "source": [
    "pumashp.crs"
   ]
  },
  {
   "cell_type": "markdown",
   "metadata": {},
   "source": [
    "## 1.2  plot the PUMA NYC regions\n",
    "\n",
    "you can use the geopandas function plot. \n",
    "What is the appropriate plot to just show the shape of the PUMA regions? A choropleth could be ok, but it is better to just draw the contours of the region, since we do not want to highlight some regions over others by color choices. \n",
    "\n",
    "(Note: a while ago I wrote a quick function that plots choropleths and maps of NYC specifically putting legends and colorbars in the empty spaces taking advantage of the shape of the city and you are welcome to use it: https://github.com/fedhere/choroplethNYC. BUT YOU DO NOT HAVE TO)\n",
    "\n",
    "If you want to learn how to install a package from within the notebook look here https://jakevdp.github.io/blog/2017/12/05/installing-python-packages-from-jupyter/\n",
    "\n",
    "Your map should look someting like:"
   ]
  },
  {
   "cell_type": "code",
   "execution_count": 54,
   "metadata": {},
   "outputs": [
    {
     "data": {
      "image/png": "[encoded data removed]",
      "text/plain": [
       "<Figure size 720x720 with 1 Axes>"
      ]
     },
     "metadata": {},
     "output_type": "display_data"
    },
    {
     "data": {
      "image/png": "[encoded data removed]",
      "text/plain": [
       "<Figure size 720x720 with 1 Axes>"
      ]
     },
     "metadata": {},
     "output_type": "display_data"
    }
   ],
   "source": [
    "# using the built in plot function as pumashp.plot(pumashp....)\n",
    "fig = pumashp.plot(color=\"white\", edgecolor=\"black\",lw=2,figsize=(10,10))# using plot function for geopandas\n",
    "fig.set_title('Using Plot func of gpd')\n",
    "fig.get_xaxis().set_visible(False)\n",
    "fig.get_yaxis().set_visible(False)\n",
    "import choroplethNYC as cp\n",
    "fig2 = cp.choroplethNYC(pumashp, column=None, color=\"white\", edgecolor=\"black\", lw=2);#using the function choroplethNYC "
   ]
  },
  {
   "cell_type": "markdown",
   "metadata": {},
   "source": [
    "### Figure 1a and 1b :-The 2 plots show the different regions of NYC as they are present in the puma shape file"
   ]
  },
  {
   "cell_type": "markdown",
   "metadata": {},
   "source": [
    "# 2. American Fact Finder data on percentage of houses with broadband internet access\n",
    "\n",
    "Download the table of data from 2016 for NYC: you want to obtain data on broadband access (percentage of households with broadband access) at the PUMA (Public Use Microdata Area) geographical area level. \n",
    "\n",
    "This may be tricky. But familiarizing with Census and American Commjunity Survey data is super important for urban science. Here you should use the API, but you should also practice interacting with the website: \n",
    "\n",
    "You  should read the datta in thgouth the API but also download the data manually and compare the two datasets."
   ]
  },
  {
   "cell_type": "markdown",
   "metadata": {},
   "source": [
    "## 2.1 Get data with American Fact Finder (AFF) API: \n",
    "you can request an API key, although I think it is not necessary for this search (but it is good to practice). Obtain a key and save it into a python file. DO NOT UPLOAD THE FILE CONTAINING THE API KEY TO GITHUB. Keep your API keys private. "
   ]
  },
  {
   "cell_type": "code",
   "execution_count": 55,
   "metadata": {},
   "outputs": [
    {
     "name": "stdout",
     "output_type": "stream",
     "text": [
      "/Users/soham/Desktop/PUI/PUIDATA\n"
     ]
    }
   ],
   "source": [
    "cd /Users/soham/Desktop/PUI/PUIDATA"
   ]
  },
  {
   "cell_type": "code",
   "execution_count": 56,
   "metadata": {},
   "outputs": [],
   "source": [
    "from APIKEY import myAPI"
   ]
  },
  {
   "cell_type": "markdown",
   "metadata": {},
   "source": [
    "If you need help with the API you can ask questions in this [Gitter channel](https://gitter.im/uscensusbureau/general) (I did myself to design this homework!) \n",
    "The internet subscription by household is data surveyd annually. You can find out what are the features that you can query through the API for the annually surveyed data at this url: https://api.census.gov/data/2016/acs/acs1/variables.json\n",
    "\n",
    "read it in as a jason file - you can do it with pandas (but it is slow). You can do it as I do below with the request package"
   ]
  },
  {
   "cell_type": "code",
   "execution_count": 57,
   "metadata": {},
   "outputs": [],
   "source": [
    "#read in in the variables available. the info you need is in the 1year ACS data\n",
    "url = \"https://api.census.gov/data/2016/acs/acs1/variables.json\"\n",
    "resp = requests.request('GET', url)\n",
    "aff1y = json.loads(resp.text)"
   ]
  },
  {
   "cell_type": "code",
   "execution_count": 58,
   "metadata": {},
   "outputs": [],
   "source": [
    "#turning things into arrays to enable broadcasting\n",
    "#Python3\n",
    "affkeys = np.array(list(aff1y['variables'].keys()))\n",
    "#Python2\n",
    "#affkeys = np.array(aff1y['variables'].keys())"
   ]
  },
  {
   "cell_type": "markdown",
   "metadata": {},
   "source": [
    "You need two features: **total number of households**, and **number of households with broadband access**\n",
    "\n",
    "Broadband access is one of the B28002 keys. However there are many of those! Each variable has several observations associated to it: B28002 is all internet access data (broadband, dial up, none, ...), and for each of those you have the estimate (count, mean, median, percentage...), the margin of errors, and annotations. Those are identified by an appendix that begins with \"\\_\". Look carefully at the line of code below and its output. I am creating a list that contains the keys of the dictionary I created from the json file for all B28002 observations  (rows that start with \"B28002\") that include the word \"Broadband\" in the description.\n",
    "\n",
    "The syntax is a lost comprehension:\n",
    "\n",
    "        as = \\[a for a in listOfAs\\] \n",
    "\n",
    "is simply a compact way to write\n",
    "\n",
    "        as = \\[\\]\n",
    "        for a in listOfAs:\n",
    "            as.append(a)\n",
    "            \n",
    "with an if statement tha selects broadband         "
   ]
  },
  {
   "cell_type": "code",
   "execution_count": 59,
   "metadata": {},
   "outputs": [
    {
     "data": {
      "text/plain": [
       "[('B28002_008E',\n",
       "  'Estimate!!Total!!With an Internet subscription!!Broadband such as cable, fiber optic or DSL!!Broadband such as cable, fiber optic or DSL with no other type of Internet subscription'),\n",
       " ('B28002_007E',\n",
       "  'Estimate!!Total!!With an Internet subscription!!Broadband such as cable, fiber optic or DSL'),\n",
       " ('B28002_004E',\n",
       "  'Estimate!!Total!!With an Internet subscription!!Broadband of any type')]"
      ]
     },
     "execution_count": 59,
     "metadata": {},
     "output_type": "execute_result"
    }
   ],
   "source": [
    "#extracting variables of B28002 that contain \"broadband\"\n",
    "[(k, aff1y['variables'][k]['label'])  for k in affkeys if k.startswith (\"B28002\") and \n",
    " 'Broadband' in aff1y['variables'][k]['label']]"
   ]
  },
  {
   "cell_type": "markdown",
   "metadata": {},
   "source": [
    "chose the appropriate variable and extract the relevant data: below I select the variable containing the number of household per PUMA. The \"all\" variable, which tells you what is the total number of units queried (households here) is generally stored in the \\_001 variable (B28002_001 in this case). \"E\" stands for *estimate*. M stands for *margin of error*, EA *estimate annotations*, MA *margin of error annotations*. You want the estimate for this exercise. "
   ]
  },
  {
   "cell_type": "code",
   "execution_count": 60,
   "metadata": {},
   "outputs": [
    {
     "data": {
      "text/plain": [
       "{'label': 'Estimate!!Total',\n",
       " 'concept': 'PRESENCE AND TYPES OF INTERNET SUBSCRIPTIONS IN HOUSEHOLD',\n",
       " 'predicateType': 'int',\n",
       " 'group': 'B28002',\n",
       " 'limit': 0,\n",
       " 'attributes': 'B28002_001M,B28002_001EA'}"
      ]
     },
     "execution_count": 60,
     "metadata": {},
     "output_type": "execute_result"
    }
   ],
   "source": [
    "#keyword for the number of households\n",
    "keyNhouseholds = 'B28002_001E'\n",
    "aff1y['variables'][keyNhouseholds]"
   ]
  },
  {
   "cell_type": "markdown",
   "metadata": {},
   "source": [
    "Similarly, choose the fractions of houses with any \"With an Internet subscription!!Broadband of any type\""
   ]
  },
  {
   "cell_type": "code",
   "execution_count": 61,
   "metadata": {},
   "outputs": [
    {
     "data": {
      "text/plain": [
       "{'label': 'Estimate!!Total!!With an Internet subscription!!Broadband of any type',\n",
       " 'concept': 'PRESENCE AND TYPES OF INTERNET SUBSCRIPTIONS IN HOUSEHOLD',\n",
       " 'predicateType': 'int',\n",
       " 'group': 'B28002',\n",
       " 'limit': 0,\n",
       " 'attributes': 'B28002_004M,B28002_004EA'}"
      ]
     },
     "execution_count": 61,
     "metadata": {},
     "output_type": "execute_result"
    }
   ],
   "source": [
    "#keyword for the number of households with broarband access\n",
    "keyNBB = 'B28002_004E'\n",
    "aff1y['variables'][keyNBB]"
   ]
  },
  {
   "cell_type": "markdown",
   "metadata": {},
   "source": [
    "Now that you have the variable names use them to extract the relevant data with the ACS API. \n",
    "\n",
    "The API url is as follows:\n",
    "\n",
    "root: https://api.census.gov/data/2016/acs/acs1\n",
    "\n",
    "action: get=\\[variable Name\\],NAME\n",
    "\n",
    "geometry: for=\\[geometry\\]:\\[desired geometry values\\]in=\\[larger geometry\\]:\\[desired larger geometry values\\]\n",
    "\n",
    "API key: key:\\[api key\\]\n",
    "\n",
    "the URL is constructed as root?action&geometry&key\n",
    "\n",
    "Note that it took me a long time to figure out how to request the right geometry: in the url I write below the geometry is \"public%20use%20microdata%20area\" where %20 is the character for ' ' (space) in a url, and \":\\*\" means all PUMAS\n",
    "\n",
    "state:36 is New York State"
   ]
  },
  {
   "cell_type": "code",
   "execution_count": 62,
   "metadata": {},
   "outputs": [
    {
     "data": {
      "text/html": [
       "<div>\n",
       "<style scoped>\n",
       "    .dataframe tbody tr th:only-of-type {\n",
       "        vertical-align: middle;\n",
       "    }\n",
       "\n",
       "    .dataframe tbody tr th {\n",
       "        vertical-align: top;\n",
       "    }\n",
       "\n",
       "    .dataframe thead th {\n",
       "        text-align: right;\n",
       "    }\n",
       "</style>\n",
       "<table border=\"1\" class=\"dataframe\">\n",
       "  <thead>\n",
       "    <tr style=\"text-align: right;\">\n",
       "      <th></th>\n",
       "      <th>B28002_004E</th>\n",
       "      <th>NAME</th>\n",
       "      <th>state</th>\n",
       "      <th>public use microdata area</th>\n",
       "      <th>Unnamed: 4</th>\n",
       "    </tr>\n",
       "  </thead>\n",
       "  <tbody>\n",
       "    <tr>\n",
       "      <th>0</th>\n",
       "      <td>32607</td>\n",
       "      <td>St. Lawrence County PUMA, New York</td>\n",
       "      <td>36</td>\n",
       "      <td>100</td>\n",
       "      <td>NaN</td>\n",
       "    </tr>\n",
       "    <tr>\n",
       "      <th>1</th>\n",
       "      <td>50811</td>\n",
       "      <td>Clinton, Franklin, Essex &amp; Hamilton Counties P...</td>\n",
       "      <td>36</td>\n",
       "      <td>200</td>\n",
       "      <td>NaN</td>\n",
       "    </tr>\n",
       "    <tr>\n",
       "      <th>2</th>\n",
       "      <td>41210</td>\n",
       "      <td>Warren &amp; Washington Counties PUMA, New York</td>\n",
       "      <td>36</td>\n",
       "      <td>300</td>\n",
       "      <td>NaN</td>\n",
       "    </tr>\n",
       "    <tr>\n",
       "      <th>3</th>\n",
       "      <td>36075</td>\n",
       "      <td>Herkimer (North &amp; Central) &amp; Oneida (Outer) Co...</td>\n",
       "      <td>36</td>\n",
       "      <td>401</td>\n",
       "      <td>NaN</td>\n",
       "    </tr>\n",
       "    <tr>\n",
       "      <th>4</th>\n",
       "      <td>47786</td>\n",
       "      <td>Oneida County (Central)--Greater Utica &amp; Rome ...</td>\n",
       "      <td>36</td>\n",
       "      <td>402</td>\n",
       "      <td>NaN</td>\n",
       "    </tr>\n",
       "  </tbody>\n",
       "</table>\n",
       "</div>"
      ],
      "text/plain": [
       "   B28002_004E                                               NAME  state  \\\n",
       "0        32607                 St. Lawrence County PUMA, New York     36   \n",
       "1        50811  Clinton, Franklin, Essex & Hamilton Counties P...     36   \n",
       "2        41210        Warren & Washington Counties PUMA, New York     36   \n",
       "3        36075  Herkimer (North & Central) & Oneida (Outer) Co...     36   \n",
       "4        47786  Oneida County (Central)--Greater Utica & Rome ...     36   \n",
       "\n",
       "   public use microdata area  Unnamed: 4  \n",
       "0                        100         NaN  \n",
       "1                        200         NaN  \n",
       "2                        300         NaN  \n",
       "3                        401         NaN  \n",
       "4                        402         NaN  "
      ]
     },
     "execution_count": 62,
     "metadata": {},
     "output_type": "execute_result"
    }
   ],
   "source": [
    "# getting the broadband access number of households\n",
    "url = \"https://api.census.gov/data/2016/acs/acs1?get=\" + keyNBB +\\\n",
    "\",NAME&for=public%20use%20microdata%20area:*&in=state:36&key=\" + myAPI\n",
    "resp = requests.request('GET', url).content\n",
    "pumaBB = pd.read_csv(io.StringIO(resp.decode('utf-8').replace('[','').replace(']','')))\n",
    "\n",
    "pumaBB.head()"
   ]
  },
  {
   "cell_type": "code",
   "execution_count": 63,
   "metadata": {},
   "outputs": [
    {
     "data": {
      "text/html": [
       "<div>\n",
       "<style scoped>\n",
       "    .dataframe tbody tr th:only-of-type {\n",
       "        vertical-align: middle;\n",
       "    }\n",
       "\n",
       "    .dataframe tbody tr th {\n",
       "        vertical-align: top;\n",
       "    }\n",
       "\n",
       "    .dataframe thead th {\n",
       "        text-align: right;\n",
       "    }\n",
       "</style>\n",
       "<table border=\"1\" class=\"dataframe\">\n",
       "  <thead>\n",
       "    <tr style=\"text-align: right;\">\n",
       "      <th></th>\n",
       "      <th>B28002_001E</th>\n",
       "      <th>NAME</th>\n",
       "      <th>state</th>\n",
       "      <th>public use microdata area</th>\n",
       "      <th>Unnamed: 4</th>\n",
       "    </tr>\n",
       "  </thead>\n",
       "  <tbody>\n",
       "    <tr>\n",
       "      <th>0</th>\n",
       "      <td>40479</td>\n",
       "      <td>St. Lawrence County PUMA, New York</td>\n",
       "      <td>36</td>\n",
       "      <td>100</td>\n",
       "      <td>NaN</td>\n",
       "    </tr>\n",
       "    <tr>\n",
       "      <th>1</th>\n",
       "      <td>67092</td>\n",
       "      <td>Clinton, Franklin, Essex &amp; Hamilton Counties P...</td>\n",
       "      <td>36</td>\n",
       "      <td>200</td>\n",
       "      <td>NaN</td>\n",
       "    </tr>\n",
       "    <tr>\n",
       "      <th>2</th>\n",
       "      <td>51614</td>\n",
       "      <td>Warren &amp; Washington Counties PUMA, New York</td>\n",
       "      <td>36</td>\n",
       "      <td>300</td>\n",
       "      <td>NaN</td>\n",
       "    </tr>\n",
       "    <tr>\n",
       "      <th>3</th>\n",
       "      <td>44300</td>\n",
       "      <td>Herkimer (North &amp; Central) &amp; Oneida (Outer) Co...</td>\n",
       "      <td>36</td>\n",
       "      <td>401</td>\n",
       "      <td>NaN</td>\n",
       "    </tr>\n",
       "    <tr>\n",
       "      <th>4</th>\n",
       "      <td>61146</td>\n",
       "      <td>Oneida County (Central)--Greater Utica &amp; Rome ...</td>\n",
       "      <td>36</td>\n",
       "      <td>402</td>\n",
       "      <td>NaN</td>\n",
       "    </tr>\n",
       "  </tbody>\n",
       "</table>\n",
       "</div>"
      ],
      "text/plain": [
       "   B28002_001E                                               NAME  state  \\\n",
       "0        40479                 St. Lawrence County PUMA, New York     36   \n",
       "1        67092  Clinton, Franklin, Essex & Hamilton Counties P...     36   \n",
       "2        51614        Warren & Washington Counties PUMA, New York     36   \n",
       "3        44300  Herkimer (North & Central) & Oneida (Outer) Co...     36   \n",
       "4        61146  Oneida County (Central)--Greater Utica & Rome ...     36   \n",
       "\n",
       "   public use microdata area  Unnamed: 4  \n",
       "0                        100         NaN  \n",
       "1                        200         NaN  \n",
       "2                        300         NaN  \n",
       "3                        401         NaN  \n",
       "4                        402         NaN  "
      ]
     },
     "execution_count": 63,
     "metadata": {},
     "output_type": "execute_result"
    }
   ],
   "source": [
    "#getting the first row of the table: the total number of households\n",
    "url = \"https://api.census.gov/data/2016/acs/acs1?get=\" + keyNhouseholds +\\\n",
    "\",NAME&for=public%20use%20microdata%20area:*&in=state:36&key=\" + myAPI\n",
    "resp = requests.request('GET', url).content\n",
    "pumaPP = pd.read_csv(io.StringIO(resp.decode('utf-8').replace('[','').replace(']','')))\n",
    "\n",
    "pumaPP.head()"
   ]
  },
  {
   "cell_type": "markdown",
   "metadata": {},
   "source": [
    "## 2.2 generate a feature for the percentage of households with broadband access"
   ]
  },
  {
   "cell_type": "code",
   "execution_count": 64,
   "metadata": {},
   "outputs": [
    {
     "data": {
      "text/html": [
       "<div>\n",
       "<style scoped>\n",
       "    .dataframe tbody tr th:only-of-type {\n",
       "        vertical-align: middle;\n",
       "    }\n",
       "\n",
       "    .dataframe tbody tr th {\n",
       "        vertical-align: top;\n",
       "    }\n",
       "\n",
       "    .dataframe thead th {\n",
       "        text-align: right;\n",
       "    }\n",
       "</style>\n",
       "<table border=\"1\" class=\"dataframe\">\n",
       "  <thead>\n",
       "    <tr style=\"text-align: right;\">\n",
       "      <th></th>\n",
       "      <th>B28002_004E</th>\n",
       "      <th>NAME</th>\n",
       "      <th>state</th>\n",
       "      <th>public use microdata area</th>\n",
       "      <th>B28002_001E</th>\n",
       "      <th>pcBB</th>\n",
       "    </tr>\n",
       "  </thead>\n",
       "  <tbody>\n",
       "    <tr>\n",
       "      <th>0</th>\n",
       "      <td>32607</td>\n",
       "      <td>St. Lawrence County PUMA, New York</td>\n",
       "      <td>36</td>\n",
       "      <td>100</td>\n",
       "      <td>40479</td>\n",
       "      <td>80.552879</td>\n",
       "    </tr>\n",
       "    <tr>\n",
       "      <th>1</th>\n",
       "      <td>50811</td>\n",
       "      <td>Clinton, Franklin, Essex &amp; Hamilton Counties P...</td>\n",
       "      <td>36</td>\n",
       "      <td>200</td>\n",
       "      <td>67092</td>\n",
       "      <td>75.733321</td>\n",
       "    </tr>\n",
       "    <tr>\n",
       "      <th>2</th>\n",
       "      <td>41210</td>\n",
       "      <td>Warren &amp; Washington Counties PUMA, New York</td>\n",
       "      <td>36</td>\n",
       "      <td>300</td>\n",
       "      <td>51614</td>\n",
       "      <td>79.842678</td>\n",
       "    </tr>\n",
       "    <tr>\n",
       "      <th>3</th>\n",
       "      <td>36075</td>\n",
       "      <td>Herkimer (North &amp; Central) &amp; Oneida (Outer) Co...</td>\n",
       "      <td>36</td>\n",
       "      <td>401</td>\n",
       "      <td>44300</td>\n",
       "      <td>81.433409</td>\n",
       "    </tr>\n",
       "    <tr>\n",
       "      <th>4</th>\n",
       "      <td>47786</td>\n",
       "      <td>Oneida County (Central)--Greater Utica &amp; Rome ...</td>\n",
       "      <td>36</td>\n",
       "      <td>402</td>\n",
       "      <td>61146</td>\n",
       "      <td>78.150656</td>\n",
       "    </tr>\n",
       "  </tbody>\n",
       "</table>\n",
       "</div>"
      ],
      "text/plain": [
       "   B28002_004E                                               NAME  state  \\\n",
       "0        32607                 St. Lawrence County PUMA, New York     36   \n",
       "1        50811  Clinton, Franklin, Essex & Hamilton Counties P...     36   \n",
       "2        41210        Warren & Washington Counties PUMA, New York     36   \n",
       "3        36075  Herkimer (North & Central) & Oneida (Outer) Co...     36   \n",
       "4        47786  Oneida County (Central)--Greater Utica & Rome ...     36   \n",
       "\n",
       "   public use microdata area  B28002_001E       pcBB  \n",
       "0                        100        40479  80.552879  \n",
       "1                        200        67092  75.733321  \n",
       "2                        300        51614  79.842678  \n",
       "3                        401        44300  81.433409  \n",
       "4                        402        61146  78.150656  "
      ]
     },
     "execution_count": 64,
     "metadata": {},
     "output_type": "execute_result"
    }
   ],
   "source": [
    "pumaBB = pumaBB.merge(pumaPP,how='inner',on=['public use microdata area','state','NAME'])\n",
    "pumaBB.drop(['Unnamed: 4_x','Unnamed: 4_y'],axis=1,inplace=True)\n",
    "pumaBB['pcBB'] = (pumaBB.B28002_004E)/(pumaBB.B28002_001E)*100\n",
    "pumaBB.head()"
   ]
  },
  {
   "cell_type": "markdown",
   "metadata": {},
   "source": [
    "## 2.3 Now compare it with the AFF published \"percentage of households with broadband access\" which is a feature available through their website but that cannot be downloaded directly from the API. It compiled by AFF the same way we did above"
   ]
  },
  {
   "cell_type": "markdown",
   "metadata": {},
   "source": [
    "Manually you can download the GCT Geographic Comparison Tables. Download the GCT table that contains the percentage of households in each PUMA with broadband internet subscription as follows:\n",
    "\n",
    "https://factfinder.census.gov/ -> Advanced Search -> Show me all \n",
    "\n",
    "    - Topics: Product Type -> Geography Comparison Table \n",
    "    \n",
    "select the PERCENT OF HOUSEHOLDS WITH A BROADBAND INTERNET SUBSCRIPTION  at our geography granularity (PUMA) and click Download below. This will generate the table on the fly and you can click again on Download.\n",
    "\n",
    "Move the file into the PUIdata directory, unzip it and load it with pandas.\n",
    "    \n",
    "Your table shold be labeled as: GCT2801\t"
   ]
  },
  {
   "cell_type": "markdown",
   "metadata": {},
   "source": [
    "One more hurdle: you need to move this data to jupyterhub/compute, and the link is not something you can copy and paste!\n",
    "Two solutions:\n",
    "\n",
    "-easier but less preferible: upload the table you downloaded locally to github AWS, or else where, and download it from compute\n",
    "\n",
    "-otherwise, learn how to do it with sftp from your local terminal: these are the steps\n",
    "\n",
    "1. ON YOUR LOCAL MACHINE where you downloaded the table (which was downloaded as aff_download.zip for me in my ~/Downloads folder) type the following *sftp* command\n",
    "        \n",
    "        fbianco@Federicas-MacBook-Air:~$ sftp fbianco@staging.cusp.nyu.edu\n",
    "    \n",
    "2. Input your password\n",
    "            \n",
    "        Password: \n",
    "        Connected to staging.cusp.nyu.edu.\n",
    "\n",
    "   This should open an sftp promopt (you should see sftp> at the beginning of the line). Go to the PUI directory (for me /home/fbianco/PUIdata)\n",
    "    \n",
    "        sftp> cd /home/fbianco/PUIdata             \n",
    "        \n",
    "3. Use the sftp command _put_ to copy the file from the local to the remote machine to compute, making sure you use the full path (unless the file was downloaded in your local directory in the local machine)\n",
    "    \n",
    "        sftp> put /Users/fbianco/Downloads/aff_download.zip\n",
    "        \n",
    "You should see:\n",
    "\n",
    "            Uploading /Users/fbianco/Downloads/aff_download.zip to ....\n",
    "\n",
    "And the file can be unzipped and read into your code with pandas. I leave the read in line below for your convenience, those are the only variables you need."
   ]
  },
  {
   "cell_type": "code",
   "execution_count": 65,
   "metadata": {},
   "outputs": [
    {
     "data": {
      "text/html": [
       "<div>\n",
       "<style scoped>\n",
       "    .dataframe tbody tr th:only-of-type {\n",
       "        vertical-align: middle;\n",
       "    }\n",
       "\n",
       "    .dataframe tbody tr th {\n",
       "        vertical-align: top;\n",
       "    }\n",
       "\n",
       "    .dataframe thead th {\n",
       "        text-align: right;\n",
       "    }\n",
       "</style>\n",
       "<table border=\"1\" class=\"dataframe\">\n",
       "  <thead>\n",
       "    <tr style=\"text-align: right;\">\n",
       "      <th></th>\n",
       "      <th>GCT_STUB.target-geo-id2</th>\n",
       "      <th>HC01</th>\n",
       "      <th>HC02</th>\n",
       "    </tr>\n",
       "  </thead>\n",
       "  <tbody>\n",
       "    <tr>\n",
       "      <th>0</th>\n",
       "      <td>Target Geo Id2</td>\n",
       "      <td>Percent</td>\n",
       "      <td>Margin of Error</td>\n",
       "    </tr>\n",
       "    <tr>\n",
       "      <th>1</th>\n",
       "      <td>36</td>\n",
       "      <td>81.7</td>\n",
       "      <td>0.2</td>\n",
       "    </tr>\n",
       "    <tr>\n",
       "      <th>2</th>\n",
       "      <td>3600100</td>\n",
       "      <td>80.6</td>\n",
       "      <td>2.6</td>\n",
       "    </tr>\n",
       "    <tr>\n",
       "      <th>3</th>\n",
       "      <td>3600200</td>\n",
       "      <td>75.7</td>\n",
       "      <td>2.2</td>\n",
       "    </tr>\n",
       "    <tr>\n",
       "      <th>4</th>\n",
       "      <td>3600300</td>\n",
       "      <td>79.8</td>\n",
       "      <td>2.6</td>\n",
       "    </tr>\n",
       "  </tbody>\n",
       "</table>\n",
       "</div>"
      ],
      "text/plain": [
       "  GCT_STUB.target-geo-id2     HC01             HC02\n",
       "0          Target Geo Id2  Percent  Margin of Error\n",
       "1                      36     81.7              0.2\n",
       "2                 3600100     80.6              2.6\n",
       "3                 3600200     75.7              2.2\n",
       "4                 3600300     79.8              2.6"
      ]
     },
     "execution_count": 65,
     "metadata": {},
     "output_type": "execute_result"
    }
   ],
   "source": [
    "bbpc = pd.read_csv(os.getenv(\"PUIDATA\") + \"/aff_download/ACS_16_1YR_GCT2801.ST50_with_ann.csv\",\n",
    "            usecols=[\"GCT_STUB.target-geo-id2\",\"HC01\",\"HC02\"])\n",
    "bbpc.head()"
   ]
  },
  {
   "cell_type": "markdown",
   "metadata": {},
   "source": [
    "notice 2 things:\n",
    "    - that the Target Geo Id2: GCT_STUB.target-geo-id2 is a 7 digits number. See my comment above about it. \n",
    "    - that there is a weird double header. You can deal with it in one of 2 ways: either reread the file in skipping one row and using the second row as header, or remove that row (for example with bbpc.drop(0, inplace=True)) but also then you should check the *type* of your GCT_STUB.target-geo-id2 feature! The fact that pandas had to read in a column with nombers and characters forced it to read it as a string, and you need to convert it (.astype(int)) to merge it easily with the API acquired data.\n",
    "    \n",
    "In the API dataframe the PUMA id was a 4 digit number. If you have them both as integers and you remove the initial three digits (for example by subtracting 360000 from each value wich you can do as bbpc[\"gid\"] = bbpc.gid - 3600000 then you can merge on the puma id "
   ]
  },
  {
   "cell_type": "code",
   "execution_count": 66,
   "metadata": {},
   "outputs": [],
   "source": [
    "bbpc.drop([0,1],inplace=True)#getting rid of the double header\n",
    "bbpc.reset_index(drop=True, inplace=True)\n",
    "bbpc.rename({'GCT_STUB.target-geo-id2':'gid'},axis=1,inplace=True)"
   ]
  },
  {
   "cell_type": "code",
   "execution_count": 67,
   "metadata": {},
   "outputs": [
    {
     "data": {
      "text/plain": [
       "str"
      ]
     },
     "execution_count": 67,
     "metadata": {},
     "output_type": "execute_result"
    }
   ],
   "source": [
    "type(bbpc.gid[0])"
   ]
  },
  {
   "cell_type": "code",
   "execution_count": 68,
   "metadata": {},
   "outputs": [],
   "source": [
    "bbpc.gid = bbpc.gid.astype(int)#convert to int\n",
    "bbpc.HC01 = bbpc.HC01.astype(float)#to float\n",
    "bbpc.HC02 = bbpc.HC02.astype(float)"
   ]
  },
  {
   "cell_type": "code",
   "execution_count": 69,
   "metadata": {},
   "outputs": [
    {
     "data": {
      "text/plain": [
       "numpy.int64"
      ]
     },
     "execution_count": 69,
     "metadata": {},
     "output_type": "execute_result"
    }
   ],
   "source": [
    "type(bbpc.gid[0])"
   ]
  },
  {
   "cell_type": "code",
   "execution_count": 70,
   "metadata": {},
   "outputs": [],
   "source": [
    "bbpc.gid = bbpc.gid - 3600000 #all concerns addressed and dataframe ready to merge"
   ]
  },
  {
   "cell_type": "code",
   "execution_count": 71,
   "metadata": {},
   "outputs": [
    {
     "data": {
      "text/html": [
       "<div>\n",
       "<style scoped>\n",
       "    .dataframe tbody tr th:only-of-type {\n",
       "        vertical-align: middle;\n",
       "    }\n",
       "\n",
       "    .dataframe tbody tr th {\n",
       "        vertical-align: top;\n",
       "    }\n",
       "\n",
       "    .dataframe thead th {\n",
       "        text-align: right;\n",
       "    }\n",
       "</style>\n",
       "<table border=\"1\" class=\"dataframe\">\n",
       "  <thead>\n",
       "    <tr style=\"text-align: right;\">\n",
       "      <th></th>\n",
       "      <th>gid</th>\n",
       "      <th>HC01</th>\n",
       "      <th>HC02</th>\n",
       "    </tr>\n",
       "  </thead>\n",
       "  <tbody>\n",
       "    <tr>\n",
       "      <th>0</th>\n",
       "      <td>100</td>\n",
       "      <td>80.6</td>\n",
       "      <td>2.6</td>\n",
       "    </tr>\n",
       "    <tr>\n",
       "      <th>1</th>\n",
       "      <td>200</td>\n",
       "      <td>75.7</td>\n",
       "      <td>2.2</td>\n",
       "    </tr>\n",
       "    <tr>\n",
       "      <th>2</th>\n",
       "      <td>300</td>\n",
       "      <td>79.8</td>\n",
       "      <td>2.6</td>\n",
       "    </tr>\n",
       "    <tr>\n",
       "      <th>3</th>\n",
       "      <td>401</td>\n",
       "      <td>81.4</td>\n",
       "      <td>2.4</td>\n",
       "    </tr>\n",
       "    <tr>\n",
       "      <th>4</th>\n",
       "      <td>402</td>\n",
       "      <td>78.2</td>\n",
       "      <td>2.3</td>\n",
       "    </tr>\n",
       "  </tbody>\n",
       "</table>\n",
       "</div>"
      ],
      "text/plain": [
       "   gid  HC01  HC02\n",
       "0  100  80.6   2.6\n",
       "1  200  75.7   2.2\n",
       "2  300  79.8   2.6\n",
       "3  401  81.4   2.4\n",
       "4  402  78.2   2.3"
      ]
     },
     "execution_count": 71,
     "metadata": {},
     "output_type": "execute_result"
    }
   ],
   "source": [
    "bbpc.head()"
   ]
  },
  {
   "cell_type": "markdown",
   "metadata": {},
   "source": [
    "## check that the percentage of households with broadband you generated and the one you red in from the table you downloaded manually are the same"
   ]
  },
  {
   "cell_type": "code",
   "execution_count": 72,
   "metadata": {},
   "outputs": [
    {
     "data": {
      "text/html": [
       "<div>\n",
       "<style scoped>\n",
       "    .dataframe tbody tr th:only-of-type {\n",
       "        vertical-align: middle;\n",
       "    }\n",
       "\n",
       "    .dataframe tbody tr th {\n",
       "        vertical-align: top;\n",
       "    }\n",
       "\n",
       "    .dataframe thead th {\n",
       "        text-align: right;\n",
       "    }\n",
       "</style>\n",
       "<table border=\"1\" class=\"dataframe\">\n",
       "  <thead>\n",
       "    <tr style=\"text-align: right;\">\n",
       "      <th></th>\n",
       "      <th>pcBB</th>\n",
       "      <th>HC01</th>\n",
       "      <th>diff</th>\n",
       "    </tr>\n",
       "  </thead>\n",
       "  <tbody>\n",
       "    <tr>\n",
       "      <th>count</th>\n",
       "      <td>145.000000</td>\n",
       "      <td>145.000000</td>\n",
       "      <td>145.000000</td>\n",
       "    </tr>\n",
       "    <tr>\n",
       "      <th>mean</th>\n",
       "      <td>81.845478</td>\n",
       "      <td>81.843448</td>\n",
       "      <td>0.026217</td>\n",
       "    </tr>\n",
       "    <tr>\n",
       "      <th>std</th>\n",
       "      <td>7.063369</td>\n",
       "      <td>7.065358</td>\n",
       "      <td>0.014480</td>\n",
       "    </tr>\n",
       "    <tr>\n",
       "      <th>min</th>\n",
       "      <td>54.932945</td>\n",
       "      <td>54.900000</td>\n",
       "      <td>0.000178</td>\n",
       "    </tr>\n",
       "    <tr>\n",
       "      <th>25%</th>\n",
       "      <td>77.770257</td>\n",
       "      <td>77.800000</td>\n",
       "      <td>0.012252</td>\n",
       "    </tr>\n",
       "    <tr>\n",
       "      <th>50%</th>\n",
       "      <td>82.826141</td>\n",
       "      <td>82.800000</td>\n",
       "      <td>0.027230</td>\n",
       "    </tr>\n",
       "    <tr>\n",
       "      <th>75%</th>\n",
       "      <td>87.305077</td>\n",
       "      <td>87.300000</td>\n",
       "      <td>0.039090</td>\n",
       "    </tr>\n",
       "    <tr>\n",
       "      <th>max</th>\n",
       "      <td>93.404143</td>\n",
       "      <td>93.400000</td>\n",
       "      <td>0.049872</td>\n",
       "    </tr>\n",
       "  </tbody>\n",
       "</table>\n",
       "</div>"
      ],
      "text/plain": [
       "             pcBB        HC01        diff\n",
       "count  145.000000  145.000000  145.000000\n",
       "mean    81.845478   81.843448    0.026217\n",
       "std      7.063369    7.065358    0.014480\n",
       "min     54.932945   54.900000    0.000178\n",
       "25%     77.770257   77.800000    0.012252\n",
       "50%     82.826141   82.800000    0.027230\n",
       "75%     87.305077   87.300000    0.039090\n",
       "max     93.404143   93.400000    0.049872"
      ]
     },
     "execution_count": 72,
     "metadata": {},
     "output_type": "execute_result"
    }
   ],
   "source": [
    "diff_ = pumaBB.merge(bbpc, right_on=\"gid\", left_on=\"public use microdata area\")[[\"pcBB\", \"HC01\"]]\n",
    "diff_[\"diff\"] = np.abs(diff_[\"pcBB\"] - diff_[\"HC01\"])\n",
    "diff_.describe()"
   ]
  },
  {
   "cell_type": "markdown",
   "metadata": {},
   "source": [
    "the maximum difference should only be a few percent"
   ]
  },
  {
   "cell_type": "markdown",
   "metadata": {},
   "source": [
    "# 3 Plot a choropleth of NYC broadband access \n",
    "## 3.1 Merge with the puma geodataframe and plot a choropleth of the percentage of households with broadband access"
   ]
  },
  {
   "cell_type": "code",
   "execution_count": 73,
   "metadata": {},
   "outputs": [
    {
     "data": {
      "text/html": [
       "<div>\n",
       "<style scoped>\n",
       "    .dataframe tbody tr th:only-of-type {\n",
       "        vertical-align: middle;\n",
       "    }\n",
       "\n",
       "    .dataframe tbody tr th {\n",
       "        vertical-align: top;\n",
       "    }\n",
       "\n",
       "    .dataframe thead th {\n",
       "        text-align: right;\n",
       "    }\n",
       "</style>\n",
       "<table border=\"1\" class=\"dataframe\">\n",
       "  <thead>\n",
       "    <tr style=\"text-align: right;\">\n",
       "      <th></th>\n",
       "      <th>puma</th>\n",
       "      <th>shape_area</th>\n",
       "      <th>shape_leng</th>\n",
       "      <th>geometry</th>\n",
       "      <th>B28002_004E</th>\n",
       "      <th>NAME</th>\n",
       "      <th>state</th>\n",
       "      <th>public use microdata area</th>\n",
       "      <th>B28002_001E</th>\n",
       "      <th>pcBB</th>\n",
       "    </tr>\n",
       "  </thead>\n",
       "  <tbody>\n",
       "    <tr>\n",
       "      <th>0</th>\n",
       "      <td>3701</td>\n",
       "      <td>9.792852e+07</td>\n",
       "      <td>53227.144461</td>\n",
       "      <td>POLYGON ((-73.89641133483133 40.90450452082026...</td>\n",
       "      <td>35529</td>\n",
       "      <td>NYC-Bronx Community District 8--Riverdale, Fie...</td>\n",
       "      <td>36</td>\n",
       "      <td>3701</td>\n",
       "      <td>42158</td>\n",
       "      <td>84.275820</td>\n",
       "    </tr>\n",
       "    <tr>\n",
       "      <th>1</th>\n",
       "      <td>3702</td>\n",
       "      <td>1.889860e+08</td>\n",
       "      <td>106050.002302</td>\n",
       "      <td>POLYGON ((-73.8442314689986 40.86942035096838,...</td>\n",
       "      <td>34030</td>\n",
       "      <td>NYC-Bronx Community District 12--Wakefield, Wi...</td>\n",
       "      <td>36</td>\n",
       "      <td>3702</td>\n",
       "      <td>49817</td>\n",
       "      <td>68.310015</td>\n",
       "    </tr>\n",
       "    <tr>\n",
       "      <th>2</th>\n",
       "      <td>3703</td>\n",
       "      <td>2.670137e+08</td>\n",
       "      <td>304071.257466</td>\n",
       "      <td>(POLYGON ((-73.78833349834532 40.8346671297593...</td>\n",
       "      <td>36716</td>\n",
       "      <td>NYC-Bronx Community District 10--Co-op City, P...</td>\n",
       "      <td>36</td>\n",
       "      <td>3703</td>\n",
       "      <td>44329</td>\n",
       "      <td>82.826141</td>\n",
       "    </tr>\n",
       "    <tr>\n",
       "      <th>3</th>\n",
       "      <td>3704</td>\n",
       "      <td>1.062129e+08</td>\n",
       "      <td>47970.901277</td>\n",
       "      <td>POLYGON ((-73.84792614069238 40.8713422330779,...</td>\n",
       "      <td>32269</td>\n",
       "      <td>NYC-Bronx Community District 11--Pelham Parkwa...</td>\n",
       "      <td>36</td>\n",
       "      <td>3704</td>\n",
       "      <td>44476</td>\n",
       "      <td>72.553737</td>\n",
       "    </tr>\n",
       "    <tr>\n",
       "      <th>4</th>\n",
       "      <td>4015</td>\n",
       "      <td>8.105438e+07</td>\n",
       "      <td>50007.415493</td>\n",
       "      <td>POLYGON ((-73.95374853778468 40.63858633758547...</td>\n",
       "      <td>44079</td>\n",
       "      <td>NYC-Brooklyn Community District 14--Flatbush &amp;...</td>\n",
       "      <td>36</td>\n",
       "      <td>4015</td>\n",
       "      <td>55953</td>\n",
       "      <td>78.778618</td>\n",
       "    </tr>\n",
       "  </tbody>\n",
       "</table>\n",
       "</div>"
      ],
      "text/plain": [
       "   puma    shape_area     shape_leng  \\\n",
       "0  3701  9.792852e+07   53227.144461   \n",
       "1  3702  1.889860e+08  106050.002302   \n",
       "2  3703  2.670137e+08  304071.257466   \n",
       "3  3704  1.062129e+08   47970.901277   \n",
       "4  4015  8.105438e+07   50007.415493   \n",
       "\n",
       "                                            geometry  B28002_004E  \\\n",
       "0  POLYGON ((-73.89641133483133 40.90450452082026...        35529   \n",
       "1  POLYGON ((-73.8442314689986 40.86942035096838,...        34030   \n",
       "2  (POLYGON ((-73.78833349834532 40.8346671297593...        36716   \n",
       "3  POLYGON ((-73.84792614069238 40.8713422330779,...        32269   \n",
       "4  POLYGON ((-73.95374853778468 40.63858633758547...        44079   \n",
       "\n",
       "                                                NAME  state  \\\n",
       "0  NYC-Bronx Community District 8--Riverdale, Fie...     36   \n",
       "1  NYC-Bronx Community District 12--Wakefield, Wi...     36   \n",
       "2  NYC-Bronx Community District 10--Co-op City, P...     36   \n",
       "3  NYC-Bronx Community District 11--Pelham Parkwa...     36   \n",
       "4  NYC-Brooklyn Community District 14--Flatbush &...     36   \n",
       "\n",
       "   public use microdata area  B28002_001E       pcBB  \n",
       "0                       3701        42158  84.275820  \n",
       "1                       3702        49817  68.310015  \n",
       "2                       3703        44329  82.826141  \n",
       "3                       3704        44476  72.553737  \n",
       "4                       4015        55953  78.778618  "
      ]
     },
     "execution_count": 73,
     "metadata": {},
     "output_type": "execute_result"
    }
   ],
   "source": [
    "#choropleth of the percentage of internet axcess\n",
    "pumashp1 = pumashp.merge(pumaBB,how='inner',left_on='puma',right_on='public use microdata area')\n",
    "pumashp1.head()"
   ]
  },
  {
   "cell_type": "code",
   "execution_count": 74,
   "metadata": {},
   "outputs": [
    {
     "data": {
      "image/png": "[encoded data removed]",
      "text/plain": [
       "<Figure size 720x720 with 2 Axes>"
      ]
     },
     "metadata": {},
     "output_type": "display_data"
    }
   ],
   "source": [
    "cp.choroplethNYC(pumashp1,column='pcBB');"
   ]
  },
  {
   "cell_type": "markdown",
   "metadata": {},
   "source": [
    "### Figure 2 :- This is a choropleth of the percentage of households with broadband access across NYC. "
   ]
  },
  {
   "cell_type": "markdown",
   "metadata": {},
   "source": [
    "# 4. LinkNYC: assess whether the locations of the linkNYC stations are supplying internet where it is needed.\n",
    "\n",
    "acquire the linkNYC locations and prepare them into a dataframe\n",
    "read it in from the HW7_fb55 folder in :\n",
    "https://github.com/fedhere/PUI2018_fb55\n",
    "\n",
    "Notice that you can also get a linkNYC locations shapefile from NYC open data, as I did to generate this, but I want you do to do some extra coordinates gymnastics for practice so use the one I provide."
   ]
  },
  {
   "cell_type": "code",
   "execution_count": 75,
   "metadata": {},
   "outputs": [],
   "source": [
    "linkNYC = pd.read_csv(os.getenv('PUIDATA')+'/linkNYClocations.csv')"
   ]
  },
  {
   "cell_type": "code",
   "execution_count": 76,
   "metadata": {},
   "outputs": [
    {
     "data": {
      "text/html": [
       "<div>\n",
       "<style scoped>\n",
       "    .dataframe tbody tr th:only-of-type {\n",
       "        vertical-align: middle;\n",
       "    }\n",
       "\n",
       "    .dataframe tbody tr th {\n",
       "        vertical-align: top;\n",
       "    }\n",
       "\n",
       "    .dataframe thead th {\n",
       "        text-align: right;\n",
       "    }\n",
       "</style>\n",
       "<table border=\"1\" class=\"dataframe\">\n",
       "  <thead>\n",
       "    <tr style=\"text-align: right;\">\n",
       "      <th></th>\n",
       "      <th>link_site</th>\n",
       "      <th>longitude</th>\n",
       "      <th>date_link_</th>\n",
       "      <th>latitude</th>\n",
       "    </tr>\n",
       "  </thead>\n",
       "  <tbody>\n",
       "    <tr>\n",
       "      <th>0</th>\n",
       "      <td>bk-01-138951</td>\n",
       "      <td>-73.942489</td>\n",
       "      <td>2017-07-01</td>\n",
       "      <td>40.701668</td>\n",
       "    </tr>\n",
       "    <tr>\n",
       "      <th>1</th>\n",
       "      <td>bk-01-109091</td>\n",
       "      <td>-73.942169</td>\n",
       "      <td>2017-07-01</td>\n",
       "      <td>40.701542</td>\n",
       "    </tr>\n",
       "    <tr>\n",
       "      <th>2</th>\n",
       "      <td>bk-01-143982</td>\n",
       "      <td>-73.942239</td>\n",
       "      <td>2017-07-01</td>\n",
       "      <td>40.701930</td>\n",
       "    </tr>\n",
       "    <tr>\n",
       "      <th>3</th>\n",
       "      <td>bk-01-109262</td>\n",
       "      <td>-73.942918</td>\n",
       "      <td>2017-04-28</td>\n",
       "      <td>40.705060</td>\n",
       "    </tr>\n",
       "    <tr>\n",
       "      <th>4</th>\n",
       "      <td>bk-01-125268</td>\n",
       "      <td>-73.953439</td>\n",
       "      <td>2017-03-31</td>\n",
       "      <td>40.728133</td>\n",
       "    </tr>\n",
       "  </tbody>\n",
       "</table>\n",
       "</div>"
      ],
      "text/plain": [
       "      link_site  longitude  date_link_   latitude\n",
       "0  bk-01-138951 -73.942489  2017-07-01  40.701668\n",
       "1  bk-01-109091 -73.942169  2017-07-01  40.701542\n",
       "2  bk-01-143982 -73.942239  2017-07-01  40.701930\n",
       "3  bk-01-109262 -73.942918  2017-04-28  40.705060\n",
       "4  bk-01-125268 -73.953439  2017-03-31  40.728133"
      ]
     },
     "execution_count": 76,
     "metadata": {},
     "output_type": "execute_result"
    }
   ],
   "source": [
    "linkNYC.drop('Unnamed: 0',axis=1,inplace=True)\n",
    "linkNYC.head()\n"
   ]
  },
  {
   "cell_type": "code",
   "execution_count": 77,
   "metadata": {},
   "outputs": [
    {
     "data": {
      "text/plain": [
       "(1414, 4)"
      ]
     },
     "execution_count": 77,
     "metadata": {},
     "output_type": "execute_result"
    }
   ],
   "source": [
    "linkNYC.shape"
   ]
  },
  {
   "cell_type": "markdown",
   "metadata": {},
   "source": [
    "## combine long lat into a column like you did in the lab to greate a \"geometry\" column for the dataframe, then convert the dataframe into a GeoDataFrame _linkNYC_ and set native coordinates  frame to lat/lon as you did in the lab\n",
    "    linkNYC.crs = ..."
   ]
  },
  {
   "cell_type": "code",
   "execution_count": 78,
   "metadata": {},
   "outputs": [],
   "source": [
    "# combine lat and lon to one column\n",
    "linkNYC['lonlat']=list(zip(linkNYC.longitude,linkNYC.latitude))\n",
    "# Create Point Geometry for based on lonlat column\n",
    "linkNYC['geometry']=linkNYC[['lonlat']].applymap(lambda x:shapely.geometry.Point(x))"
   ]
  },
  {
   "cell_type": "code",
   "execution_count": 79,
   "metadata": {},
   "outputs": [
    {
     "data": {
      "text/html": [
       "<div>\n",
       "<style scoped>\n",
       "    .dataframe tbody tr th:only-of-type {\n",
       "        vertical-align: middle;\n",
       "    }\n",
       "\n",
       "    .dataframe tbody tr th {\n",
       "        vertical-align: top;\n",
       "    }\n",
       "\n",
       "    .dataframe thead th {\n",
       "        text-align: right;\n",
       "    }\n",
       "</style>\n",
       "<table border=\"1\" class=\"dataframe\">\n",
       "  <thead>\n",
       "    <tr style=\"text-align: right;\">\n",
       "      <th></th>\n",
       "      <th>link_site</th>\n",
       "      <th>longitude</th>\n",
       "      <th>date_link_</th>\n",
       "      <th>latitude</th>\n",
       "      <th>lonlat</th>\n",
       "      <th>geometry</th>\n",
       "    </tr>\n",
       "  </thead>\n",
       "  <tbody>\n",
       "    <tr>\n",
       "      <th>0</th>\n",
       "      <td>bk-01-138951</td>\n",
       "      <td>-73.942489</td>\n",
       "      <td>2017-07-01</td>\n",
       "      <td>40.701668</td>\n",
       "      <td>(-73.94248859, 40.70166753)</td>\n",
       "      <td>POINT (-73.94248859 40.70166753)</td>\n",
       "    </tr>\n",
       "    <tr>\n",
       "      <th>1</th>\n",
       "      <td>bk-01-109091</td>\n",
       "      <td>-73.942169</td>\n",
       "      <td>2017-07-01</td>\n",
       "      <td>40.701542</td>\n",
       "      <td>(-73.9421692831, 40.7015421938)</td>\n",
       "      <td>POINT (-73.9421692831 40.7015421938)</td>\n",
       "    </tr>\n",
       "    <tr>\n",
       "      <th>2</th>\n",
       "      <td>bk-01-143982</td>\n",
       "      <td>-73.942239</td>\n",
       "      <td>2017-07-01</td>\n",
       "      <td>40.701930</td>\n",
       "      <td>(-73.94223923850001, 40.701930343899996)</td>\n",
       "      <td>POINT (-73.94223923850001 40.7019303439)</td>\n",
       "    </tr>\n",
       "    <tr>\n",
       "      <th>3</th>\n",
       "      <td>bk-01-109262</td>\n",
       "      <td>-73.942918</td>\n",
       "      <td>2017-04-28</td>\n",
       "      <td>40.705060</td>\n",
       "      <td>(-73.94291758, 40.70506042)</td>\n",
       "      <td>POINT (-73.94291758 40.70506042)</td>\n",
       "    </tr>\n",
       "    <tr>\n",
       "      <th>4</th>\n",
       "      <td>bk-01-125268</td>\n",
       "      <td>-73.953439</td>\n",
       "      <td>2017-03-31</td>\n",
       "      <td>40.728133</td>\n",
       "      <td>(-73.953439, 40.728133)</td>\n",
       "      <td>POINT (-73.953439 40.728133)</td>\n",
       "    </tr>\n",
       "  </tbody>\n",
       "</table>\n",
       "</div>"
      ],
      "text/plain": [
       "      link_site  longitude  date_link_   latitude  \\\n",
       "0  bk-01-138951 -73.942489  2017-07-01  40.701668   \n",
       "1  bk-01-109091 -73.942169  2017-07-01  40.701542   \n",
       "2  bk-01-143982 -73.942239  2017-07-01  40.701930   \n",
       "3  bk-01-109262 -73.942918  2017-04-28  40.705060   \n",
       "4  bk-01-125268 -73.953439  2017-03-31  40.728133   \n",
       "\n",
       "                                     lonlat  \\\n",
       "0               (-73.94248859, 40.70166753)   \n",
       "1           (-73.9421692831, 40.7015421938)   \n",
       "2  (-73.94223923850001, 40.701930343899996)   \n",
       "3               (-73.94291758, 40.70506042)   \n",
       "4                   (-73.953439, 40.728133)   \n",
       "\n",
       "                                   geometry  \n",
       "0          POINT (-73.94248859 40.70166753)  \n",
       "1      POINT (-73.9421692831 40.7015421938)  \n",
       "2  POINT (-73.94223923850001 40.7019303439)  \n",
       "3          POINT (-73.94291758 40.70506042)  \n",
       "4              POINT (-73.953439 40.728133)  "
      ]
     },
     "execution_count": 79,
     "metadata": {},
     "output_type": "execute_result"
    }
   ],
   "source": [
    "linkNYC.head()"
   ]
  },
  {
   "cell_type": "code",
   "execution_count": 80,
   "metadata": {},
   "outputs": [],
   "source": [
    "linkNYC = gpd.GeoDataFrame(linkNYC)"
   ]
  },
  {
   "cell_type": "code",
   "execution_count": 81,
   "metadata": {},
   "outputs": [],
   "source": [
    "linkNYC.crs = crs.from_epsg(2263)"
   ]
  },
  {
   "cell_type": "markdown",
   "metadata": {},
   "source": [
    "# plot the location of the linkNYC stations on top of a choropleth of broadband access percentage in *5 equal intervals*\n",
    "\n",
    "I have also color coded the station by how long ago they have been installed, using the date datetime variable"
   ]
  },
  {
   "cell_type": "code",
   "execution_count": 82,
   "metadata": {},
   "outputs": [
    {
     "data": {
      "image/png": "[encoded data removed]",
      "text/plain": [
       "<Figure size 720x720 with 1 Axes>"
      ]
     },
     "metadata": {},
     "output_type": "display_data"
    }
   ],
   "source": [
    "# linkNYC.plot()\n",
    "f, ax = plt.subplots(figsize=(10,10))\n",
    "ax.get_xaxis().set_visible(False)\n",
    "ax.get_yaxis().set_visible(False)\n",
    "pumashp1.plot(column='pcBB',ax=ax,cmap='coolwarm_r',scheme=\"Equal_interval\", k=5,legend=True)#,scheme=\"quantiles\", k=5)\n",
    "#linkNYC.plot(column='pcBB',scheme=\"Equal_interval\", legend=True, k=5)\n",
    "linkNYC.plot(cmap='coolwarm',alpha=1,linewidth=0.1,ax=ax)\n",
    "plt.title(\"LInkNYC stations and BB access Percentage\");"
   ]
  },
  {
   "cell_type": "markdown",
   "metadata": {},
   "source": [
    "### Figure 3 :- The plot shows the location of the linkNYC stations along with a choropleth of the broadband access percentages across NYC."
   ]
  },
  {
   "cell_type": "markdown",
   "metadata": {},
   "source": [
    "# 5 Find the number of linkNYC locations per person by PUMA\n",
    "\n",
    "## 5.1 with the AFF API from ACS get the total population by puma and merge it into your GeoDF"
   ]
  },
  {
   "cell_type": "markdown",
   "metadata": {},
   "source": [
    "the ACS population by  variable is B00001_001E, and of course your geometry is PUMA, _public%20use%20microdata%20area:*_, as before"
   ]
  },
  {
   "cell_type": "code",
   "execution_count": 83,
   "metadata": {},
   "outputs": [
    {
     "data": {
      "text/plain": [
       "{'label': 'Estimate!!Total',\n",
       " 'concept': 'UNWEIGHTED SAMPLE COUNT OF THE POPULATION',\n",
       " 'predicateType': 'int',\n",
       " 'group': 'B00001',\n",
       " 'limit': 0,\n",
       " 'attributes': 'B00001_001EA'}"
      ]
     },
     "execution_count": 83,
     "metadata": {},
     "output_type": "execute_result"
    }
   ],
   "source": [
    "#keyword for the total population\n",
    "keypop = 'B00001_001E'\n",
    "aff1y['variables'][keypop]"
   ]
  },
  {
   "cell_type": "code",
   "execution_count": 84,
   "metadata": {},
   "outputs": [],
   "source": [
    "url = \"https://api.census.gov/data/2016/acs/acs1?get=\" + keypop +\\\n",
    "\",NAME&for=public%20use%20microdata%20area:*&in=state:36&key=\" + myAPI\n",
    "resp = requests.request('GET', url).content\n",
    "pumaPop = pd.read_csv(io.StringIO(resp.decode('utf-8').replace('[','').replace(']','')))\n",
    "pumaPop.drop('Unnamed: 4',axis=1,inplace=True)"
   ]
  },
  {
   "cell_type": "code",
   "execution_count": 85,
   "metadata": {},
   "outputs": [
    {
     "data": {
      "text/html": [
       "<div>\n",
       "<style scoped>\n",
       "    .dataframe tbody tr th:only-of-type {\n",
       "        vertical-align: middle;\n",
       "    }\n",
       "\n",
       "    .dataframe tbody tr th {\n",
       "        vertical-align: top;\n",
       "    }\n",
       "\n",
       "    .dataframe thead th {\n",
       "        text-align: right;\n",
       "    }\n",
       "</style>\n",
       "<table border=\"1\" class=\"dataframe\">\n",
       "  <thead>\n",
       "    <tr style=\"text-align: right;\">\n",
       "      <th></th>\n",
       "      <th>B00001_001E</th>\n",
       "      <th>NAME</th>\n",
       "      <th>state</th>\n",
       "      <th>public use microdata area</th>\n",
       "    </tr>\n",
       "  </thead>\n",
       "  <tbody>\n",
       "    <tr>\n",
       "      <th>0</th>\n",
       "      <td>3075</td>\n",
       "      <td>St. Lawrence County PUMA, New York</td>\n",
       "      <td>36</td>\n",
       "      <td>100</td>\n",
       "    </tr>\n",
       "    <tr>\n",
       "      <th>1</th>\n",
       "      <td>4356</td>\n",
       "      <td>Clinton, Franklin, Essex &amp; Hamilton Counties P...</td>\n",
       "      <td>36</td>\n",
       "      <td>200</td>\n",
       "    </tr>\n",
       "    <tr>\n",
       "      <th>2</th>\n",
       "      <td>2736</td>\n",
       "      <td>Warren &amp; Washington Counties PUMA, New York</td>\n",
       "      <td>36</td>\n",
       "      <td>300</td>\n",
       "    </tr>\n",
       "    <tr>\n",
       "      <th>3</th>\n",
       "      <td>2722</td>\n",
       "      <td>Herkimer (North &amp; Central) &amp; Oneida (Outer) Co...</td>\n",
       "      <td>36</td>\n",
       "      <td>401</td>\n",
       "    </tr>\n",
       "    <tr>\n",
       "      <th>4</th>\n",
       "      <td>2874</td>\n",
       "      <td>Oneida County (Central)--Greater Utica &amp; Rome ...</td>\n",
       "      <td>36</td>\n",
       "      <td>402</td>\n",
       "    </tr>\n",
       "  </tbody>\n",
       "</table>\n",
       "</div>"
      ],
      "text/plain": [
       "   B00001_001E                                               NAME  state  \\\n",
       "0         3075                 St. Lawrence County PUMA, New York     36   \n",
       "1         4356  Clinton, Franklin, Essex & Hamilton Counties P...     36   \n",
       "2         2736        Warren & Washington Counties PUMA, New York     36   \n",
       "3         2722  Herkimer (North & Central) & Oneida (Outer) Co...     36   \n",
       "4         2874  Oneida County (Central)--Greater Utica & Rome ...     36   \n",
       "\n",
       "   public use microdata area  \n",
       "0                        100  \n",
       "1                        200  \n",
       "2                        300  \n",
       "3                        401  \n",
       "4                        402  "
      ]
     },
     "execution_count": 85,
     "metadata": {},
     "output_type": "execute_result"
    }
   ],
   "source": [
    "pumaPop.head()"
   ]
  },
  {
   "cell_type": "code",
   "execution_count": 86,
   "metadata": {},
   "outputs": [],
   "source": [
    "pumashp2 = pumashp.merge(pumaPop,how='inner',left_on='puma',right_on='public use microdata area')"
   ]
  },
  {
   "cell_type": "code",
   "execution_count": 87,
   "metadata": {},
   "outputs": [
    {
     "data": {
      "text/html": [
       "<div>\n",
       "<style scoped>\n",
       "    .dataframe tbody tr th:only-of-type {\n",
       "        vertical-align: middle;\n",
       "    }\n",
       "\n",
       "    .dataframe tbody tr th {\n",
       "        vertical-align: top;\n",
       "    }\n",
       "\n",
       "    .dataframe thead th {\n",
       "        text-align: right;\n",
       "    }\n",
       "</style>\n",
       "<table border=\"1\" class=\"dataframe\">\n",
       "  <thead>\n",
       "    <tr style=\"text-align: right;\">\n",
       "      <th></th>\n",
       "      <th>puma</th>\n",
       "      <th>shape_area</th>\n",
       "      <th>shape_leng</th>\n",
       "      <th>geometry</th>\n",
       "      <th>B00001_001E</th>\n",
       "      <th>NAME</th>\n",
       "      <th>state</th>\n",
       "      <th>public use microdata area</th>\n",
       "    </tr>\n",
       "  </thead>\n",
       "  <tbody>\n",
       "    <tr>\n",
       "      <th>0</th>\n",
       "      <td>3701</td>\n",
       "      <td>9.792852e+07</td>\n",
       "      <td>53227.144461</td>\n",
       "      <td>POLYGON ((-73.89641133483133 40.90450452082026...</td>\n",
       "      <td>1517</td>\n",
       "      <td>NYC-Bronx Community District 8--Riverdale, Fie...</td>\n",
       "      <td>36</td>\n",
       "      <td>3701</td>\n",
       "    </tr>\n",
       "    <tr>\n",
       "      <th>1</th>\n",
       "      <td>3702</td>\n",
       "      <td>1.889860e+08</td>\n",
       "      <td>106050.002302</td>\n",
       "      <td>POLYGON ((-73.8442314689986 40.86942035096838,...</td>\n",
       "      <td>1959</td>\n",
       "      <td>NYC-Bronx Community District 12--Wakefield, Wi...</td>\n",
       "      <td>36</td>\n",
       "      <td>3702</td>\n",
       "    </tr>\n",
       "    <tr>\n",
       "      <th>2</th>\n",
       "      <td>3703</td>\n",
       "      <td>2.670137e+08</td>\n",
       "      <td>304071.257466</td>\n",
       "      <td>(POLYGON ((-73.78833349834532 40.8346671297593...</td>\n",
       "      <td>1305</td>\n",
       "      <td>NYC-Bronx Community District 10--Co-op City, P...</td>\n",
       "      <td>36</td>\n",
       "      <td>3703</td>\n",
       "    </tr>\n",
       "    <tr>\n",
       "      <th>3</th>\n",
       "      <td>3704</td>\n",
       "      <td>1.062129e+08</td>\n",
       "      <td>47970.901277</td>\n",
       "      <td>POLYGON ((-73.84792614069238 40.8713422330779,...</td>\n",
       "      <td>1882</td>\n",
       "      <td>NYC-Bronx Community District 11--Pelham Parkwa...</td>\n",
       "      <td>36</td>\n",
       "      <td>3704</td>\n",
       "    </tr>\n",
       "    <tr>\n",
       "      <th>4</th>\n",
       "      <td>4015</td>\n",
       "      <td>8.105438e+07</td>\n",
       "      <td>50007.415493</td>\n",
       "      <td>POLYGON ((-73.95374853778468 40.63858633758547...</td>\n",
       "      <td>2515</td>\n",
       "      <td>NYC-Brooklyn Community District 14--Flatbush &amp;...</td>\n",
       "      <td>36</td>\n",
       "      <td>4015</td>\n",
       "    </tr>\n",
       "  </tbody>\n",
       "</table>\n",
       "</div>"
      ],
      "text/plain": [
       "   puma    shape_area     shape_leng  \\\n",
       "0  3701  9.792852e+07   53227.144461   \n",
       "1  3702  1.889860e+08  106050.002302   \n",
       "2  3703  2.670137e+08  304071.257466   \n",
       "3  3704  1.062129e+08   47970.901277   \n",
       "4  4015  8.105438e+07   50007.415493   \n",
       "\n",
       "                                            geometry  B00001_001E  \\\n",
       "0  POLYGON ((-73.89641133483133 40.90450452082026...         1517   \n",
       "1  POLYGON ((-73.8442314689986 40.86942035096838,...         1959   \n",
       "2  (POLYGON ((-73.78833349834532 40.8346671297593...         1305   \n",
       "3  POLYGON ((-73.84792614069238 40.8713422330779,...         1882   \n",
       "4  POLYGON ((-73.95374853778468 40.63858633758547...         2515   \n",
       "\n",
       "                                                NAME  state  \\\n",
       "0  NYC-Bronx Community District 8--Riverdale, Fie...     36   \n",
       "1  NYC-Bronx Community District 12--Wakefield, Wi...     36   \n",
       "2  NYC-Bronx Community District 10--Co-op City, P...     36   \n",
       "3  NYC-Bronx Community District 11--Pelham Parkwa...     36   \n",
       "4  NYC-Brooklyn Community District 14--Flatbush &...     36   \n",
       "\n",
       "   public use microdata area  \n",
       "0                       3701  \n",
       "1                       3702  \n",
       "2                       3703  \n",
       "3                       3704  \n",
       "4                       4015  "
      ]
     },
     "execution_count": 87,
     "metadata": {},
     "output_type": "execute_result"
    }
   ],
   "source": [
    "pumashp2.head()"
   ]
  },
  {
   "cell_type": "markdown",
   "metadata": {},
   "source": [
    "## 5.2 find the number of station per 100 people per PUMA\n",
    "**Important** you can do this with an sjoin(). But sjoin() should not be used with lat/lon coordinates cause they are **not \"flat coordinates\"**. Since spattial joins are done in cartesian geometry the only coordinate systems suitable to spatial joins are flat coordinate plane systems, which in the NYC area is 2263. So before you proceed to the sjoin you have to convert both pumashp and linkNYC to 2263 (for example with GeoDataFrame method .to_crs(epsg=...) )\n",
    "\n",
    "\n",
    "(A note: You can also do this by hand by asking for each point if it is in any of the regions, for example in a for loop. But that is escruciatingly slow, unless you get smart about your requests (for example for a given PUMA not asking if the coordinates of a point are very different from the center of a PUMA). With the new version of geopandas this is not needed, cause the sjoin is fast, but with the older versions this was sometimes better) )"
   ]
  },
  {
   "cell_type": "markdown",
   "metadata": {},
   "source": [
    "convert coordinates for pumashp and linkNYC"
   ]
  },
  {
   "cell_type": "markdown",
   "metadata": {},
   "source": [
    "create a geodataframe with a spatial join and use groupby to count the number of linkNYC in each PUMA"
   ]
  },
  {
   "cell_type": "code",
   "execution_count": 96,
   "metadata": {},
   "outputs": [
    {
     "data": {
      "text/html": [
       "<div>\n",
       "<style scoped>\n",
       "    .dataframe tbody tr th:only-of-type {\n",
       "        vertical-align: middle;\n",
       "    }\n",
       "\n",
       "    .dataframe tbody tr th {\n",
       "        vertical-align: top;\n",
       "    }\n",
       "\n",
       "    .dataframe thead th {\n",
       "        text-align: right;\n",
       "    }\n",
       "</style>\n",
       "<table border=\"1\" class=\"dataframe\">\n",
       "  <thead>\n",
       "    <tr style=\"text-align: right;\">\n",
       "      <th></th>\n",
       "      <th>puma</th>\n",
       "      <th>shape_area</th>\n",
       "      <th>shape_leng</th>\n",
       "      <th>geometry</th>\n",
       "      <th>B00001_001E</th>\n",
       "      <th>NAME</th>\n",
       "      <th>state</th>\n",
       "      <th>public use microdata area</th>\n",
       "    </tr>\n",
       "  </thead>\n",
       "  <tbody>\n",
       "    <tr>\n",
       "      <th>0</th>\n",
       "      <td>3701</td>\n",
       "      <td>9.792852e+07</td>\n",
       "      <td>53227.144461</td>\n",
       "      <td>POLYGON ((-73.89641133483133 40.90450452082026...</td>\n",
       "      <td>1517</td>\n",
       "      <td>NYC-Bronx Community District 8--Riverdale, Fie...</td>\n",
       "      <td>36</td>\n",
       "      <td>3701</td>\n",
       "    </tr>\n",
       "    <tr>\n",
       "      <th>1</th>\n",
       "      <td>3702</td>\n",
       "      <td>1.889860e+08</td>\n",
       "      <td>106050.002302</td>\n",
       "      <td>POLYGON ((-73.8442314689986 40.86942035096838,...</td>\n",
       "      <td>1959</td>\n",
       "      <td>NYC-Bronx Community District 12--Wakefield, Wi...</td>\n",
       "      <td>36</td>\n",
       "      <td>3702</td>\n",
       "    </tr>\n",
       "    <tr>\n",
       "      <th>2</th>\n",
       "      <td>3703</td>\n",
       "      <td>2.670137e+08</td>\n",
       "      <td>304071.257466</td>\n",
       "      <td>(POLYGON ((-73.78833349834532 40.8346671297593...</td>\n",
       "      <td>1305</td>\n",
       "      <td>NYC-Bronx Community District 10--Co-op City, P...</td>\n",
       "      <td>36</td>\n",
       "      <td>3703</td>\n",
       "    </tr>\n",
       "    <tr>\n",
       "      <th>3</th>\n",
       "      <td>3704</td>\n",
       "      <td>1.062129e+08</td>\n",
       "      <td>47970.901277</td>\n",
       "      <td>POLYGON ((-73.84792614069238 40.8713422330779,...</td>\n",
       "      <td>1882</td>\n",
       "      <td>NYC-Bronx Community District 11--Pelham Parkwa...</td>\n",
       "      <td>36</td>\n",
       "      <td>3704</td>\n",
       "    </tr>\n",
       "    <tr>\n",
       "      <th>4</th>\n",
       "      <td>4015</td>\n",
       "      <td>8.105438e+07</td>\n",
       "      <td>50007.415493</td>\n",
       "      <td>POLYGON ((-73.95374853778468 40.63858633758547...</td>\n",
       "      <td>2515</td>\n",
       "      <td>NYC-Brooklyn Community District 14--Flatbush &amp;...</td>\n",
       "      <td>36</td>\n",
       "      <td>4015</td>\n",
       "    </tr>\n",
       "  </tbody>\n",
       "</table>\n",
       "</div>"
      ],
      "text/plain": [
       "   puma    shape_area     shape_leng  \\\n",
       "0  3701  9.792852e+07   53227.144461   \n",
       "1  3702  1.889860e+08  106050.002302   \n",
       "2  3703  2.670137e+08  304071.257466   \n",
       "3  3704  1.062129e+08   47970.901277   \n",
       "4  4015  8.105438e+07   50007.415493   \n",
       "\n",
       "                                            geometry  B00001_001E  \\\n",
       "0  POLYGON ((-73.89641133483133 40.90450452082026...         1517   \n",
       "1  POLYGON ((-73.8442314689986 40.86942035096838,...         1959   \n",
       "2  (POLYGON ((-73.78833349834532 40.8346671297593...         1305   \n",
       "3  POLYGON ((-73.84792614069238 40.8713422330779,...         1882   \n",
       "4  POLYGON ((-73.95374853778468 40.63858633758547...         2515   \n",
       "\n",
       "                                                NAME  state  \\\n",
       "0  NYC-Bronx Community District 8--Riverdale, Fie...     36   \n",
       "1  NYC-Bronx Community District 12--Wakefield, Wi...     36   \n",
       "2  NYC-Bronx Community District 10--Co-op City, P...     36   \n",
       "3  NYC-Bronx Community District 11--Pelham Parkwa...     36   \n",
       "4  NYC-Brooklyn Community District 14--Flatbush &...     36   \n",
       "\n",
       "   public use microdata area  \n",
       "0                       3701  \n",
       "1                       3702  \n",
       "2                       3703  \n",
       "3                       3704  \n",
       "4                       4015  "
      ]
     },
     "execution_count": 96,
     "metadata": {},
     "output_type": "execute_result"
    }
   ],
   "source": [
    "# pumashp = pumashp.to_crs(epsg=2263)\n",
    "# linkNYC = linkNYC.to_crs(epsg=2263)\n",
    "pumashp2.head()"
   ]
  },
  {
   "cell_type": "code",
   "execution_count": 97,
   "metadata": {},
   "outputs": [
    {
     "data": {
      "text/html": [
       "<div>\n",
       "<style scoped>\n",
       "    .dataframe tbody tr th:only-of-type {\n",
       "        vertical-align: middle;\n",
       "    }\n",
       "\n",
       "    .dataframe tbody tr th {\n",
       "        vertical-align: top;\n",
       "    }\n",
       "\n",
       "    .dataframe thead th {\n",
       "        text-align: right;\n",
       "    }\n",
       "</style>\n",
       "<table border=\"1\" class=\"dataframe\">\n",
       "  <thead>\n",
       "    <tr style=\"text-align: right;\">\n",
       "      <th></th>\n",
       "      <th>link_site</th>\n",
       "      <th>longitude</th>\n",
       "      <th>date_link_</th>\n",
       "      <th>latitude</th>\n",
       "      <th>lonlat</th>\n",
       "      <th>geometry</th>\n",
       "    </tr>\n",
       "  </thead>\n",
       "  <tbody>\n",
       "    <tr>\n",
       "      <th>0</th>\n",
       "      <td>bk-01-138951</td>\n",
       "      <td>-73.942489</td>\n",
       "      <td>2017-07-01</td>\n",
       "      <td>40.701668</td>\n",
       "      <td>(-73.94248859, 40.70166753)</td>\n",
       "      <td>POINT (-73.94248859 40.70166753)</td>\n",
       "    </tr>\n",
       "    <tr>\n",
       "      <th>1</th>\n",
       "      <td>bk-01-109091</td>\n",
       "      <td>-73.942169</td>\n",
       "      <td>2017-07-01</td>\n",
       "      <td>40.701542</td>\n",
       "      <td>(-73.9421692831, 40.7015421938)</td>\n",
       "      <td>POINT (-73.9421692831 40.7015421938)</td>\n",
       "    </tr>\n",
       "    <tr>\n",
       "      <th>2</th>\n",
       "      <td>bk-01-143982</td>\n",
       "      <td>-73.942239</td>\n",
       "      <td>2017-07-01</td>\n",
       "      <td>40.701930</td>\n",
       "      <td>(-73.94223923850001, 40.701930343899996)</td>\n",
       "      <td>POINT (-73.94223923850001 40.7019303439)</td>\n",
       "    </tr>\n",
       "    <tr>\n",
       "      <th>3</th>\n",
       "      <td>bk-01-109262</td>\n",
       "      <td>-73.942918</td>\n",
       "      <td>2017-04-28</td>\n",
       "      <td>40.705060</td>\n",
       "      <td>(-73.94291758, 40.70506042)</td>\n",
       "      <td>POINT (-73.94291758 40.70506042)</td>\n",
       "    </tr>\n",
       "    <tr>\n",
       "      <th>4</th>\n",
       "      <td>bk-01-125268</td>\n",
       "      <td>-73.953439</td>\n",
       "      <td>2017-03-31</td>\n",
       "      <td>40.728133</td>\n",
       "      <td>(-73.953439, 40.728133)</td>\n",
       "      <td>POINT (-73.953439 40.728133)</td>\n",
       "    </tr>\n",
       "  </tbody>\n",
       "</table>\n",
       "</div>"
      ],
      "text/plain": [
       "      link_site  longitude  date_link_   latitude  \\\n",
       "0  bk-01-138951 -73.942489  2017-07-01  40.701668   \n",
       "1  bk-01-109091 -73.942169  2017-07-01  40.701542   \n",
       "2  bk-01-143982 -73.942239  2017-07-01  40.701930   \n",
       "3  bk-01-109262 -73.942918  2017-04-28  40.705060   \n",
       "4  bk-01-125268 -73.953439  2017-03-31  40.728133   \n",
       "\n",
       "                                     lonlat  \\\n",
       "0               (-73.94248859, 40.70166753)   \n",
       "1           (-73.9421692831, 40.7015421938)   \n",
       "2  (-73.94223923850001, 40.701930343899996)   \n",
       "3               (-73.94291758, 40.70506042)   \n",
       "4                   (-73.953439, 40.728133)   \n",
       "\n",
       "                                   geometry  \n",
       "0          POINT (-73.94248859 40.70166753)  \n",
       "1      POINT (-73.9421692831 40.7015421938)  \n",
       "2  POINT (-73.94223923850001 40.7019303439)  \n",
       "3          POINT (-73.94291758 40.70506042)  \n",
       "4              POINT (-73.953439 40.728133)  "
      ]
     },
     "execution_count": 97,
     "metadata": {},
     "output_type": "execute_result"
    }
   ],
   "source": [
    "linkNYC.head()"
   ]
  },
  {
   "cell_type": "code",
   "execution_count": 99,
   "metadata": {},
   "outputs": [
    {
     "data": {
      "text/html": [
       "<div>\n",
       "<style scoped>\n",
       "    .dataframe tbody tr th:only-of-type {\n",
       "        vertical-align: middle;\n",
       "    }\n",
       "\n",
       "    .dataframe tbody tr th {\n",
       "        vertical-align: top;\n",
       "    }\n",
       "\n",
       "    .dataframe thead th {\n",
       "        text-align: right;\n",
       "    }\n",
       "</style>\n",
       "<table border=\"1\" class=\"dataframe\">\n",
       "  <thead>\n",
       "    <tr style=\"text-align: right;\">\n",
       "      <th></th>\n",
       "      <th>puma</th>\n",
       "      <th>shape_area</th>\n",
       "      <th>shape_leng</th>\n",
       "      <th>geometry</th>\n",
       "      <th>B00001_001E</th>\n",
       "      <th>NAME</th>\n",
       "      <th>state</th>\n",
       "      <th>public use microdata area</th>\n",
       "      <th>index_right</th>\n",
       "      <th>link_site</th>\n",
       "      <th>longitude</th>\n",
       "      <th>date_link_</th>\n",
       "      <th>latitude</th>\n",
       "      <th>lonlat</th>\n",
       "    </tr>\n",
       "  </thead>\n",
       "  <tbody>\n",
       "  </tbody>\n",
       "</table>\n",
       "</div>"
      ],
      "text/plain": [
       "Empty GeoDataFrame\n",
       "Columns: [puma, shape_area, shape_leng, geometry, B00001_001E, NAME, state, public use microdata area, index_right, link_site, longitude, date_link_, latitude, lonlat]\n",
       "Index: []"
      ]
     },
     "execution_count": 99,
     "metadata": {},
     "output_type": "execute_result"
    }
   ],
   "source": [
    "linkpp = gpd.sjoin(pumashp2.to_crs(epsg=2263),linkNYC.to_crs(epsg=2263))#.groupby(...)\n",
    "linkpp.head()"
   ]
  },
  {
   "cell_type": "markdown",
   "metadata": {},
   "source": [
    "finally merge back into the pumashp. Make sure you use the correct scheme for merging: you want to have _all_ the PUMAs, not only the ones that have linkNYC in them in the final geoDF"
   ]
  },
  {
   "cell_type": "code",
   "execution_count": null,
   "metadata": {},
   "outputs": [],
   "source": [
    "#linkNYC per 100 inhabitants\n",
    "pumashplc[\"linkNYCp100p\"].describe()"
   ]
  },
  {
   "cell_type": "markdown",
   "metadata": {},
   "source": [
    "# at last, plot the linkNYC locations on top of a choropleth of number of stations per 100 people  in 10 equal intervals\n"
   ]
  },
  {
   "cell_type": "code",
   "execution_count": null,
   "metadata": {},
   "outputs": [],
   "source": []
  },
  {
   "cell_type": "markdown",
   "metadata": {},
   "source": [
    "# Extra credit 1: \n",
    "How would you enhance the visibility of this map? you are working with numbers that are mostly very low, and reside near each other, and them have a few much higher value points. Notice that here the high values are interesting though and should not be thrown away!"
   ]
  },
  {
   "cell_type": "code",
   "execution_count": null,
   "metadata": {},
   "outputs": [],
   "source": [
    "pl.hist(pumashplc[\"linkNYCpp\"], bins=30);"
   ]
  },
  {
   "cell_type": "markdown",
   "metadata": {},
   "source": [
    "## Extra Credit 2:\n",
    "plot Spatial Lag Deciles that describe the impact of linkNYC in providing access where needed. You can follow what you did in the lab, but you need to create a metric based on the data you have tha measures the impact of linkNYC\n"
   ]
  },
  {
   "cell_type": "code",
   "execution_count": null,
   "metadata": {},
   "outputs": [],
   "source": []
  },
  {
   "cell_type": "markdown",
   "metadata": {},
   "source": [
    "this is whay I came up with, and needs not be the same for you. But properly describe what you obtain"
   ]
  },
  {
   "cell_type": "markdown",
   "metadata": {},
   "source": [
    "\n",
    "Note: To find the table you extracted through the API manually you could\n",
    "\n",
    "https://factfinder.census.gov/ -> Advanced Search -> Show me all \n",
    "    \n",
    "    - Topics: Housing -> Physical Characteristics -> Internet Access\n",
    "    - Geographies -> all geography types -> Public Use Microdata Areas (755)\n",
    "                     -> Select a State: New York -> All Pubic Use Microdaa Areas within New York\n",
    "                     -> Add Your Selection\n",
    "    - Years -> 2016"
   ]
  },
  {
   "cell_type": "code",
   "execution_count": null,
   "metadata": {},
   "outputs": [],
   "source": []
  }
 ],
 "metadata": {
  "kernelspec": {
   "display_name": "Python 3",
   "language": "python",
   "name": "python3"
  },
  "language_info": {
   "codemirror_mode": {
    "name": "ipython",
    "version": 3
   },
   "file_extension": ".py",
   "mimetype": "text/x-python",
   "name": "python",
   "nbconvert_exporter": "python",
   "pygments_lexer": "ipython3",
   "version": "3.6.5"
  }
 },
 "nbformat": 4,
 "nbformat_minor": 2
}
