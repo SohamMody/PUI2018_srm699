{
 "cells": [
  {
   "cell_type": "markdown",
   "metadata": {},
   "source": [
    "## This notebook is designed to pratice with both geopandas and census data.  This is a simple spatial exploratory analysis of census data. The goal is to assess wheather the location of the [linkNYC](https://www.link.nyc/) access points is optimal to guarantee a more \"democratic\" access to the internet.\n",
    "\n",
    "## THE CENSUS: \n",
    "make sure you do the assigned reading about the census. Census data are a national trasure! The census is a survey  designed to collect data on every person that lives in the USA every 10 years. The Census Bureau collects data, designes aggregation areas (the census blocks and tracts for example, which are designed for maximal homogeneity across all features). However, the Census Bureau does not only collect and aggregate data every 10 years, it also collects the America Community Survey every 5 years, and some more restricted survey on an annual bases. The 1 year survey data is what we will use: https://www.census.gov/services/index.html\n"
   ]
  },
  {
   "cell_type": "markdown",
   "metadata": {},
   "source": [
    "# 1. PUMA : Public Use Microdata Area\n",
    "Census geographies that are not specific political entities (i.e. states, counties etc) are designed for homogeneity so that aggregating the data over the whole area will leat to an estimat (mean or median for example) with minimal variance. Among these geographies are the _census tracts_, _census blocks_, and _Public Use Microdata Areas (PUMAs)_. PUMAs are geographical areas designed to aggregate census data. Each PUMA contains at least 100,000 people. PUMAs do not overlap, and are contained within a single state. \n",
    "\n",
    "## 1.1 download the NYC  Public Use Microdata Areas (PUMA) geometry fron the NYC Open Data API and read it in with geopandas\n",
    "\n",
    "https://data.cityofnewyork.us/Housing-Development/Public-Use-Microdata-Areas-PUMA-/cwiz-gcty/data\n",
    "\n",
    "download it as a shape file. When you download a shapefile you actually download a zipped folder which contains the shape file and other files that are necessary to read the shape file in. You can do that with the urllib library in python 3 with the function \n",
    "\n",
    "        urllib.request.urlretrieve(url, \"file.gz\")\n",
    "\n",
    "then unpack the data into your PUIdata directory, then read it in with geopandas, reading in the shape file with the function \n",
    "\n",
    "        geopandas.GeoDataFrame.from_file(filename)"
   ]
  },
  {
   "cell_type": "markdown",
   "metadata": {},
   "source": [
    "PUMAs were first created for the 1990 Census. PUMAs are identified by a specific 4 numbers id. In the shapefile foung at data.cityofnewyork.us the id is named \"puma\" and it is in fact a 4 digits number. You can read it in as an integer (although of course it is a categorical variable inherently!). Often the PUMA id is found in conjunction with the 3 numbers state id, leading to a 7 numbers identification. The id for the State of NY is 036. See this link for more: https://www.census.gov/geo/reference/geoidentifiers.html\n"
   ]
  },
  {
   "cell_type": "code",
   "execution_count": 1,
   "metadata": {},
   "outputs": [],
   "source": [
    "import pandas as pd\n",
    "import numpy as np\n",
    "import geopandas as gpd\n",
    "import urllib\n",
    "import requests\n",
    "import matplotlib.pyplot as plt\n",
    "%matplotlib inline\n",
    "import sys\n",
    "import os\n",
    "import json\n",
    "import io\n",
    "import shapely\n",
    "#import rtree\n",
    "from geopandas.tools import sjoin\n",
    "#import osmnx as ox\n",
    "from fiona import crs\n",
    "os.environ[\"PUIDATA\"] = \"%s/PUIDATA\"%os.getenv(\"HOME\")"
   ]
  },
  {
   "cell_type": "code",
   "execution_count": 2,
   "metadata": {},
   "outputs": [
    {
     "data": {
      "text/plain": [
       "'/nfshome/srm699/PUIDATA'"
      ]
     },
     "execution_count": 2,
     "metadata": {},
     "output_type": "execute_result"
    }
   ],
   "source": [
    "os.getenv('PUIDATA')"
   ]
  },
  {
   "cell_type": "code",
   "execution_count": 3,
   "metadata": {},
   "outputs": [
    {
     "data": {
      "text/plain": [
       "('/nfshome/srm699/PUIDATA/puma.gz',\n",
       " <http.client.HTTPMessage at 0x7f884bbe4160>)"
      ]
     },
     "execution_count": 3,
     "metadata": {},
     "output_type": "execute_result"
    }
   ],
   "source": [
    "url = \"https://data.cityofnewyork.us/api/geospatial/cwiz-gcty?method=export&format=Shapefile\"\n",
    "urllib.request.urlretrieve(url, os.getenv('PUIDATA')+'/'+\"puma.gz\")"
   ]
  },
  {
   "cell_type": "code",
   "execution_count": 4,
   "metadata": {},
   "outputs": [
    {
     "name": "stdout",
     "output_type": "stream",
     "text": [
      "Archive:  /nfshome/srm699/PUIDATA/puma.gz\n",
      "  inflating: /nfshome/srm699/PUIDATA/puma/geo_export_24df1793-3df9-4376-b242-015bb3f3cd13.dbf  \n",
      "  inflating: /nfshome/srm699/PUIDATA/puma/geo_export_24df1793-3df9-4376-b242-015bb3f3cd13.shp  \n",
      "  inflating: /nfshome/srm699/PUIDATA/puma/geo_export_24df1793-3df9-4376-b242-015bb3f3cd13.shx  \n",
      "  inflating: /nfshome/srm699/PUIDATA/puma/geo_export_24df1793-3df9-4376-b242-015bb3f3cd13.prj  \n"
     ]
    }
   ],
   "source": [
    "!unzip $PUIDATA/puma.gz -d $PUIDATA/puma"
   ]
  },
  {
   "cell_type": "code",
   "execution_count": 5,
   "metadata": {},
   "outputs": [
    {
     "data": {
      "text/html": [
       "<div>\n",
       "<table border=\"1\" class=\"dataframe\">\n",
       "  <thead>\n",
       "    <tr style=\"text-align: right;\">\n",
       "      <th></th>\n",
       "      <th>puma</th>\n",
       "      <th>shape_area</th>\n",
       "      <th>shape_leng</th>\n",
       "      <th>geometry</th>\n",
       "    </tr>\n",
       "  </thead>\n",
       "  <tbody>\n",
       "    <tr>\n",
       "      <th>0</th>\n",
       "      <td>3701</td>\n",
       "      <td>9.792852e+07</td>\n",
       "      <td>53227.144461</td>\n",
       "      <td>POLYGON ((-73.89641133483133 40.90450452082026...</td>\n",
       "    </tr>\n",
       "    <tr>\n",
       "      <th>1</th>\n",
       "      <td>3702</td>\n",
       "      <td>1.889860e+08</td>\n",
       "      <td>106050.002302</td>\n",
       "      <td>POLYGON ((-73.8442314689986 40.86942035096838,...</td>\n",
       "    </tr>\n",
       "    <tr>\n",
       "      <th>2</th>\n",
       "      <td>3703</td>\n",
       "      <td>2.670137e+08</td>\n",
       "      <td>304071.257466</td>\n",
       "      <td>(POLYGON ((-73.78833349834532 40.8346671297593...</td>\n",
       "    </tr>\n",
       "    <tr>\n",
       "      <th>3</th>\n",
       "      <td>3704</td>\n",
       "      <td>1.062129e+08</td>\n",
       "      <td>47970.901277</td>\n",
       "      <td>POLYGON ((-73.84792614069238 40.8713422330779,...</td>\n",
       "    </tr>\n",
       "    <tr>\n",
       "      <th>4</th>\n",
       "      <td>4015</td>\n",
       "      <td>8.105438e+07</td>\n",
       "      <td>50007.415493</td>\n",
       "      <td>POLYGON ((-73.95374853778468 40.63858633758547...</td>\n",
       "    </tr>\n",
       "  </tbody>\n",
       "</table>\n",
       "</div>"
      ],
      "text/plain": [
       "   puma    shape_area     shape_leng  \\\n",
       "0  3701  9.792852e+07   53227.144461   \n",
       "1  3702  1.889860e+08  106050.002302   \n",
       "2  3703  2.670137e+08  304071.257466   \n",
       "3  3704  1.062129e+08   47970.901277   \n",
       "4  4015  8.105438e+07   50007.415493   \n",
       "\n",
       "                                            geometry  \n",
       "0  POLYGON ((-73.89641133483133 40.90450452082026...  \n",
       "1  POLYGON ((-73.8442314689986 40.86942035096838,...  \n",
       "2  (POLYGON ((-73.78833349834532 40.8346671297593...  \n",
       "3  POLYGON ((-73.84792614069238 40.8713422330779,...  \n",
       "4  POLYGON ((-73.95374853778468 40.63858633758547...  "
      ]
     },
     "execution_count": 5,
     "metadata": {},
     "output_type": "execute_result"
    }
   ],
   "source": [
    "pumashp = gpd.read_file(os.getenv('PUIDATA')+'/puma/geo_export_9a802b16-2a1e-4ff4-a775-7ce6f206b438.shp')\n",
    "pumashp.head()"
   ]
  },
  {
   "cell_type": "code",
   "execution_count": 6,
   "metadata": {},
   "outputs": [],
   "source": [
    "pumashp.puma = pumashp.puma.astype(int)"
   ]
  },
  {
   "cell_type": "code",
   "execution_count": 7,
   "metadata": {},
   "outputs": [
    {
     "data": {
      "text/plain": [
       "{'init': 'epsg:4326'}"
      ]
     },
     "execution_count": 7,
     "metadata": {},
     "output_type": "execute_result"
    }
   ],
   "source": [
    "pumashp.crs"
   ]
  },
  {
   "cell_type": "markdown",
   "metadata": {},
   "source": [
    "## 1.2  plot the PUMA NYC regions\n",
    "\n",
    "you can use the geopandas function plot. \n",
    "What is the appropriate plot to just show the shape of the PUMA regions? A choropleth could be ok, but it is better to just draw the contours of the region, since we do not want to highlight some regions over others by color choices. \n",
    "\n",
    "(Note: a while ago I wrote a quick function that plots choropleths and maps of NYC specifically putting legends and colorbars in the empty spaces taking advantage of the shape of the city and you are welcome to use it: https://github.com/fedhere/choroplethNYC. BUT YOU DO NOT HAVE TO)\n",
    "\n",
    "If you want to learn how to install a package from within the notebook look here https://jakevdp.github.io/blog/2017/12/05/installing-python-packages-from-jupyter/\n",
    "\n",
    "Your map should look someting like:"
   ]
  },
  {
   "cell_type": "code",
   "execution_count": 8,
   "metadata": {},
   "outputs": [
    {
     "data": {
      "image/png": "[encoded data removed]",
      "text/plain": [
       "<matplotlib.figure.Figure at 0x7f884bb20c50>"
      ]
     },
     "metadata": {},
     "output_type": "display_data"
    },
    {
     "data": {
      "image/png": "[encoded data removed]",
      "text/plain": [
       "<matplotlib.figure.Figure at 0x7f884bb2b6d8>"
      ]
     },
     "metadata": {},
     "output_type": "display_data"
    }
   ],
   "source": [
    "# using the built in plot function as pumashp.plot(pumashp....)\n",
    "fig = pumashp.plot(color=\"white\", edgecolor=\"black\",lw=2,figsize=(10,10))# using plot function for geopandas\n",
    "fig.set_title('Using Plot func of gpd')\n",
    "fig.get_xaxis().set_visible(False)\n",
    "fig.get_yaxis().set_visible(False)\n",
    "import choroplethNYC as cp\n",
    "fig2 = cp.choroplethNYC(pumashp, column=None, color=\"white\", edgecolor=\"black\", lw=2);#using the function choroplethNYC "
   ]
  },
  {
   "cell_type": "markdown",
   "metadata": {},
   "source": [
    "### Figure 1a and 1b :-The 2 plots show the different regions of NYC as they are present in the puma shape file"
   ]
  },
  {
   "cell_type": "markdown",
   "metadata": {},
   "source": [
    "# 2. American Fact Finder data on percentage of houses with broadband internet access\n",
    "\n",
    "Download the table of data from 2016 for NYC: you want to obtain data on broadband access (percentage of households with broadband access) at the PUMA (Public Use Microdata Area) geographical area level. \n",
    "\n",
    "This may be tricky. But familiarizing with Census and American Commjunity Survey data is super important for urban science. Here you should use the API, but you should also practice interacting with the website: \n",
    "\n",
    "You  should read the datta in thgouth the API but also download the data manually and compare the two datasets."
   ]
  },
  {
   "cell_type": "markdown",
   "metadata": {},
   "source": [
    "## 2.1 Get data with American Fact Finder (AFF) API: \n",
    "you can request an API key, although I think it is not necessary for this search (but it is good to practice). Obtain a key and save it into a python file. DO NOT UPLOAD THE FILE CONTAINING THE API KEY TO GITHUB. Keep your API keys private. "
   ]
  },
  {
   "cell_type": "code",
   "execution_count": 9,
   "metadata": {},
   "outputs": [
    {
     "name": "stdout",
     "output_type": "stream",
     "text": [
      "/nfshome/srm699/PUIDATA\n"
     ]
    }
   ],
   "source": [
    "cd /nfshome/srm699/PUIDATA"
   ]
  },
  {
   "cell_type": "code",
   "execution_count": 11,
   "metadata": {},
   "outputs": [],
   "source": [
    "from APIKEY import myAPI"
   ]
  },
  {
   "cell_type": "markdown",
   "metadata": {},
   "source": [
    "If you need help with the API you can ask questions in this [Gitter channel](https://gitter.im/uscensusbureau/general) (I did myself to design this homework!) \n",
    "The internet subscription by household is data surveyd annually. You can find out what are the features that you can query through the API for the annually surveyed data at this url: https://api.census.gov/data/2016/acs/acs1/variables.json\n",
    "\n",
    "read it in as a jason file - you can do it with pandas (but it is slow). You can do it as I do below with the request package"
   ]
  },
  {
   "cell_type": "code",
   "execution_count": 12,
   "metadata": {},
   "outputs": [],
   "source": [
    "#read in in the variables available. the info you need is in the 1year ACS data\n",
    "url = \"https://api.census.gov/data/2016/acs/acs1/variables.json\"\n",
    "resp = requests.request('GET', url)\n",
    "aff1y = json.loads(resp.text)"
   ]
  },
  {
   "cell_type": "code",
   "execution_count": 13,
   "metadata": {},
   "outputs": [],
   "source": [
    "#turning things into arrays to enable broadcasting\n",
    "#Python3\n",
    "affkeys = np.array(list(aff1y['variables'].keys()))\n",
    "#Python2\n",
    "#affkeys = np.array(aff1y['variables'].keys())"
   ]
  },
  {
   "cell_type": "markdown",
   "metadata": {},
   "source": [
    "You need two features: **total number of households**, and **number of households with broadband access**\n",
    "\n",
    "Broadband access is one of the B28002 keys. However there are many of those! Each variable has several observations associated to it: B28002 is all internet access data (broadband, dial up, none, ...), and for each of those you have the estimate (count, mean, median, percentage...), the margin of errors, and annotations. Those are identified by an appendix that begins with \"\\_\". Look carefully at the line of code below and its output. I am creating a list that contains the keys of the dictionary I created from the json file for all B28002 observations  (rows that start with \"B28002\") that include the word \"Broadband\" in the description.\n",
    "\n",
    "The syntax is a lost comprehension:\n",
    "\n",
    "        as = \\[a for a in listOfAs\\] \n",
    "\n",
    "is simply a compact way to write\n",
    "\n",
    "        as = \\[\\]\n",
    "        for a in listOfAs:\n",
    "            as.append(a)\n",
    "            \n",
    "with an if statement tha selects broadband         "
   ]
  },
  {
   "cell_type": "code",
   "execution_count": 14,
   "metadata": {},
   "outputs": [
    {
     "data": {
      "text/plain": [
       "[('B28002_004E',\n",
       "  'Estimate!!Total!!With an Internet subscription!!Broadband of any type'),\n",
       " ('B28002_008E',\n",
       "  'Estimate!!Total!!With an Internet subscription!!Broadband such as cable, fiber optic or DSL!!Broadband such as cable, fiber optic or DSL with no other type of Internet subscription'),\n",
       " ('B28002_007E',\n",
       "  'Estimate!!Total!!With an Internet subscription!!Broadband such as cable, fiber optic or DSL')]"
      ]
     },
     "execution_count": 14,
     "metadata": {},
     "output_type": "execute_result"
    }
   ],
   "source": [
    "#extracting variables of B28002 that contain \"broadband\"\n",
    "[(k, aff1y['variables'][k]['label'])  for k in affkeys if k.startswith (\"B28002\") and \n",
    " 'Broadband' in aff1y['variables'][k]['label']]"
   ]
  },
  {
   "cell_type": "markdown",
   "metadata": {},
   "source": [
    "chose the appropriate variable and extract the relevant data: below I select the variable containing the number of household per PUMA. The \"all\" variable, which tells you what is the total number of units queried (households here) is generally stored in the \\_001 variable (B28002_001 in this case). \"E\" stands for *estimate*. M stands for *margin of error*, EA *estimate annotations*, MA *margin of error annotations*. You want the estimate for this exercise. "
   ]
  },
  {
   "cell_type": "code",
   "execution_count": 15,
   "metadata": {},
   "outputs": [
    {
     "data": {
      "text/plain": [
       "{'attributes': 'B28002_001M,B28002_001EA',\n",
       " 'concept': 'PRESENCE AND TYPES OF INTERNET SUBSCRIPTIONS IN HOUSEHOLD',\n",
       " 'group': 'B28002',\n",
       " 'label': 'Estimate!!Total',\n",
       " 'limit': 0,\n",
       " 'predicateType': 'int'}"
      ]
     },
     "execution_count": 15,
     "metadata": {},
     "output_type": "execute_result"
    }
   ],
   "source": [
    "#keyword for the number of households\n",
    "keyNhouseholds = 'B28002_001E'\n",
    "aff1y['variables'][keyNhouseholds]"
   ]
  },
  {
   "cell_type": "markdown",
   "metadata": {},
   "source": [
    "Similarly, choose the fractions of houses with any \"With an Internet subscription!!Broadband of any type\""
   ]
  },
  {
   "cell_type": "code",
   "execution_count": 16,
   "metadata": {},
   "outputs": [
    {
     "data": {
      "text/plain": [
       "{'attributes': 'B28002_004M,B28002_004EA',\n",
       " 'concept': 'PRESENCE AND TYPES OF INTERNET SUBSCRIPTIONS IN HOUSEHOLD',\n",
       " 'group': 'B28002',\n",
       " 'label': 'Estimate!!Total!!With an Internet subscription!!Broadband of any type',\n",
       " 'limit': 0,\n",
       " 'predicateType': 'int'}"
      ]
     },
     "execution_count": 16,
     "metadata": {},
     "output_type": "execute_result"
    }
   ],
   "source": [
    "#keyword for the number of households with broarband access\n",
    "keyNBB = 'B28002_004E'\n",
    "aff1y['variables'][keyNBB]"
   ]
  },
  {
   "cell_type": "markdown",
   "metadata": {},
   "source": [
    "Now that you have the variable names use them to extract the relevant data with the ACS API. \n",
    "\n",
    "The API url is as follows:\n",
    "\n",
    "root: https://api.census.gov/data/2016/acs/acs1\n",
    "\n",
    "action: get=\\[variable Name\\],NAME\n",
    "\n",
    "geometry: for=\\[geometry\\]:\\[desired geometry values\\]in=\\[larger geometry\\]:\\[desired larger geometry values\\]\n",
    "\n",
    "API key: key:\\[api key\\]\n",
    "\n",
    "the URL is constructed as root?action&geometry&key\n",
    "\n",
    "Note that it took me a long time to figure out how to request the right geometry: in the url I write below the geometry is \"public%20use%20microdata%20area\" where %20 is the character for ' ' (space) in a url, and \":\\*\" means all PUMAS\n",
    "\n",
    "state:36 is New York State"
   ]
  },
  {
   "cell_type": "code",
   "execution_count": 17,
   "metadata": {},
   "outputs": [
    {
     "data": {
      "text/html": [
       "<div>\n",
       "<table border=\"1\" class=\"dataframe\">\n",
       "  <thead>\n",
       "    <tr style=\"text-align: right;\">\n",
       "      <th></th>\n",
       "      <th>B28002_004E</th>\n",
       "      <th>NAME</th>\n",
       "      <th>state</th>\n",
       "      <th>public use microdata area</th>\n",
       "      <th>Unnamed: 4</th>\n",
       "    </tr>\n",
       "  </thead>\n",
       "  <tbody>\n",
       "    <tr>\n",
       "      <th>0</th>\n",
       "      <td>32607</td>\n",
       "      <td>St. Lawrence County PUMA, New York</td>\n",
       "      <td>36</td>\n",
       "      <td>100</td>\n",
       "      <td>NaN</td>\n",
       "    </tr>\n",
       "    <tr>\n",
       "      <th>1</th>\n",
       "      <td>50811</td>\n",
       "      <td>Clinton, Franklin, Essex &amp; Hamilton Counties P...</td>\n",
       "      <td>36</td>\n",
       "      <td>200</td>\n",
       "      <td>NaN</td>\n",
       "    </tr>\n",
       "    <tr>\n",
       "      <th>2</th>\n",
       "      <td>41210</td>\n",
       "      <td>Warren &amp; Washington Counties PUMA, New York</td>\n",
       "      <td>36</td>\n",
       "      <td>300</td>\n",
       "      <td>NaN</td>\n",
       "    </tr>\n",
       "    <tr>\n",
       "      <th>3</th>\n",
       "      <td>36075</td>\n",
       "      <td>Herkimer (North &amp; Central) &amp; Oneida (Outer) Co...</td>\n",
       "      <td>36</td>\n",
       "      <td>401</td>\n",
       "      <td>NaN</td>\n",
       "    </tr>\n",
       "    <tr>\n",
       "      <th>4</th>\n",
       "      <td>47786</td>\n",
       "      <td>Oneida County (Central)--Greater Utica &amp; Rome ...</td>\n",
       "      <td>36</td>\n",
       "      <td>402</td>\n",
       "      <td>NaN</td>\n",
       "    </tr>\n",
       "  </tbody>\n",
       "</table>\n",
       "</div>"
      ],
      "text/plain": [
       "   B28002_004E                                               NAME  state  \\\n",
       "0        32607                 St. Lawrence County PUMA, New York     36   \n",
       "1        50811  Clinton, Franklin, Essex & Hamilton Counties P...     36   \n",
       "2        41210        Warren & Washington Counties PUMA, New York     36   \n",
       "3        36075  Herkimer (North & Central) & Oneida (Outer) Co...     36   \n",
       "4        47786  Oneida County (Central)--Greater Utica & Rome ...     36   \n",
       "\n",
       "   public use microdata area  Unnamed: 4  \n",
       "0                        100         NaN  \n",
       "1                        200         NaN  \n",
       "2                        300         NaN  \n",
       "3                        401         NaN  \n",
       "4                        402         NaN  "
      ]
     },
     "execution_count": 17,
     "metadata": {},
     "output_type": "execute_result"
    }
   ],
   "source": [
    "# getting the broadband access number of households\n",
    "url = \"https://api.census.gov/data/2016/acs/acs1?get=\" + keyNBB +\\\n",
    "\",NAME&for=public%20use%20microdata%20area:*&in=state:36&key=\" + myAPI\n",
    "resp = requests.request('GET', url).content\n",
    "pumaBB = pd.read_csv(io.StringIO(resp.decode('utf-8').replace('[','').replace(']','')))\n",
    "\n",
    "pumaBB.head()"
   ]
  },
  {
   "cell_type": "code",
   "execution_count": 18,
   "metadata": {},
   "outputs": [
    {
     "data": {
      "text/html": [
       "<div>\n",
       "<table border=\"1\" class=\"dataframe\">\n",
       "  <thead>\n",
       "    <tr style=\"text-align: right;\">\n",
       "      <th></th>\n",
       "      <th>B28002_001E</th>\n",
       "      <th>NAME</th>\n",
       "      <th>state</th>\n",
       "      <th>public use microdata area</th>\n",
       "      <th>Unnamed: 4</th>\n",
       "    </tr>\n",
       "  </thead>\n",
       "  <tbody>\n",
       "    <tr>\n",
       "      <th>0</th>\n",
       "      <td>40479</td>\n",
       "      <td>St. Lawrence County PUMA, New York</td>\n",
       "      <td>36</td>\n",
       "      <td>100</td>\n",
       "      <td>NaN</td>\n",
       "    </tr>\n",
       "    <tr>\n",
       "      <th>1</th>\n",
       "      <td>67092</td>\n",
       "      <td>Clinton, Franklin, Essex &amp; Hamilton Counties P...</td>\n",
       "      <td>36</td>\n",
       "      <td>200</td>\n",
       "      <td>NaN</td>\n",
       "    </tr>\n",
       "    <tr>\n",
       "      <th>2</th>\n",
       "      <td>51614</td>\n",
       "      <td>Warren &amp; Washington Counties PUMA, New York</td>\n",
       "      <td>36</td>\n",
       "      <td>300</td>\n",
       "      <td>NaN</td>\n",
       "    </tr>\n",
       "    <tr>\n",
       "      <th>3</th>\n",
       "      <td>44300</td>\n",
       "      <td>Herkimer (North &amp; Central) &amp; Oneida (Outer) Co...</td>\n",
       "      <td>36</td>\n",
       "      <td>401</td>\n",
       "      <td>NaN</td>\n",
       "    </tr>\n",
       "    <tr>\n",
       "      <th>4</th>\n",
       "      <td>61146</td>\n",
       "      <td>Oneida County (Central)--Greater Utica &amp; Rome ...</td>\n",
       "      <td>36</td>\n",
       "      <td>402</td>\n",
       "      <td>NaN</td>\n",
       "    </tr>\n",
       "  </tbody>\n",
       "</table>\n",
       "</div>"
      ],
      "text/plain": [
       "   B28002_001E                                               NAME  state  \\\n",
       "0        40479                 St. Lawrence County PUMA, New York     36   \n",
       "1        67092  Clinton, Franklin, Essex & Hamilton Counties P...     36   \n",
       "2        51614        Warren & Washington Counties PUMA, New York     36   \n",
       "3        44300  Herkimer (North & Central) & Oneida (Outer) Co...     36   \n",
       "4        61146  Oneida County (Central)--Greater Utica & Rome ...     36   \n",
       "\n",
       "   public use microdata area  Unnamed: 4  \n",
       "0                        100         NaN  \n",
       "1                        200         NaN  \n",
       "2                        300         NaN  \n",
       "3                        401         NaN  \n",
       "4                        402         NaN  "
      ]
     },
     "execution_count": 18,
     "metadata": {},
     "output_type": "execute_result"
    }
   ],
   "source": [
    "#getting the first row of the table: the total number of households\n",
    "url = \"https://api.census.gov/data/2016/acs/acs1?get=\" + keyNhouseholds +\\\n",
    "\",NAME&for=public%20use%20microdata%20area:*&in=state:36&key=\" + myAPI\n",
    "resp = requests.request('GET', url).content\n",
    "pumaPP = pd.read_csv(io.StringIO(resp.decode('utf-8').replace('[','').replace(']','')))\n",
    "\n",
    "pumaPP.head()"
   ]
  },
  {
   "cell_type": "markdown",
   "metadata": {},
   "source": [
    "## 2.2 generate a feature for the percentage of households with broadband access"
   ]
  },
  {
   "cell_type": "code",
   "execution_count": 19,
   "metadata": {},
   "outputs": [
    {
     "data": {
      "text/html": [
       "<div>\n",
       "<table border=\"1\" class=\"dataframe\">\n",
       "  <thead>\n",
       "    <tr style=\"text-align: right;\">\n",
       "      <th></th>\n",
       "      <th>B28002_004E</th>\n",
       "      <th>NAME</th>\n",
       "      <th>state</th>\n",
       "      <th>public use microdata area</th>\n",
       "      <th>B28002_001E</th>\n",
       "      <th>pcBB</th>\n",
       "    </tr>\n",
       "  </thead>\n",
       "  <tbody>\n",
       "    <tr>\n",
       "      <th>0</th>\n",
       "      <td>32607</td>\n",
       "      <td>St. Lawrence County PUMA, New York</td>\n",
       "      <td>36</td>\n",
       "      <td>100</td>\n",
       "      <td>40479</td>\n",
       "      <td>80.552879</td>\n",
       "    </tr>\n",
       "    <tr>\n",
       "      <th>1</th>\n",
       "      <td>50811</td>\n",
       "      <td>Clinton, Franklin, Essex &amp; Hamilton Counties P...</td>\n",
       "      <td>36</td>\n",
       "      <td>200</td>\n",
       "      <td>67092</td>\n",
       "      <td>75.733321</td>\n",
       "    </tr>\n",
       "    <tr>\n",
       "      <th>2</th>\n",
       "      <td>41210</td>\n",
       "      <td>Warren &amp; Washington Counties PUMA, New York</td>\n",
       "      <td>36</td>\n",
       "      <td>300</td>\n",
       "      <td>51614</td>\n",
       "      <td>79.842678</td>\n",
       "    </tr>\n",
       "    <tr>\n",
       "      <th>3</th>\n",
       "      <td>36075</td>\n",
       "      <td>Herkimer (North &amp; Central) &amp; Oneida (Outer) Co...</td>\n",
       "      <td>36</td>\n",
       "      <td>401</td>\n",
       "      <td>44300</td>\n",
       "      <td>81.433409</td>\n",
       "    </tr>\n",
       "    <tr>\n",
       "      <th>4</th>\n",
       "      <td>47786</td>\n",
       "      <td>Oneida County (Central)--Greater Utica &amp; Rome ...</td>\n",
       "      <td>36</td>\n",
       "      <td>402</td>\n",
       "      <td>61146</td>\n",
       "      <td>78.150656</td>\n",
       "    </tr>\n",
       "  </tbody>\n",
       "</table>\n",
       "</div>"
      ],
      "text/plain": [
       "   B28002_004E                                               NAME  state  \\\n",
       "0        32607                 St. Lawrence County PUMA, New York     36   \n",
       "1        50811  Clinton, Franklin, Essex & Hamilton Counties P...     36   \n",
       "2        41210        Warren & Washington Counties PUMA, New York     36   \n",
       "3        36075  Herkimer (North & Central) & Oneida (Outer) Co...     36   \n",
       "4        47786  Oneida County (Central)--Greater Utica & Rome ...     36   \n",
       "\n",
       "   public use microdata area  B28002_001E       pcBB  \n",
       "0                        100        40479  80.552879  \n",
       "1                        200        67092  75.733321  \n",
       "2                        300        51614  79.842678  \n",
       "3                        401        44300  81.433409  \n",
       "4                        402        61146  78.150656  "
      ]
     },
     "execution_count": 19,
     "metadata": {},
     "output_type": "execute_result"
    }
   ],
   "source": [
    "pumaBB = pumaBB.merge(pumaPP,how='inner',on=['public use microdata area','state','NAME'])\n",
    "pumaBB.drop(['Unnamed: 4_x','Unnamed: 4_y'],axis=1,inplace=True)\n",
    "pumaBB['pcBB'] = (pumaBB.B28002_004E)/(pumaBB.B28002_001E)*100\n",
    "pumaBB.head()"
   ]
  },
  {
   "cell_type": "markdown",
   "metadata": {},
   "source": [
    "## 2.3 Now compare it with the AFF published \"percentage of households with broadband access\" which is a feature available through their website but that cannot be downloaded directly from the API. It compiled by AFF the same way we did above"
   ]
  },
  {
   "cell_type": "markdown",
   "metadata": {},
   "source": [
    "Manually you can download the GCT Geographic Comparison Tables. Download the GCT table that contains the percentage of households in each PUMA with broadband internet subscription as follows:\n",
    "\n",
    "https://factfinder.census.gov/ -> Advanced Search -> Show me all \n",
    "\n",
    "    - Topics: Product Type -> Geography Comparison Table \n",
    "    \n",
    "select the PERCENT OF HOUSEHOLDS WITH A BROADBAND INTERNET SUBSCRIPTION  at our geography granularity (PUMA) and click Download below. This will generate the table on the fly and you can click again on Download.\n",
    "\n",
    "Move the file into the PUIdata directory, unzip it and load it with pandas.\n",
    "    \n",
    "Your table shold be labeled as: GCT2801\t"
   ]
  },
  {
   "cell_type": "markdown",
   "metadata": {},
   "source": [
    "One more hurdle: you need to move this data to jupyterhub/compute, and the link is not something you can copy and paste!\n",
    "Two solutions:\n",
    "\n",
    "-easier but less preferible: upload the table you downloaded locally to github AWS, or else where, and download it from compute\n",
    "\n",
    "-otherwise, learn how to do it with sftp from your local terminal: these are the steps\n",
    "\n",
    "1. ON YOUR LOCAL MACHINE where you downloaded the table (which was downloaded as aff_download.zip for me in my ~/Downloads folder) type the following *sftp* command\n",
    "        \n",
    "        fbianco@Federicas-MacBook-Air:~$ sftp fbianco@staging.cusp.nyu.edu\n",
    "    \n",
    "2. Input your password\n",
    "            \n",
    "        Password: \n",
    "        Connected to staging.cusp.nyu.edu.\n",
    "\n",
    "   This should open an sftp promopt (you should see sftp> at the beginning of the line). Go to the PUI directory (for me /home/fbianco/PUIdata)\n",
    "    \n",
    "        sftp> cd /home/fbianco/PUIdata             \n",
    "        \n",
    "3. Use the sftp command _put_ to copy the file from the local to the remote machine to compute, making sure you use the full path (unless the file was downloaded in your local directory in the local machine)\n",
    "    \n",
    "        sftp> put /Users/fbianco/Downloads/aff_download.zip\n",
    "        \n",
    "You should see:\n",
    "\n",
    "            Uploading /Users/fbianco/Downloads/aff_download.zip to ....\n",
    "\n",
    "And the file can be unzipped and read into your code with pandas. I leave the read in line below for your convenience, those are the only variables you need."
   ]
  },
  {
   "cell_type": "code",
   "execution_count": 30,
   "metadata": {},
   "outputs": [
    {
     "data": {
      "text/html": [
       "<div>\n",
       "<table border=\"1\" class=\"dataframe\">\n",
       "  <thead>\n",
       "    <tr style=\"text-align: right;\">\n",
       "      <th></th>\n",
       "      <th>GCT_STUB.target-geo-id2</th>\n",
       "      <th>HC01</th>\n",
       "      <th>HC02</th>\n",
       "    </tr>\n",
       "  </thead>\n",
       "  <tbody>\n",
       "    <tr>\n",
       "      <th>0</th>\n",
       "      <td>Target Geo Id2</td>\n",
       "      <td>Percent</td>\n",
       "      <td>Margin of Error</td>\n",
       "    </tr>\n",
       "    <tr>\n",
       "      <th>1</th>\n",
       "      <td>36</td>\n",
       "      <td>81.7</td>\n",
       "      <td>0.2</td>\n",
       "    </tr>\n",
       "    <tr>\n",
       "      <th>2</th>\n",
       "      <td>3600100</td>\n",
       "      <td>80.6</td>\n",
       "      <td>2.6</td>\n",
       "    </tr>\n",
       "    <tr>\n",
       "      <th>3</th>\n",
       "      <td>3600200</td>\n",
       "      <td>75.7</td>\n",
       "      <td>2.2</td>\n",
       "    </tr>\n",
       "    <tr>\n",
       "      <th>4</th>\n",
       "      <td>3600300</td>\n",
       "      <td>79.8</td>\n",
       "      <td>2.6</td>\n",
       "    </tr>\n",
       "  </tbody>\n",
       "</table>\n",
       "</div>"
      ],
      "text/plain": [
       "  GCT_STUB.target-geo-id2     HC01             HC02\n",
       "0          Target Geo Id2  Percent  Margin of Error\n",
       "1                      36     81.7              0.2\n",
       "2                 3600100     80.6              2.6\n",
       "3                 3600200     75.7              2.2\n",
       "4                 3600300     79.8              2.6"
      ]
     },
     "execution_count": 30,
     "metadata": {},
     "output_type": "execute_result"
    }
   ],
   "source": [
    "bbpc = pd.read_csv(os.getenv(\"PUIDATA\") + \"/ACS_16_1YR_GCT2801.ST50_with_ann.csv\",\n",
    "            usecols=[\"GCT_STUB.target-geo-id2\",\"HC01\",\"HC02\"])\n",
    "bbpc.head()"
   ]
  },
  {
   "cell_type": "markdown",
   "metadata": {},
   "source": [
    "notice 2 things:\n",
    "    - that the Target Geo Id2: GCT_STUB.target-geo-id2 is a 7 digits number. See my comment above about it. \n",
    "    - that there is a weird double header. You can deal with it in one of 2 ways: either reread the file in skipping one row and using the second row as header, or remove that row (for example with bbpc.drop(0, inplace=True)) but also then you should check the *type* of your GCT_STUB.target-geo-id2 feature! The fact that pandas had to read in a column with nombers and characters forced it to read it as a string, and you need to convert it (.astype(int)) to merge it easily with the API acquired data.\n",
    "    \n",
    "In the API dataframe the PUMA id was a 4 digit number. If you have them both as integers and you remove the initial three digits (for example by subtracting 360000 from each value wich you can do as bbpc[\"gid\"] = bbpc.gid - 3600000 then you can merge on the puma id "
   ]
  },
  {
   "cell_type": "code",
   "execution_count": 34,
   "metadata": {},
   "outputs": [],
   "source": [
    "bbpc.drop([0,1],inplace=True)#getting rid of the double header\n",
    "bbpc.reset_index(drop=True, inplace=True)\n",
    "bbpc.rename_axis({'GCT_STUB.target-geo-id2':'gid'},axis=1,inplace=True)"
   ]
  },
  {
   "cell_type": "code",
   "execution_count": 35,
   "metadata": {},
   "outputs": [
    {
     "data": {
      "text/plain": [
       "str"
      ]
     },
     "execution_count": 35,
     "metadata": {},
     "output_type": "execute_result"
    }
   ],
   "source": [
    "type(bbpc.gid[0])"
   ]
  },
  {
   "cell_type": "code",
   "execution_count": 36,
   "metadata": {},
   "outputs": [],
   "source": [
    "bbpc.gid = bbpc.gid.astype(int)#convert to int\n",
    "bbpc.HC01 = bbpc.HC01.astype(float)#to float\n",
    "bbpc.HC02 = bbpc.HC02.astype(float)"
   ]
  },
  {
   "cell_type": "code",
   "execution_count": 37,
   "metadata": {},
   "outputs": [
    {
     "data": {
      "text/plain": [
       "numpy.int64"
      ]
     },
     "execution_count": 37,
     "metadata": {},
     "output_type": "execute_result"
    }
   ],
   "source": [
    "type(bbpc.gid[0])"
   ]
  },
  {
   "cell_type": "code",
   "execution_count": 38,
   "metadata": {},
   "outputs": [],
   "source": [
    "bbpc.gid = bbpc.gid - 3600000 #all concerns addressed and dataframe ready to merge"
   ]
  },
  {
   "cell_type": "code",
   "execution_count": 39,
   "metadata": {},
   "outputs": [
    {
     "data": {
      "text/html": [
       "<div>\n",
       "<table border=\"1\" class=\"dataframe\">\n",
       "  <thead>\n",
       "    <tr style=\"text-align: right;\">\n",
       "      <th></th>\n",
       "      <th>gid</th>\n",
       "      <th>HC01</th>\n",
       "      <th>HC02</th>\n",
       "    </tr>\n",
       "  </thead>\n",
       "  <tbody>\n",
       "    <tr>\n",
       "      <th>0</th>\n",
       "      <td>300</td>\n",
       "      <td>79.8</td>\n",
       "      <td>2.6</td>\n",
       "    </tr>\n",
       "    <tr>\n",
       "      <th>1</th>\n",
       "      <td>401</td>\n",
       "      <td>81.4</td>\n",
       "      <td>2.4</td>\n",
       "    </tr>\n",
       "    <tr>\n",
       "      <th>2</th>\n",
       "      <td>402</td>\n",
       "      <td>78.2</td>\n",
       "      <td>2.3</td>\n",
       "    </tr>\n",
       "    <tr>\n",
       "      <th>3</th>\n",
       "      <td>403</td>\n",
       "      <td>76.6</td>\n",
       "      <td>2.2</td>\n",
       "    </tr>\n",
       "    <tr>\n",
       "      <th>4</th>\n",
       "      <td>500</td>\n",
       "      <td>81.4</td>\n",
       "      <td>2.1</td>\n",
       "    </tr>\n",
       "  </tbody>\n",
       "</table>\n",
       "</div>"
      ],
      "text/plain": [
       "   gid  HC01  HC02\n",
       "0  300  79.8   2.6\n",
       "1  401  81.4   2.4\n",
       "2  402  78.2   2.3\n",
       "3  403  76.6   2.2\n",
       "4  500  81.4   2.1"
      ]
     },
     "execution_count": 39,
     "metadata": {},
     "output_type": "execute_result"
    }
   ],
   "source": [
    "bbpc.head()"
   ]
  },
  {
   "cell_type": "markdown",
   "metadata": {},
   "source": [
    "## check that the percentage of households with broadband you generated and the one you red in from the table you downloaded manually are the same"
   ]
  },
  {
   "cell_type": "code",
   "execution_count": 40,
   "metadata": {},
   "outputs": [
    {
     "data": {
      "text/html": [
       "<div>\n",
       "<table border=\"1\" class=\"dataframe\">\n",
       "  <thead>\n",
       "    <tr style=\"text-align: right;\">\n",
       "      <th></th>\n",
       "      <th>pcBB</th>\n",
       "      <th>HC01</th>\n",
       "      <th>diff</th>\n",
       "    </tr>\n",
       "  </thead>\n",
       "  <tbody>\n",
       "    <tr>\n",
       "      <th>count</th>\n",
       "      <td>143.000000</td>\n",
       "      <td>143.000000</td>\n",
       "      <td>143.000000</td>\n",
       "    </tr>\n",
       "    <tr>\n",
       "      <th>mean</th>\n",
       "      <td>81.897260</td>\n",
       "      <td>81.895105</td>\n",
       "      <td>0.026021</td>\n",
       "    </tr>\n",
       "    <tr>\n",
       "      <th>std</th>\n",
       "      <td>7.093400</td>\n",
       "      <td>7.095280</td>\n",
       "      <td>0.014462</td>\n",
       "    </tr>\n",
       "    <tr>\n",
       "      <th>min</th>\n",
       "      <td>54.932945</td>\n",
       "      <td>54.900000</td>\n",
       "      <td>0.000178</td>\n",
       "    </tr>\n",
       "    <tr>\n",
       "      <th>25%</th>\n",
       "      <td>77.791628</td>\n",
       "      <td>77.800000</td>\n",
       "      <td>0.011853</td>\n",
       "    </tr>\n",
       "    <tr>\n",
       "      <th>50%</th>\n",
       "      <td>83.048205</td>\n",
       "      <td>83.000000</td>\n",
       "      <td>0.026724</td>\n",
       "    </tr>\n",
       "    <tr>\n",
       "      <th>75%</th>\n",
       "      <td>87.384101</td>\n",
       "      <td>87.400000</td>\n",
       "      <td>0.038152</td>\n",
       "    </tr>\n",
       "    <tr>\n",
       "      <th>max</th>\n",
       "      <td>93.404143</td>\n",
       "      <td>93.400000</td>\n",
       "      <td>0.049872</td>\n",
       "    </tr>\n",
       "  </tbody>\n",
       "</table>\n",
       "</div>"
      ],
      "text/plain": [
       "             pcBB        HC01        diff\n",
       "count  143.000000  143.000000  143.000000\n",
       "mean    81.897260   81.895105    0.026021\n",
       "std      7.093400    7.095280    0.014462\n",
       "min     54.932945   54.900000    0.000178\n",
       "25%     77.791628   77.800000    0.011853\n",
       "50%     83.048205   83.000000    0.026724\n",
       "75%     87.384101   87.400000    0.038152\n",
       "max     93.404143   93.400000    0.049872"
      ]
     },
     "execution_count": 40,
     "metadata": {},
     "output_type": "execute_result"
    }
   ],
   "source": [
    "diff_ = pumaBB.merge(bbpc, right_on=\"gid\", left_on=\"public use microdata area\")[[\"pcBB\", \"HC01\"]]\n",
    "diff_[\"diff\"] = np.abs(diff_[\"pcBB\"] - diff_[\"HC01\"])\n",
    "diff_.describe()"
   ]
  },
  {
   "cell_type": "markdown",
   "metadata": {},
   "source": [
    "the maximum difference should only be a few percent"
   ]
  },
  {
   "cell_type": "markdown",
   "metadata": {},
   "source": [
    "# 3 Plot a choropleth of NYC broadband access \n",
    "## 3.1 Merge with the puma geodataframe and plot a choropleth of the percentage of households with broadband access"
   ]
  },
  {
   "cell_type": "code",
   "execution_count": 41,
   "metadata": {},
   "outputs": [
    {
     "data": {
      "text/html": [
       "<div>\n",
       "<table border=\"1\" class=\"dataframe\">\n",
       "  <thead>\n",
       "    <tr style=\"text-align: right;\">\n",
       "      <th></th>\n",
       "      <th>puma</th>\n",
       "      <th>shape_area</th>\n",
       "      <th>shape_leng</th>\n",
       "      <th>geometry</th>\n",
       "      <th>B28002_004E</th>\n",
       "      <th>NAME</th>\n",
       "      <th>state</th>\n",
       "      <th>public use microdata area</th>\n",
       "      <th>B28002_001E</th>\n",
       "      <th>pcBB</th>\n",
       "    </tr>\n",
       "  </thead>\n",
       "  <tbody>\n",
       "    <tr>\n",
       "      <th>0</th>\n",
       "      <td>3701</td>\n",
       "      <td>9.792852e+07</td>\n",
       "      <td>53227.144461</td>\n",
       "      <td>POLYGON ((-73.89641133483133 40.90450452082026...</td>\n",
       "      <td>35529</td>\n",
       "      <td>NYC-Bronx Community District 8--Riverdale, Fie...</td>\n",
       "      <td>36</td>\n",
       "      <td>3701</td>\n",
       "      <td>42158</td>\n",
       "      <td>84.275820</td>\n",
       "    </tr>\n",
       "    <tr>\n",
       "      <th>1</th>\n",
       "      <td>3702</td>\n",
       "      <td>1.889860e+08</td>\n",
       "      <td>106050.002302</td>\n",
       "      <td>POLYGON ((-73.8442314689986 40.86942035096838,...</td>\n",
       "      <td>34030</td>\n",
       "      <td>NYC-Bronx Community District 12--Wakefield, Wi...</td>\n",
       "      <td>36</td>\n",
       "      <td>3702</td>\n",
       "      <td>49817</td>\n",
       "      <td>68.310015</td>\n",
       "    </tr>\n",
       "    <tr>\n",
       "      <th>2</th>\n",
       "      <td>3703</td>\n",
       "      <td>2.670137e+08</td>\n",
       "      <td>304071.257466</td>\n",
       "      <td>(POLYGON ((-73.78833349834532 40.8346671297593...</td>\n",
       "      <td>36716</td>\n",
       "      <td>NYC-Bronx Community District 10--Co-op City, P...</td>\n",
       "      <td>36</td>\n",
       "      <td>3703</td>\n",
       "      <td>44329</td>\n",
       "      <td>82.826141</td>\n",
       "    </tr>\n",
       "    <tr>\n",
       "      <th>3</th>\n",
       "      <td>3704</td>\n",
       "      <td>1.062129e+08</td>\n",
       "      <td>47970.901277</td>\n",
       "      <td>POLYGON ((-73.84792614069238 40.8713422330779,...</td>\n",
       "      <td>32269</td>\n",
       "      <td>NYC-Bronx Community District 11--Pelham Parkwa...</td>\n",
       "      <td>36</td>\n",
       "      <td>3704</td>\n",
       "      <td>44476</td>\n",
       "      <td>72.553737</td>\n",
       "    </tr>\n",
       "    <tr>\n",
       "      <th>4</th>\n",
       "      <td>4015</td>\n",
       "      <td>8.105438e+07</td>\n",
       "      <td>50007.415493</td>\n",
       "      <td>POLYGON ((-73.95374853778468 40.63858633758547...</td>\n",
       "      <td>44079</td>\n",
       "      <td>NYC-Brooklyn Community District 14--Flatbush &amp;...</td>\n",
       "      <td>36</td>\n",
       "      <td>4015</td>\n",
       "      <td>55953</td>\n",
       "      <td>78.778618</td>\n",
       "    </tr>\n",
       "  </tbody>\n",
       "</table>\n",
       "</div>"
      ],
      "text/plain": [
       "   puma    shape_area     shape_leng  \\\n",
       "0  3701  9.792852e+07   53227.144461   \n",
       "1  3702  1.889860e+08  106050.002302   \n",
       "2  3703  2.670137e+08  304071.257466   \n",
       "3  3704  1.062129e+08   47970.901277   \n",
       "4  4015  8.105438e+07   50007.415493   \n",
       "\n",
       "                                            geometry  B28002_004E  \\\n",
       "0  POLYGON ((-73.89641133483133 40.90450452082026...        35529   \n",
       "1  POLYGON ((-73.8442314689986 40.86942035096838,...        34030   \n",
       "2  (POLYGON ((-73.78833349834532 40.8346671297593...        36716   \n",
       "3  POLYGON ((-73.84792614069238 40.8713422330779,...        32269   \n",
       "4  POLYGON ((-73.95374853778468 40.63858633758547...        44079   \n",
       "\n",
       "                                                NAME  state  \\\n",
       "0  NYC-Bronx Community District 8--Riverdale, Fie...     36   \n",
       "1  NYC-Bronx Community District 12--Wakefield, Wi...     36   \n",
       "2  NYC-Bronx Community District 10--Co-op City, P...     36   \n",
       "3  NYC-Bronx Community District 11--Pelham Parkwa...     36   \n",
       "4  NYC-Brooklyn Community District 14--Flatbush &...     36   \n",
       "\n",
       "   public use microdata area  B28002_001E       pcBB  \n",
       "0                       3701        42158  84.275820  \n",
       "1                       3702        49817  68.310015  \n",
       "2                       3703        44329  82.826141  \n",
       "3                       3704        44476  72.553737  \n",
       "4                       4015        55953  78.778618  "
      ]
     },
     "execution_count": 41,
     "metadata": {},
     "output_type": "execute_result"
    }
   ],
   "source": [
    "#choropleth of the percentage of internet axcess\n",
    "pumashp1 = pumashp.merge(pumaBB,how='inner',left_on='puma',right_on='public use microdata area')\n",
    "pumashp1.head()"
   ]
  },
  {
   "cell_type": "code",
   "execution_count": 42,
   "metadata": {},
   "outputs": [
    {
     "data": {
      "image/png": "[encoded data removed]",
      "text/plain": [
       "<matplotlib.figure.Figure at 0x7f8842f1de10>"
      ]
     },
     "metadata": {},
     "output_type": "display_data"
    }
   ],
   "source": [
    "cp.choroplethNYC(pumashp1,column='pcBB');"
   ]
  },
  {
   "cell_type": "markdown",
   "metadata": {},
   "source": [
    "### Figure 2 :- This is a choropleth of the percentage of households with broadband access across NYC. "
   ]
  },
  {
   "cell_type": "markdown",
   "metadata": {},
   "source": [
    "# 4. LinkNYC: assess whether the locations of the linkNYC stations are supplying internet where it is needed.\n",
    "\n",
    "acquire the linkNYC locations and prepare them into a dataframe\n",
    "read it in from the HW7_fb55 folder in :\n",
    "https://github.com/fedhere/PUI2018_fb55\n",
    "\n",
    "Notice that you can also get a linkNYC locations shapefile from NYC open data, as I did to generate this, but I want you do to do some extra coordinates gymnastics for practice so use the one I provide."
   ]
  },
  {
   "cell_type": "code",
   "execution_count": 68,
   "metadata": {},
   "outputs": [],
   "source": [
    "linkNYC = pd.read_csv(os.getenv('PUIDATA')+'/linkNYClocations.csv')"
   ]
  },
  {
   "cell_type": "code",
   "execution_count": 69,
   "metadata": {},
   "outputs": [
    {
     "data": {
      "text/html": [
       "<div>\n",
       "<table border=\"1\" class=\"dataframe\">\n",
       "  <thead>\n",
       "    <tr style=\"text-align: right;\">\n",
       "      <th></th>\n",
       "      <th>link_site</th>\n",
       "      <th>longitude</th>\n",
       "      <th>date_link_</th>\n",
       "      <th>latitude</th>\n",
       "    </tr>\n",
       "  </thead>\n",
       "  <tbody>\n",
       "    <tr>\n",
       "      <th>0</th>\n",
       "      <td>bk-01-138951</td>\n",
       "      <td>-73.942489</td>\n",
       "      <td>2017-07-01</td>\n",
       "      <td>40.701668</td>\n",
       "    </tr>\n",
       "    <tr>\n",
       "      <th>1</th>\n",
       "      <td>bk-01-109091</td>\n",
       "      <td>-73.942169</td>\n",
       "      <td>2017-07-01</td>\n",
       "      <td>40.701542</td>\n",
       "    </tr>\n",
       "    <tr>\n",
       "      <th>2</th>\n",
       "      <td>bk-01-143982</td>\n",
       "      <td>-73.942239</td>\n",
       "      <td>2017-07-01</td>\n",
       "      <td>40.701930</td>\n",
       "    </tr>\n",
       "    <tr>\n",
       "      <th>3</th>\n",
       "      <td>bk-01-109262</td>\n",
       "      <td>-73.942918</td>\n",
       "      <td>2017-04-28</td>\n",
       "      <td>40.705060</td>\n",
       "    </tr>\n",
       "    <tr>\n",
       "      <th>4</th>\n",
       "      <td>bk-01-125268</td>\n",
       "      <td>-73.953439</td>\n",
       "      <td>2017-03-31</td>\n",
       "      <td>40.728133</td>\n",
       "    </tr>\n",
       "  </tbody>\n",
       "</table>\n",
       "</div>"
      ],
      "text/plain": [
       "      link_site  longitude  date_link_   latitude\n",
       "0  bk-01-138951 -73.942489  2017-07-01  40.701668\n",
       "1  bk-01-109091 -73.942169  2017-07-01  40.701542\n",
       "2  bk-01-143982 -73.942239  2017-07-01  40.701930\n",
       "3  bk-01-109262 -73.942918  2017-04-28  40.705060\n",
       "4  bk-01-125268 -73.953439  2017-03-31  40.728133"
      ]
     },
     "execution_count": 69,
     "metadata": {},
     "output_type": "execute_result"
    }
   ],
   "source": [
    "linkNYC.drop('Unnamed: 0',axis=1,inplace=True)\n",
    "linkNYC.head()\n"
   ]
  },
  {
   "cell_type": "code",
   "execution_count": 70,
   "metadata": {},
   "outputs": [
    {
     "data": {
      "text/plain": [
       "(1414, 4)"
      ]
     },
     "execution_count": 70,
     "metadata": {},
     "output_type": "execute_result"
    }
   ],
   "source": [
    "linkNYC.shape"
   ]
  },
  {
   "cell_type": "markdown",
   "metadata": {},
   "source": [
    "## combine long lat into a column like you did in the lab to greate a \"geometry\" column for the dataframe, then convert the dataframe into a GeoDataFrame _linkNYC_ and set native coordinates  frame to lat/lon as you did in the lab\n",
    "    linkNYC.crs = ..."
   ]
  },
  {
   "cell_type": "code",
   "execution_count": 71,
   "metadata": {},
   "outputs": [],
   "source": [
    "# combine lat and lon to one column\n",
    "linkNYC['lonlat']=list(zip(linkNYC.longitude,linkNYC.latitude))\n",
    "# Create Point Geometry for based on lonlat column\n",
    "linkNYC['geometry']=linkNYC[['lonlat']].applymap(lambda x:shapely.geometry.Point(x))"
   ]
  },
  {
   "cell_type": "code",
   "execution_count": 72,
   "metadata": {},
   "outputs": [
    {
     "data": {
      "text/html": [
       "<div>\n",
       "<table border=\"1\" class=\"dataframe\">\n",
       "  <thead>\n",
       "    <tr style=\"text-align: right;\">\n",
       "      <th></th>\n",
       "      <th>link_site</th>\n",
       "      <th>longitude</th>\n",
       "      <th>date_link_</th>\n",
       "      <th>latitude</th>\n",
       "      <th>lonlat</th>\n",
       "      <th>geometry</th>\n",
       "    </tr>\n",
       "  </thead>\n",
       "  <tbody>\n",
       "    <tr>\n",
       "      <th>0</th>\n",
       "      <td>bk-01-138951</td>\n",
       "      <td>-73.942489</td>\n",
       "      <td>2017-07-01</td>\n",
       "      <td>40.701668</td>\n",
       "      <td>(-73.94248859, 40.70166753)</td>\n",
       "      <td>POINT (-73.94248859 40.70166753)</td>\n",
       "    </tr>\n",
       "    <tr>\n",
       "      <th>1</th>\n",
       "      <td>bk-01-109091</td>\n",
       "      <td>-73.942169</td>\n",
       "      <td>2017-07-01</td>\n",
       "      <td>40.701542</td>\n",
       "      <td>(-73.9421692831, 40.7015421938)</td>\n",
       "      <td>POINT (-73.9421692831 40.7015421938)</td>\n",
       "    </tr>\n",
       "    <tr>\n",
       "      <th>2</th>\n",
       "      <td>bk-01-143982</td>\n",
       "      <td>-73.942239</td>\n",
       "      <td>2017-07-01</td>\n",
       "      <td>40.701930</td>\n",
       "      <td>(-73.9422392385, 40.7019303439)</td>\n",
       "      <td>POINT (-73.94223923850001 40.7019303439)</td>\n",
       "    </tr>\n",
       "    <tr>\n",
       "      <th>3</th>\n",
       "      <td>bk-01-109262</td>\n",
       "      <td>-73.942918</td>\n",
       "      <td>2017-04-28</td>\n",
       "      <td>40.705060</td>\n",
       "      <td>(-73.94291758, 40.70506042)</td>\n",
       "      <td>POINT (-73.94291758 40.70506042)</td>\n",
       "    </tr>\n",
       "    <tr>\n",
       "      <th>4</th>\n",
       "      <td>bk-01-125268</td>\n",
       "      <td>-73.953439</td>\n",
       "      <td>2017-03-31</td>\n",
       "      <td>40.728133</td>\n",
       "      <td>(-73.953439, 40.728133)</td>\n",
       "      <td>POINT (-73.953439 40.728133)</td>\n",
       "    </tr>\n",
       "  </tbody>\n",
       "</table>\n",
       "</div>"
      ],
      "text/plain": [
       "      link_site  longitude  date_link_   latitude  \\\n",
       "0  bk-01-138951 -73.942489  2017-07-01  40.701668   \n",
       "1  bk-01-109091 -73.942169  2017-07-01  40.701542   \n",
       "2  bk-01-143982 -73.942239  2017-07-01  40.701930   \n",
       "3  bk-01-109262 -73.942918  2017-04-28  40.705060   \n",
       "4  bk-01-125268 -73.953439  2017-03-31  40.728133   \n",
       "\n",
       "                            lonlat                                  geometry  \n",
       "0      (-73.94248859, 40.70166753)          POINT (-73.94248859 40.70166753)  \n",
       "1  (-73.9421692831, 40.7015421938)      POINT (-73.9421692831 40.7015421938)  \n",
       "2  (-73.9422392385, 40.7019303439)  POINT (-73.94223923850001 40.7019303439)  \n",
       "3      (-73.94291758, 40.70506042)          POINT (-73.94291758 40.70506042)  \n",
       "4          (-73.953439, 40.728133)              POINT (-73.953439 40.728133)  "
      ]
     },
     "execution_count": 72,
     "metadata": {},
     "output_type": "execute_result"
    }
   ],
   "source": [
    "linkNYC.head()"
   ]
  },
  {
   "cell_type": "code",
   "execution_count": 73,
   "metadata": {},
   "outputs": [],
   "source": [
    "linkNYC = gpd.GeoDataFrame(linkNYC)"
   ]
  },
  {
   "cell_type": "code",
   "execution_count": 74,
   "metadata": {},
   "outputs": [],
   "source": [
    "#linkNYC.crs = crs.from_epsg(2263)"
   ]
  },
  {
   "cell_type": "markdown",
   "metadata": {},
   "source": [
    "# plot the location of the linkNYC stations on top of a choropleth of broadband access percentage in *5 equal intervals*\n",
    "\n",
    "I have also color coded the station by how long ago they have been installed, using the date datetime variable"
   ]
  },
  {
   "cell_type": "code",
   "execution_count": 75,
   "metadata": {},
   "outputs": [
    {
     "data": {
      "image/png": "[encoded data removed]",
      "text/plain": [
       "<matplotlib.figure.Figure at 0x7f8836996ba8>"
      ]
     },
     "metadata": {},
     "output_type": "display_data"
    }
   ],
   "source": [
    "# linkNYC.plot()\n",
    "f, ax = plt.subplots(figsize=(10,10))\n",
    "ax.get_xaxis().set_visible(False)\n",
    "ax.get_yaxis().set_visible(False)\n",
    "pumashp1.plot(column='pcBB',ax=ax,cmap='coolwarm_r',scheme=\"Equal_interval\", k=5,legend=True)#,scheme=\"quantiles\", k=5)\n",
    "#linkNYC.plot(column='pcBB',scheme=\"Equal_interval\", legend=True, k=5)\n",
    "linkNYC.plot(cmap='coolwarm',alpha=1,linewidth=0.1,ax=ax)\n",
    "plt.title(\"LInkNYC stations and BB access Percentage\");"
   ]
  },
  {
   "cell_type": "markdown",
   "metadata": {},
   "source": [
    "\n",
    "### Figure 3 :- The plot shows the location of the linkNYC stations along with a choropleth of the broadband access percentages across NYC."
   ]
  },
  {
   "cell_type": "markdown",
   "metadata": {},
   "source": [
    "# 5 Find the number of linkNYC locations per person by PUMA\n",
    "\n",
    "## 5.1 with the AFF API from ACS get the total population by puma and merge it into your GeoDF"
   ]
  },
  {
   "cell_type": "markdown",
   "metadata": {},
   "source": [
    "the ACS population by  variable is B00001_001E, and of course your geometry is PUMA, _public%20use%20microdata%20area:*_, as before"
   ]
  },
  {
   "cell_type": "code",
   "execution_count": 76,
   "metadata": {},
   "outputs": [
    {
     "data": {
      "text/plain": [
       "{'attributes': 'B00001_001EA',\n",
       " 'concept': 'UNWEIGHTED SAMPLE COUNT OF THE POPULATION',\n",
       " 'group': 'B00001',\n",
       " 'label': 'Estimate!!Total',\n",
       " 'limit': 0,\n",
       " 'predicateType': 'int'}"
      ]
     },
     "execution_count": 76,
     "metadata": {},
     "output_type": "execute_result"
    }
   ],
   "source": [
    "#keyword for the total population\n",
    "keypop = 'B00001_001E'\n",
    "aff1y['variables'][keypop]"
   ]
  },
  {
   "cell_type": "code",
   "execution_count": 77,
   "metadata": {},
   "outputs": [],
   "source": [
    "url = \"https://api.census.gov/data/2016/acs/acs1?get=\" + keypop +\\\n",
    "\",NAME&for=public%20use%20microdata%20area:*&in=state:36&key=\" + myAPI\n",
    "resp = requests.request('GET', url).content\n",
    "pumaPop = pd.read_csv(io.StringIO(resp.decode('utf-8').replace('[','').replace(']','')))\n",
    "pumaPop.drop('Unnamed: 4',axis=1,inplace=True)"
   ]
  },
  {
   "cell_type": "code",
   "execution_count": 78,
   "metadata": {},
   "outputs": [
    {
     "data": {
      "text/html": [
       "<div>\n",
       "<table border=\"1\" class=\"dataframe\">\n",
       "  <thead>\n",
       "    <tr style=\"text-align: right;\">\n",
       "      <th></th>\n",
       "      <th>B00001_001E</th>\n",
       "      <th>NAME</th>\n",
       "      <th>state</th>\n",
       "      <th>public use microdata area</th>\n",
       "    </tr>\n",
       "  </thead>\n",
       "  <tbody>\n",
       "    <tr>\n",
       "      <th>0</th>\n",
       "      <td>3075</td>\n",
       "      <td>St. Lawrence County PUMA, New York</td>\n",
       "      <td>36</td>\n",
       "      <td>100</td>\n",
       "    </tr>\n",
       "    <tr>\n",
       "      <th>1</th>\n",
       "      <td>4356</td>\n",
       "      <td>Clinton, Franklin, Essex &amp; Hamilton Counties P...</td>\n",
       "      <td>36</td>\n",
       "      <td>200</td>\n",
       "    </tr>\n",
       "    <tr>\n",
       "      <th>2</th>\n",
       "      <td>2736</td>\n",
       "      <td>Warren &amp; Washington Counties PUMA, New York</td>\n",
       "      <td>36</td>\n",
       "      <td>300</td>\n",
       "    </tr>\n",
       "    <tr>\n",
       "      <th>3</th>\n",
       "      <td>2722</td>\n",
       "      <td>Herkimer (North &amp; Central) &amp; Oneida (Outer) Co...</td>\n",
       "      <td>36</td>\n",
       "      <td>401</td>\n",
       "    </tr>\n",
       "    <tr>\n",
       "      <th>4</th>\n",
       "      <td>2874</td>\n",
       "      <td>Oneida County (Central)--Greater Utica &amp; Rome ...</td>\n",
       "      <td>36</td>\n",
       "      <td>402</td>\n",
       "    </tr>\n",
       "  </tbody>\n",
       "</table>\n",
       "</div>"
      ],
      "text/plain": [
       "   B00001_001E                                               NAME  state  \\\n",
       "0         3075                 St. Lawrence County PUMA, New York     36   \n",
       "1         4356  Clinton, Franklin, Essex & Hamilton Counties P...     36   \n",
       "2         2736        Warren & Washington Counties PUMA, New York     36   \n",
       "3         2722  Herkimer (North & Central) & Oneida (Outer) Co...     36   \n",
       "4         2874  Oneida County (Central)--Greater Utica & Rome ...     36   \n",
       "\n",
       "   public use microdata area  \n",
       "0                        100  \n",
       "1                        200  \n",
       "2                        300  \n",
       "3                        401  \n",
       "4                        402  "
      ]
     },
     "execution_count": 78,
     "metadata": {},
     "output_type": "execute_result"
    }
   ],
   "source": [
    "pumaPop.head()"
   ]
  },
  {
   "cell_type": "code",
   "execution_count": 79,
   "metadata": {},
   "outputs": [],
   "source": [
    "pumashp2 = pumashp.merge(pumaPop,how='inner',left_on='puma',right_on='public use microdata area')"
   ]
  },
  {
   "cell_type": "code",
   "execution_count": 80,
   "metadata": {},
   "outputs": [
    {
     "data": {
      "text/html": [
       "<div>\n",
       "<table border=\"1\" class=\"dataframe\">\n",
       "  <thead>\n",
       "    <tr style=\"text-align: right;\">\n",
       "      <th></th>\n",
       "      <th>puma</th>\n",
       "      <th>shape_area</th>\n",
       "      <th>shape_leng</th>\n",
       "      <th>geometry</th>\n",
       "      <th>B00001_001E</th>\n",
       "      <th>NAME</th>\n",
       "      <th>state</th>\n",
       "      <th>public use microdata area</th>\n",
       "    </tr>\n",
       "  </thead>\n",
       "  <tbody>\n",
       "    <tr>\n",
       "      <th>0</th>\n",
       "      <td>3701</td>\n",
       "      <td>9.792852e+07</td>\n",
       "      <td>53227.144461</td>\n",
       "      <td>POLYGON ((-73.89641133483133 40.90450452082026...</td>\n",
       "      <td>1517</td>\n",
       "      <td>NYC-Bronx Community District 8--Riverdale, Fie...</td>\n",
       "      <td>36</td>\n",
       "      <td>3701</td>\n",
       "    </tr>\n",
       "    <tr>\n",
       "      <th>1</th>\n",
       "      <td>3702</td>\n",
       "      <td>1.889860e+08</td>\n",
       "      <td>106050.002302</td>\n",
       "      <td>POLYGON ((-73.8442314689986 40.86942035096838,...</td>\n",
       "      <td>1959</td>\n",
       "      <td>NYC-Bronx Community District 12--Wakefield, Wi...</td>\n",
       "      <td>36</td>\n",
       "      <td>3702</td>\n",
       "    </tr>\n",
       "    <tr>\n",
       "      <th>2</th>\n",
       "      <td>3703</td>\n",
       "      <td>2.670137e+08</td>\n",
       "      <td>304071.257466</td>\n",
       "      <td>(POLYGON ((-73.78833349834532 40.8346671297593...</td>\n",
       "      <td>1305</td>\n",
       "      <td>NYC-Bronx Community District 10--Co-op City, P...</td>\n",
       "      <td>36</td>\n",
       "      <td>3703</td>\n",
       "    </tr>\n",
       "    <tr>\n",
       "      <th>3</th>\n",
       "      <td>3704</td>\n",
       "      <td>1.062129e+08</td>\n",
       "      <td>47970.901277</td>\n",
       "      <td>POLYGON ((-73.84792614069238 40.8713422330779,...</td>\n",
       "      <td>1882</td>\n",
       "      <td>NYC-Bronx Community District 11--Pelham Parkwa...</td>\n",
       "      <td>36</td>\n",
       "      <td>3704</td>\n",
       "    </tr>\n",
       "    <tr>\n",
       "      <th>4</th>\n",
       "      <td>4015</td>\n",
       "      <td>8.105438e+07</td>\n",
       "      <td>50007.415493</td>\n",
       "      <td>POLYGON ((-73.95374853778468 40.63858633758547...</td>\n",
       "      <td>2515</td>\n",
       "      <td>NYC-Brooklyn Community District 14--Flatbush &amp;...</td>\n",
       "      <td>36</td>\n",
       "      <td>4015</td>\n",
       "    </tr>\n",
       "  </tbody>\n",
       "</table>\n",
       "</div>"
      ],
      "text/plain": [
       "   puma    shape_area     shape_leng  \\\n",
       "0  3701  9.792852e+07   53227.144461   \n",
       "1  3702  1.889860e+08  106050.002302   \n",
       "2  3703  2.670137e+08  304071.257466   \n",
       "3  3704  1.062129e+08   47970.901277   \n",
       "4  4015  8.105438e+07   50007.415493   \n",
       "\n",
       "                                            geometry  B00001_001E  \\\n",
       "0  POLYGON ((-73.89641133483133 40.90450452082026...         1517   \n",
       "1  POLYGON ((-73.8442314689986 40.86942035096838,...         1959   \n",
       "2  (POLYGON ((-73.78833349834532 40.8346671297593...         1305   \n",
       "3  POLYGON ((-73.84792614069238 40.8713422330779,...         1882   \n",
       "4  POLYGON ((-73.95374853778468 40.63858633758547...         2515   \n",
       "\n",
       "                                                NAME  state  \\\n",
       "0  NYC-Bronx Community District 8--Riverdale, Fie...     36   \n",
       "1  NYC-Bronx Community District 12--Wakefield, Wi...     36   \n",
       "2  NYC-Bronx Community District 10--Co-op City, P...     36   \n",
       "3  NYC-Bronx Community District 11--Pelham Parkwa...     36   \n",
       "4  NYC-Brooklyn Community District 14--Flatbush &...     36   \n",
       "\n",
       "   public use microdata area  \n",
       "0                       3701  \n",
       "1                       3702  \n",
       "2                       3703  \n",
       "3                       3704  \n",
       "4                       4015  "
      ]
     },
     "execution_count": 80,
     "metadata": {},
     "output_type": "execute_result"
    }
   ],
   "source": [
    "pumashp2.head()"
   ]
  },
  {
   "cell_type": "markdown",
   "metadata": {},
   "source": [
    "## 5.2 find the number of station per 100 people per PUMA\n",
    "**Important** you can do this with an sjoin(). But sjoin() should not be used with lat/lon coordinates cause they are **not \"flat coordinates\"**. Since spattial joins are done in cartesian geometry the only coordinate systems suitable to spatial joins are flat coordinate plane systems, which in the NYC area is 2263. So before you proceed to the sjoin you have to convert both pumashp and linkNYC to 2263 (for example with GeoDataFrame method .to_crs(epsg=...) )\n",
    "\n",
    "\n",
    "(A note: You can also do this by hand by asking for each point if it is in any of the regions, for example in a for loop. But that is escruciatingly slow, unless you get smart about your requests (for example for a given PUMA not asking if the coordinates of a point are very different from the center of a PUMA). With the new version of geopandas this is not needed, cause the sjoin is fast, but with the older versions this was sometimes better) )"
   ]
  },
  {
   "cell_type": "markdown",
   "metadata": {},
   "source": [
    "convert coordinates for pumashp and linkNYC"
   ]
  },
  {
   "cell_type": "markdown",
   "metadata": {},
   "source": [
    "create a geodataframe with a spatial join and use groupby to count the number of linkNYC in each PUMA"
   ]
  },
  {
   "cell_type": "code",
   "execution_count": 81,
   "metadata": {},
   "outputs": [
    {
     "data": {
      "text/html": [
       "<div>\n",
       "<table border=\"1\" class=\"dataframe\">\n",
       "  <thead>\n",
       "    <tr style=\"text-align: right;\">\n",
       "      <th></th>\n",
       "      <th>puma</th>\n",
       "      <th>shape_area</th>\n",
       "      <th>shape_leng</th>\n",
       "      <th>geometry</th>\n",
       "      <th>B00001_001E</th>\n",
       "      <th>NAME</th>\n",
       "      <th>state</th>\n",
       "      <th>public use microdata area</th>\n",
       "    </tr>\n",
       "  </thead>\n",
       "  <tbody>\n",
       "    <tr>\n",
       "      <th>0</th>\n",
       "      <td>3701</td>\n",
       "      <td>9.792852e+07</td>\n",
       "      <td>53227.144461</td>\n",
       "      <td>POLYGON ((-73.89641133483133 40.90450452082026...</td>\n",
       "      <td>1517</td>\n",
       "      <td>NYC-Bronx Community District 8--Riverdale, Fie...</td>\n",
       "      <td>36</td>\n",
       "      <td>3701</td>\n",
       "    </tr>\n",
       "    <tr>\n",
       "      <th>1</th>\n",
       "      <td>3702</td>\n",
       "      <td>1.889860e+08</td>\n",
       "      <td>106050.002302</td>\n",
       "      <td>POLYGON ((-73.8442314689986 40.86942035096838,...</td>\n",
       "      <td>1959</td>\n",
       "      <td>NYC-Bronx Community District 12--Wakefield, Wi...</td>\n",
       "      <td>36</td>\n",
       "      <td>3702</td>\n",
       "    </tr>\n",
       "    <tr>\n",
       "      <th>2</th>\n",
       "      <td>3703</td>\n",
       "      <td>2.670137e+08</td>\n",
       "      <td>304071.257466</td>\n",
       "      <td>(POLYGON ((-73.78833349834532 40.8346671297593...</td>\n",
       "      <td>1305</td>\n",
       "      <td>NYC-Bronx Community District 10--Co-op City, P...</td>\n",
       "      <td>36</td>\n",
       "      <td>3703</td>\n",
       "    </tr>\n",
       "    <tr>\n",
       "      <th>3</th>\n",
       "      <td>3704</td>\n",
       "      <td>1.062129e+08</td>\n",
       "      <td>47970.901277</td>\n",
       "      <td>POLYGON ((-73.84792614069238 40.8713422330779,...</td>\n",
       "      <td>1882</td>\n",
       "      <td>NYC-Bronx Community District 11--Pelham Parkwa...</td>\n",
       "      <td>36</td>\n",
       "      <td>3704</td>\n",
       "    </tr>\n",
       "    <tr>\n",
       "      <th>4</th>\n",
       "      <td>4015</td>\n",
       "      <td>8.105438e+07</td>\n",
       "      <td>50007.415493</td>\n",
       "      <td>POLYGON ((-73.95374853778468 40.63858633758547...</td>\n",
       "      <td>2515</td>\n",
       "      <td>NYC-Brooklyn Community District 14--Flatbush &amp;...</td>\n",
       "      <td>36</td>\n",
       "      <td>4015</td>\n",
       "    </tr>\n",
       "  </tbody>\n",
       "</table>\n",
       "</div>"
      ],
      "text/plain": [
       "   puma    shape_area     shape_leng  \\\n",
       "0  3701  9.792852e+07   53227.144461   \n",
       "1  3702  1.889860e+08  106050.002302   \n",
       "2  3703  2.670137e+08  304071.257466   \n",
       "3  3704  1.062129e+08   47970.901277   \n",
       "4  4015  8.105438e+07   50007.415493   \n",
       "\n",
       "                                            geometry  B00001_001E  \\\n",
       "0  POLYGON ((-73.89641133483133 40.90450452082026...         1517   \n",
       "1  POLYGON ((-73.8442314689986 40.86942035096838,...         1959   \n",
       "2  (POLYGON ((-73.78833349834532 40.8346671297593...         1305   \n",
       "3  POLYGON ((-73.84792614069238 40.8713422330779,...         1882   \n",
       "4  POLYGON ((-73.95374853778468 40.63858633758547...         2515   \n",
       "\n",
       "                                                NAME  state  \\\n",
       "0  NYC-Bronx Community District 8--Riverdale, Fie...     36   \n",
       "1  NYC-Bronx Community District 12--Wakefield, Wi...     36   \n",
       "2  NYC-Bronx Community District 10--Co-op City, P...     36   \n",
       "3  NYC-Bronx Community District 11--Pelham Parkwa...     36   \n",
       "4  NYC-Brooklyn Community District 14--Flatbush &...     36   \n",
       "\n",
       "   public use microdata area  \n",
       "0                       3701  \n",
       "1                       3702  \n",
       "2                       3703  \n",
       "3                       3704  \n",
       "4                       4015  "
      ]
     },
     "execution_count": 81,
     "metadata": {},
     "output_type": "execute_result"
    }
   ],
   "source": [
    "# pumashp = pumashp.to_crs(epsg=2263)\n",
    "# linkNYC = linkNYC.to_crs(epsg=2263)\n",
    "pumashp2.head()"
   ]
  },
  {
   "cell_type": "code",
   "execution_count": 82,
   "metadata": {},
   "outputs": [
    {
     "data": {
      "text/html": [
       "<div>\n",
       "<table border=\"1\" class=\"dataframe\">\n",
       "  <thead>\n",
       "    <tr style=\"text-align: right;\">\n",
       "      <th></th>\n",
       "      <th>link_site</th>\n",
       "      <th>longitude</th>\n",
       "      <th>date_link_</th>\n",
       "      <th>latitude</th>\n",
       "      <th>lonlat</th>\n",
       "      <th>geometry</th>\n",
       "    </tr>\n",
       "  </thead>\n",
       "  <tbody>\n",
       "    <tr>\n",
       "      <th>0</th>\n",
       "      <td>bk-01-138951</td>\n",
       "      <td>-73.942489</td>\n",
       "      <td>2017-07-01</td>\n",
       "      <td>40.701668</td>\n",
       "      <td>(-73.94248859, 40.70166753)</td>\n",
       "      <td>POINT (-73.94248859 40.70166753)</td>\n",
       "    </tr>\n",
       "    <tr>\n",
       "      <th>1</th>\n",
       "      <td>bk-01-109091</td>\n",
       "      <td>-73.942169</td>\n",
       "      <td>2017-07-01</td>\n",
       "      <td>40.701542</td>\n",
       "      <td>(-73.9421692831, 40.7015421938)</td>\n",
       "      <td>POINT (-73.9421692831 40.7015421938)</td>\n",
       "    </tr>\n",
       "    <tr>\n",
       "      <th>2</th>\n",
       "      <td>bk-01-143982</td>\n",
       "      <td>-73.942239</td>\n",
       "      <td>2017-07-01</td>\n",
       "      <td>40.701930</td>\n",
       "      <td>(-73.9422392385, 40.7019303439)</td>\n",
       "      <td>POINT (-73.94223923850001 40.7019303439)</td>\n",
       "    </tr>\n",
       "    <tr>\n",
       "      <th>3</th>\n",
       "      <td>bk-01-109262</td>\n",
       "      <td>-73.942918</td>\n",
       "      <td>2017-04-28</td>\n",
       "      <td>40.705060</td>\n",
       "      <td>(-73.94291758, 40.70506042)</td>\n",
       "      <td>POINT (-73.94291758 40.70506042)</td>\n",
       "    </tr>\n",
       "    <tr>\n",
       "      <th>4</th>\n",
       "      <td>bk-01-125268</td>\n",
       "      <td>-73.953439</td>\n",
       "      <td>2017-03-31</td>\n",
       "      <td>40.728133</td>\n",
       "      <td>(-73.953439, 40.728133)</td>\n",
       "      <td>POINT (-73.953439 40.728133)</td>\n",
       "    </tr>\n",
       "  </tbody>\n",
       "</table>\n",
       "</div>"
      ],
      "text/plain": [
       "      link_site  longitude  date_link_   latitude  \\\n",
       "0  bk-01-138951 -73.942489  2017-07-01  40.701668   \n",
       "1  bk-01-109091 -73.942169  2017-07-01  40.701542   \n",
       "2  bk-01-143982 -73.942239  2017-07-01  40.701930   \n",
       "3  bk-01-109262 -73.942918  2017-04-28  40.705060   \n",
       "4  bk-01-125268 -73.953439  2017-03-31  40.728133   \n",
       "\n",
       "                            lonlat                                  geometry  \n",
       "0      (-73.94248859, 40.70166753)          POINT (-73.94248859 40.70166753)  \n",
       "1  (-73.9421692831, 40.7015421938)      POINT (-73.9421692831 40.7015421938)  \n",
       "2  (-73.9422392385, 40.7019303439)  POINT (-73.94223923850001 40.7019303439)  \n",
       "3      (-73.94291758, 40.70506042)          POINT (-73.94291758 40.70506042)  \n",
       "4          (-73.953439, 40.728133)              POINT (-73.953439 40.728133)  "
      ]
     },
     "execution_count": 82,
     "metadata": {},
     "output_type": "execute_result"
    }
   ],
   "source": [
    "linkNYC.head()"
   ]
  },
  {
   "cell_type": "code",
   "execution_count": 67,
   "metadata": {},
   "outputs": [
    {
     "data": {
      "text/html": [
       "<div>\n",
       "<table border=\"1\" class=\"dataframe\">\n",
       "  <thead>\n",
       "    <tr style=\"text-align: right;\">\n",
       "      <th></th>\n",
       "      <th>link_site</th>\n",
       "      <th>longitude</th>\n",
       "      <th>date_link_</th>\n",
       "      <th>latitude</th>\n",
       "      <th>lonlat</th>\n",
       "      <th>geometry</th>\n",
       "    </tr>\n",
       "  </thead>\n",
       "  <tbody>\n",
       "    <tr>\n",
       "      <th>0</th>\n",
       "      <td>bk-01-138951</td>\n",
       "      <td>-73.942489</td>\n",
       "      <td>2017-07-01</td>\n",
       "      <td>40.701668</td>\n",
       "      <td>(-73.94248859, 40.70166753)</td>\n",
       "      <td>POINT (-73.94248859400085 40.70166745882933)</td>\n",
       "    </tr>\n",
       "    <tr>\n",
       "      <th>1</th>\n",
       "      <td>bk-01-109091</td>\n",
       "      <td>-73.942169</td>\n",
       "      <td>2017-07-01</td>\n",
       "      <td>40.701542</td>\n",
       "      <td>(-73.9421692831, 40.7015421938)</td>\n",
       "      <td>POINT (-73.94216928589759 40.70154213565441)</td>\n",
       "    </tr>\n",
       "    <tr>\n",
       "      <th>2</th>\n",
       "      <td>bk-01-143982</td>\n",
       "      <td>-73.942239</td>\n",
       "      <td>2017-07-01</td>\n",
       "      <td>40.701930</td>\n",
       "      <td>(-73.9422392385, 40.7019303439)</td>\n",
       "      <td>POINT (-73.94223924074817 40.70193028343965)</td>\n",
       "    </tr>\n",
       "    <tr>\n",
       "      <th>3</th>\n",
       "      <td>bk-01-109262</td>\n",
       "      <td>-73.942918</td>\n",
       "      <td>2017-04-28</td>\n",
       "      <td>40.705060</td>\n",
       "      <td>(-73.94291758, 40.70506042)</td>\n",
       "      <td>POINT (-73.94291758131216 40.70506036122693)</td>\n",
       "    </tr>\n",
       "    <tr>\n",
       "      <th>4</th>\n",
       "      <td>bk-01-125268</td>\n",
       "      <td>-73.953439</td>\n",
       "      <td>2017-03-31</td>\n",
       "      <td>40.728133</td>\n",
       "      <td>(-73.953439, 40.728133)</td>\n",
       "      <td>POINT (-73.95343900098165 40.72813292831005)</td>\n",
       "    </tr>\n",
       "    <tr>\n",
       "      <th>5</th>\n",
       "      <td>bk-01-140988</td>\n",
       "      <td>-73.957869</td>\n",
       "      <td>2017-11-03</td>\n",
       "      <td>40.717770</td>\n",
       "      <td>(-73.95786908, 40.71777024)</td>\n",
       "      <td>POINT (-73.95786908209053 40.7177701811634)</td>\n",
       "    </tr>\n",
       "    <tr>\n",
       "      <th>6</th>\n",
       "      <td>bk-06-125931</td>\n",
       "      <td>-73.981936</td>\n",
       "      <td>2017-02-24</td>\n",
       "      <td>40.674556</td>\n",
       "      <td>(-73.98193577, 40.67455551)</td>\n",
       "      <td>POINT (-73.98193577185617 40.67455544963543)</td>\n",
       "    </tr>\n",
       "    <tr>\n",
       "      <th>7</th>\n",
       "      <td>bk-06-125930</td>\n",
       "      <td>-73.979738</td>\n",
       "      <td>2017-02-24</td>\n",
       "      <td>40.677620</td>\n",
       "      <td>(-73.97973799, 40.67761961)</td>\n",
       "      <td>POINT (-73.97973799361988 40.67761954364668)</td>\n",
       "    </tr>\n",
       "    <tr>\n",
       "      <th>8</th>\n",
       "      <td>bk-08-125716</td>\n",
       "      <td>-73.974060</td>\n",
       "      <td>2017-11-03</td>\n",
       "      <td>40.679568</td>\n",
       "      <td>(-73.97406, 40.679568)</td>\n",
       "      <td>POINT (-73.97406000214852 40.67956794451546)</td>\n",
       "    </tr>\n",
       "    <tr>\n",
       "      <th>9</th>\n",
       "      <td>bk-06-126514</td>\n",
       "      <td>-73.974371</td>\n",
       "      <td>2017-11-03</td>\n",
       "      <td>40.679639</td>\n",
       "      <td>(-73.9743714571, 40.6796385839)</td>\n",
       "      <td>POINT (-73.97437146063594 40.67963851430564)</td>\n",
       "    </tr>\n",
       "    <tr>\n",
       "      <th>10</th>\n",
       "      <td>bk-08-126502</td>\n",
       "      <td>-73.973253</td>\n",
       "      <td>2017-11-03</td>\n",
       "      <td>40.678453</td>\n",
       "      <td>(-73.9732527771, 40.6784527943)</td>\n",
       "      <td>POINT (-73.97325278133459 40.67845272995399)</td>\n",
       "    </tr>\n",
       "    <tr>\n",
       "      <th>11</th>\n",
       "      <td>bk-07-125916</td>\n",
       "      <td>-73.990353</td>\n",
       "      <td>2017-06-27</td>\n",
       "      <td>40.664176</td>\n",
       "      <td>(-73.990353, 40.664176)</td>\n",
       "      <td>POINT (-73.99035300311478 40.66417593821416)</td>\n",
       "    </tr>\n",
       "    <tr>\n",
       "      <th>12</th>\n",
       "      <td>bk-06-125910</td>\n",
       "      <td>-73.986956</td>\n",
       "      <td>2017-02-23</td>\n",
       "      <td>40.668533</td>\n",
       "      <td>(-73.98695629, 40.66853323)</td>\n",
       "      <td>POINT (-73.98695629383487 40.66853315811596)</td>\n",
       "    </tr>\n",
       "    <tr>\n",
       "      <th>13</th>\n",
       "      <td>bk-06-125626</td>\n",
       "      <td>-73.986317</td>\n",
       "      <td>2017-02-24</td>\n",
       "      <td>40.669018</td>\n",
       "      <td>(-73.986317, 40.669018)</td>\n",
       "      <td>POINT (-73.98631700197778 40.66901793744756)</td>\n",
       "    </tr>\n",
       "    <tr>\n",
       "      <th>14</th>\n",
       "      <td>bk-06-125921</td>\n",
       "      <td>-73.985958</td>\n",
       "      <td>2017-02-23</td>\n",
       "      <td>40.669731</td>\n",
       "      <td>(-73.98595804, 40.66973105)</td>\n",
       "      <td>POINT (-73.98595804342229 40.66973098598196)</td>\n",
       "    </tr>\n",
       "    <tr>\n",
       "      <th>15</th>\n",
       "      <td>bk-06-117250</td>\n",
       "      <td>-73.982789</td>\n",
       "      <td>2017-06-27</td>\n",
       "      <td>40.673534</td>\n",
       "      <td>(-73.982789, 40.673534)</td>\n",
       "      <td>POINT (-73.98278900050146 40.67353393937726)</td>\n",
       "    </tr>\n",
       "    <tr>\n",
       "      <th>16</th>\n",
       "      <td>bk-02-126505</td>\n",
       "      <td>-73.977006</td>\n",
       "      <td>2017-06-30</td>\n",
       "      <td>40.683625</td>\n",
       "      <td>(-73.977006, 40.683625)</td>\n",
       "      <td>POINT (-73.9770060020851 40.68362493614543)</td>\n",
       "    </tr>\n",
       "    <tr>\n",
       "      <th>17</th>\n",
       "      <td>bk-02-126565</td>\n",
       "      <td>-73.980613</td>\n",
       "      <td>2016-11-13</td>\n",
       "      <td>40.688851</td>\n",
       "      <td>(-73.980613, 40.688851)</td>\n",
       "      <td>POINT (-73.98061300082418 40.68885093391318)</td>\n",
       "    </tr>\n",
       "    <tr>\n",
       "      <th>18</th>\n",
       "      <td>bk-02-125833</td>\n",
       "      <td>-73.980867</td>\n",
       "      <td>2017-09-30</td>\n",
       "      <td>40.685218</td>\n",
       "      <td>(-73.98086659, 40.68521833)</td>\n",
       "      <td>POINT (-73.98086659417565 40.6852182670757)</td>\n",
       "    </tr>\n",
       "    <tr>\n",
       "      <th>19</th>\n",
       "      <td>bk-02-126166</td>\n",
       "      <td>-73.993147</td>\n",
       "      <td>2017-10-07</td>\n",
       "      <td>40.687901</td>\n",
       "      <td>(-73.99314691, 40.6879008)</td>\n",
       "      <td>POINT (-73.99314691254307 40.687900736872)</td>\n",
       "    </tr>\n",
       "    <tr>\n",
       "      <th>20</th>\n",
       "      <td>bk-06-126392</td>\n",
       "      <td>-73.994526</td>\n",
       "      <td>2017-08-10</td>\n",
       "      <td>40.685390</td>\n",
       "      <td>(-73.9945262014, 40.6853897562)</td>\n",
       "      <td>POINT (-73.99452620256605 40.68538969665226)</td>\n",
       "    </tr>\n",
       "    <tr>\n",
       "      <th>21</th>\n",
       "      <td>bk-06-126394</td>\n",
       "      <td>-73.995753</td>\n",
       "      <td>2017-08-10</td>\n",
       "      <td>40.682483</td>\n",
       "      <td>(-73.9957534826, 40.6824829166)</td>\n",
       "      <td>POINT (-73.99575348706222 40.68248285135111)</td>\n",
       "    </tr>\n",
       "    <tr>\n",
       "      <th>22</th>\n",
       "      <td>bk-02-127278</td>\n",
       "      <td>-73.990023</td>\n",
       "      <td>2017-07-01</td>\n",
       "      <td>40.687497</td>\n",
       "      <td>(-73.99002262, 40.6874966)</td>\n",
       "      <td>POINT (-73.99002262163728 40.68749654036045)</td>\n",
       "    </tr>\n",
       "    <tr>\n",
       "      <th>23</th>\n",
       "      <td>bk-02-126506</td>\n",
       "      <td>-73.980424</td>\n",
       "      <td>2016-11-13</td>\n",
       "      <td>40.687649</td>\n",
       "      <td>(-73.98042355, 40.68764898)</td>\n",
       "      <td>POINT (-73.98042355149926 40.68764891962493)</td>\n",
       "    </tr>\n",
       "    <tr>\n",
       "      <th>24</th>\n",
       "      <td>bx-07-111540</td>\n",
       "      <td>-73.904575</td>\n",
       "      <td>2017-02-18</td>\n",
       "      <td>40.863114</td>\n",
       "      <td>(-73.90457508, 40.86311405)</td>\n",
       "      <td>POINT (-73.90457508353818 40.86311399347796)</td>\n",
       "    </tr>\n",
       "    <tr>\n",
       "      <th>25</th>\n",
       "      <td>bx-05-116218</td>\n",
       "      <td>-73.893059</td>\n",
       "      <td>2016-05-12</td>\n",
       "      <td>40.860215</td>\n",
       "      <td>(-73.89305944, 40.86021467)</td>\n",
       "      <td>POINT (-73.89305944329735 40.86021461032345)</td>\n",
       "    </tr>\n",
       "    <tr>\n",
       "      <th>26</th>\n",
       "      <td>bx-07-119564</td>\n",
       "      <td>-73.903244</td>\n",
       "      <td>2016-08-13</td>\n",
       "      <td>40.862644</td>\n",
       "      <td>(-73.90324404, 40.86264365)</td>\n",
       "      <td>POINT (-73.90324404275714 40.86264359016234)</td>\n",
       "    </tr>\n",
       "    <tr>\n",
       "      <th>27</th>\n",
       "      <td>bx-05-119575</td>\n",
       "      <td>-73.898023</td>\n",
       "      <td>2016-07-01</td>\n",
       "      <td>40.861349</td>\n",
       "      <td>(-73.898023, 40.861349)</td>\n",
       "      <td>POINT (-73.89802300399936 40.86134893560041)</td>\n",
       "    </tr>\n",
       "    <tr>\n",
       "      <th>28</th>\n",
       "      <td>bx-05-119587</td>\n",
       "      <td>-73.898581</td>\n",
       "      <td>2016-05-12</td>\n",
       "      <td>40.861655</td>\n",
       "      <td>(-73.89858091, 40.86165512)</td>\n",
       "      <td>POINT (-73.8985809105184 40.86165506017614)</td>\n",
       "    </tr>\n",
       "    <tr>\n",
       "      <th>29</th>\n",
       "      <td>bx-05-119628</td>\n",
       "      <td>-73.898553</td>\n",
       "      <td>2016-05-12</td>\n",
       "      <td>40.859154</td>\n",
       "      <td>(-73.89855259, 40.85915372)</td>\n",
       "      <td>POINT (-73.89855259354105 40.85915365662645)</td>\n",
       "    </tr>\n",
       "    <tr>\n",
       "      <th>...</th>\n",
       "      <td>...</td>\n",
       "      <td>...</td>\n",
       "      <td>...</td>\n",
       "      <td>...</td>\n",
       "      <td>...</td>\n",
       "      <td>...</td>\n",
       "    </tr>\n",
       "    <tr>\n",
       "      <th>1384</th>\n",
       "      <td>bk-07-145862</td>\n",
       "      <td>-74.003050</td>\n",
       "      <td>2017-07-01</td>\n",
       "      <td>40.655438</td>\n",
       "      <td>(-74.00305032, 40.6554376)</td>\n",
       "      <td>POINT (-74.00305032315732 40.65543753683512)</td>\n",
       "    </tr>\n",
       "    <tr>\n",
       "      <th>1385</th>\n",
       "      <td>bk-07-145865</td>\n",
       "      <td>-74.004404</td>\n",
       "      <td>2017-07-15</td>\n",
       "      <td>40.654133</td>\n",
       "      <td>(-74.00440376, 40.65413323)</td>\n",
       "      <td>POINT (-74.00440376257578 40.65413316661405)</td>\n",
       "    </tr>\n",
       "    <tr>\n",
       "      <th>1386</th>\n",
       "      <td>qu-09-GF44371</td>\n",
       "      <td>-73.831361</td>\n",
       "      <td>2017-10-14</td>\n",
       "      <td>40.707531</td>\n",
       "      <td>(-73.83136082, 40.70753055)</td>\n",
       "      <td>POINT (-73.83136082206552 40.70753048509348)</td>\n",
       "    </tr>\n",
       "    <tr>\n",
       "      <th>1387</th>\n",
       "      <td>qu-09-GF44372</td>\n",
       "      <td>-73.831579</td>\n",
       "      <td>2017-10-14</td>\n",
       "      <td>40.706151</td>\n",
       "      <td>(-73.83157897, 40.70615073)</td>\n",
       "      <td>POINT (-73.83157897183483 40.70615066634377)</td>\n",
       "    </tr>\n",
       "    <tr>\n",
       "      <th>1388</th>\n",
       "      <td>qu-02-GF44375</td>\n",
       "      <td>-73.922070</td>\n",
       "      <td>2017-10-14</td>\n",
       "      <td>40.739680</td>\n",
       "      <td>(-73.92206966, 40.73968025)</td>\n",
       "      <td>POINT (-73.92206966296008 40.73968018668993)</td>\n",
       "    </tr>\n",
       "    <tr>\n",
       "      <th>1389</th>\n",
       "      <td>bk-06-145871</td>\n",
       "      <td>-73.975730</td>\n",
       "      <td>2017-07-20</td>\n",
       "      <td>40.681039</td>\n",
       "      <td>(-73.97573017, 40.68103872)</td>\n",
       "      <td>POINT (-73.97573017119822 40.68103865183942)</td>\n",
       "    </tr>\n",
       "    <tr>\n",
       "      <th>1390</th>\n",
       "      <td>bk-02-145868</td>\n",
       "      <td>-73.967753</td>\n",
       "      <td>2017-07-15</td>\n",
       "      <td>40.682268</td>\n",
       "      <td>(-73.96775318, 40.68226753)</td>\n",
       "      <td>POINT (-73.967753184147 40.68226746666426)</td>\n",
       "    </tr>\n",
       "    <tr>\n",
       "      <th>1391</th>\n",
       "      <td>bk-08-145935</td>\n",
       "      <td>-73.964668</td>\n",
       "      <td>2017-09-23</td>\n",
       "      <td>40.680888</td>\n",
       "      <td>(-73.96466835, 40.68088788)</td>\n",
       "      <td>POINT (-73.96466835176898 40.68088781518558)</td>\n",
       "    </tr>\n",
       "    <tr>\n",
       "      <th>1392</th>\n",
       "      <td>bk-08-145908</td>\n",
       "      <td>-73.964511</td>\n",
       "      <td>2017-08-10</td>\n",
       "      <td>40.680238</td>\n",
       "      <td>(-73.96451072, 40.68023805)</td>\n",
       "      <td>POINT (-73.96451072084965 40.68023799045517)</td>\n",
       "    </tr>\n",
       "    <tr>\n",
       "      <th>1393</th>\n",
       "      <td>bk-08-145920</td>\n",
       "      <td>-73.963730</td>\n",
       "      <td>2017-08-31</td>\n",
       "      <td>40.678540</td>\n",
       "      <td>(-73.96373, 40.67854)</td>\n",
       "      <td>POINT (-73.96373000280155 40.67853993856551)</td>\n",
       "    </tr>\n",
       "    <tr>\n",
       "      <th>1394</th>\n",
       "      <td>bk-05-126737</td>\n",
       "      <td>-73.868095</td>\n",
       "      <td>2017-09-23</td>\n",
       "      <td>40.691021</td>\n",
       "      <td>(-73.86809486, 40.69102143)</td>\n",
       "      <td>POINT (-73.86809486186321 40.69102136384593)</td>\n",
       "    </tr>\n",
       "    <tr>\n",
       "      <th>1395</th>\n",
       "      <td>bk-05-145943</td>\n",
       "      <td>-73.872079</td>\n",
       "      <td>2017-09-29</td>\n",
       "      <td>40.683506</td>\n",
       "      <td>(-73.872079, 40.683506)</td>\n",
       "      <td>POINT (-73.87207900366829 40.68350593674483)</td>\n",
       "    </tr>\n",
       "    <tr>\n",
       "      <th>1396</th>\n",
       "      <td>bk-05-145942</td>\n",
       "      <td>-73.871380</td>\n",
       "      <td>2017-09-29</td>\n",
       "      <td>40.683821</td>\n",
       "      <td>(-73.87137973, 40.68382059)</td>\n",
       "      <td>POINT (-73.87137973092268 40.68382053638622)</td>\n",
       "    </tr>\n",
       "    <tr>\n",
       "      <th>1397</th>\n",
       "      <td>bk-05-145941</td>\n",
       "      <td>-73.870537</td>\n",
       "      <td>2017-09-29</td>\n",
       "      <td>40.684061</td>\n",
       "      <td>(-73.87053741, 40.68406084)</td>\n",
       "      <td>POINT (-73.87053741199067 40.68406077940711)</td>\n",
       "    </tr>\n",
       "    <tr>\n",
       "      <th>1398</th>\n",
       "      <td>bk-05-145940</td>\n",
       "      <td>-73.868975</td>\n",
       "      <td>2017-09-29</td>\n",
       "      <td>40.684625</td>\n",
       "      <td>(-73.8689745267, 40.6846250906)</td>\n",
       "      <td>POINT (-73.86897452834465 40.68462502641856)</td>\n",
       "    </tr>\n",
       "    <tr>\n",
       "      <th>1399</th>\n",
       "      <td>bk-05-145939</td>\n",
       "      <td>-73.868309</td>\n",
       "      <td>2017-09-29</td>\n",
       "      <td>40.684702</td>\n",
       "      <td>(-73.8683087897, 40.6847015538)</td>\n",
       "      <td>POINT (-73.86830879215844 40.68470149251264)</td>\n",
       "    </tr>\n",
       "    <tr>\n",
       "      <th>1400</th>\n",
       "      <td>bk-05-145938</td>\n",
       "      <td>-73.866777</td>\n",
       "      <td>2017-09-29</td>\n",
       "      <td>40.685131</td>\n",
       "      <td>(-73.86677733, 40.68513094)</td>\n",
       "      <td>POINT (-73.86677733371155 40.68513087725389)</td>\n",
       "    </tr>\n",
       "    <tr>\n",
       "      <th>1401</th>\n",
       "      <td>bk-05-145932</td>\n",
       "      <td>-73.897167</td>\n",
       "      <td>2017-09-17</td>\n",
       "      <td>40.676475</td>\n",
       "      <td>(-73.89716745, 40.67647467)</td>\n",
       "      <td>POINT (-73.8971674520175 40.67647461059838)</td>\n",
       "    </tr>\n",
       "    <tr>\n",
       "      <th>1402</th>\n",
       "      <td>bk-05-145931</td>\n",
       "      <td>-73.897464</td>\n",
       "      <td>2017-09-17</td>\n",
       "      <td>40.677222</td>\n",
       "      <td>(-73.89746353, 40.67722165)</td>\n",
       "      <td>POINT (-73.89746353382094 40.67722158727394)</td>\n",
       "    </tr>\n",
       "    <tr>\n",
       "      <th>1403</th>\n",
       "      <td>bk-05-145937</td>\n",
       "      <td>-73.898358</td>\n",
       "      <td>2017-09-23</td>\n",
       "      <td>40.676994</td>\n",
       "      <td>(-73.89835842, 40.67699412)</td>\n",
       "      <td>POINT (-73.89835842382871 40.67699406149796)</td>\n",
       "    </tr>\n",
       "    <tr>\n",
       "      <th>1404</th>\n",
       "      <td>bk-05-145936</td>\n",
       "      <td>-73.899212</td>\n",
       "      <td>2017-09-23</td>\n",
       "      <td>40.677043</td>\n",
       "      <td>(-73.89921208, 40.67704253)</td>\n",
       "      <td>POINT (-73.89921208196471 40.67704245393705)</td>\n",
       "    </tr>\n",
       "    <tr>\n",
       "      <th>1405</th>\n",
       "      <td>bk-05-145945</td>\n",
       "      <td>-73.901951</td>\n",
       "      <td>2017-09-29</td>\n",
       "      <td>40.677540</td>\n",
       "      <td>(-73.90195137, 40.67754)</td>\n",
       "      <td>POINT (-73.90195137216791 40.67753994122073)</td>\n",
       "    </tr>\n",
       "    <tr>\n",
       "      <th>1406</th>\n",
       "      <td>bk-05-145944</td>\n",
       "      <td>-73.902990</td>\n",
       "      <td>2017-09-29</td>\n",
       "      <td>40.677895</td>\n",
       "      <td>(-73.90299005, 40.67789498)</td>\n",
       "      <td>POINT (-73.90299005314368 40.67789490429163)</td>\n",
       "    </tr>\n",
       "    <tr>\n",
       "      <th>1407</th>\n",
       "      <td>bk-16-145963</td>\n",
       "      <td>-73.904301</td>\n",
       "      <td>2017-09-30</td>\n",
       "      <td>40.677862</td>\n",
       "      <td>(-73.90430067, 40.67786155)</td>\n",
       "      <td>POINT (-73.90430067220494 40.67786148725641)</td>\n",
       "    </tr>\n",
       "    <tr>\n",
       "      <th>1408</th>\n",
       "      <td>bk-16-145930</td>\n",
       "      <td>-73.905901</td>\n",
       "      <td>2017-09-17</td>\n",
       "      <td>40.677845</td>\n",
       "      <td>(-73.90590131, 40.67784547)</td>\n",
       "      <td>POINT (-73.90590131303024 40.67784540600516)</td>\n",
       "    </tr>\n",
       "    <tr>\n",
       "      <th>1409</th>\n",
       "      <td>bk-17-145928</td>\n",
       "      <td>-73.945545</td>\n",
       "      <td>2017-09-17</td>\n",
       "      <td>40.650947</td>\n",
       "      <td>(-73.94554463, 40.65094749)</td>\n",
       "      <td>POINT (-73.94554463140453 40.65094742474417)</td>\n",
       "    </tr>\n",
       "    <tr>\n",
       "      <th>1410</th>\n",
       "      <td>bk-17-145927</td>\n",
       "      <td>-73.947834</td>\n",
       "      <td>2017-09-17</td>\n",
       "      <td>40.650962</td>\n",
       "      <td>(-73.947834, 40.650962)</td>\n",
       "      <td>POINT (-73.94783400345162 40.65096193550627)</td>\n",
       "    </tr>\n",
       "    <tr>\n",
       "      <th>1411</th>\n",
       "      <td>bk-17-GF33476</td>\n",
       "      <td>-73.952414</td>\n",
       "      <td>2017-09-30</td>\n",
       "      <td>40.648733</td>\n",
       "      <td>(-73.952414, 40.648733)</td>\n",
       "      <td>POINT (-73.95241400164339 40.64873293283352)</td>\n",
       "    </tr>\n",
       "    <tr>\n",
       "      <th>1412</th>\n",
       "      <td>bk-14-145929</td>\n",
       "      <td>-73.955962</td>\n",
       "      <td>2017-09-17</td>\n",
       "      <td>40.648689</td>\n",
       "      <td>(-73.95596197, 40.64868919)</td>\n",
       "      <td>POINT (-73.95596197262338 40.64868913105501)</td>\n",
       "    </tr>\n",
       "    <tr>\n",
       "      <th>1413</th>\n",
       "      <td>bk-14-145949</td>\n",
       "      <td>-73.957820</td>\n",
       "      <td>2017-09-17</td>\n",
       "      <td>40.648607</td>\n",
       "      <td>(-73.95781959, 40.64860712)</td>\n",
       "      <td>POINT (-73.95781959211885 40.64860706138133)</td>\n",
       "    </tr>\n",
       "  </tbody>\n",
       "</table>\n",
       "<p>1414 rows × 6 columns</p>\n",
       "</div>"
      ],
      "text/plain": [
       "          link_site  longitude  date_link_   latitude  \\\n",
       "0      bk-01-138951 -73.942489  2017-07-01  40.701668   \n",
       "1      bk-01-109091 -73.942169  2017-07-01  40.701542   \n",
       "2      bk-01-143982 -73.942239  2017-07-01  40.701930   \n",
       "3      bk-01-109262 -73.942918  2017-04-28  40.705060   \n",
       "4      bk-01-125268 -73.953439  2017-03-31  40.728133   \n",
       "5      bk-01-140988 -73.957869  2017-11-03  40.717770   \n",
       "6      bk-06-125931 -73.981936  2017-02-24  40.674556   \n",
       "7      bk-06-125930 -73.979738  2017-02-24  40.677620   \n",
       "8      bk-08-125716 -73.974060  2017-11-03  40.679568   \n",
       "9      bk-06-126514 -73.974371  2017-11-03  40.679639   \n",
       "10     bk-08-126502 -73.973253  2017-11-03  40.678453   \n",
       "11     bk-07-125916 -73.990353  2017-06-27  40.664176   \n",
       "12     bk-06-125910 -73.986956  2017-02-23  40.668533   \n",
       "13     bk-06-125626 -73.986317  2017-02-24  40.669018   \n",
       "14     bk-06-125921 -73.985958  2017-02-23  40.669731   \n",
       "15     bk-06-117250 -73.982789  2017-06-27  40.673534   \n",
       "16     bk-02-126505 -73.977006  2017-06-30  40.683625   \n",
       "17     bk-02-126565 -73.980613  2016-11-13  40.688851   \n",
       "18     bk-02-125833 -73.980867  2017-09-30  40.685218   \n",
       "19     bk-02-126166 -73.993147  2017-10-07  40.687901   \n",
       "20     bk-06-126392 -73.994526  2017-08-10  40.685390   \n",
       "21     bk-06-126394 -73.995753  2017-08-10  40.682483   \n",
       "22     bk-02-127278 -73.990023  2017-07-01  40.687497   \n",
       "23     bk-02-126506 -73.980424  2016-11-13  40.687649   \n",
       "24     bx-07-111540 -73.904575  2017-02-18  40.863114   \n",
       "25     bx-05-116218 -73.893059  2016-05-12  40.860215   \n",
       "26     bx-07-119564 -73.903244  2016-08-13  40.862644   \n",
       "27     bx-05-119575 -73.898023  2016-07-01  40.861349   \n",
       "28     bx-05-119587 -73.898581  2016-05-12  40.861655   \n",
       "29     bx-05-119628 -73.898553  2016-05-12  40.859154   \n",
       "...             ...        ...         ...        ...   \n",
       "1384   bk-07-145862 -74.003050  2017-07-01  40.655438   \n",
       "1385   bk-07-145865 -74.004404  2017-07-15  40.654133   \n",
       "1386  qu-09-GF44371 -73.831361  2017-10-14  40.707531   \n",
       "1387  qu-09-GF44372 -73.831579  2017-10-14  40.706151   \n",
       "1388  qu-02-GF44375 -73.922070  2017-10-14  40.739680   \n",
       "1389   bk-06-145871 -73.975730  2017-07-20  40.681039   \n",
       "1390   bk-02-145868 -73.967753  2017-07-15  40.682268   \n",
       "1391   bk-08-145935 -73.964668  2017-09-23  40.680888   \n",
       "1392   bk-08-145908 -73.964511  2017-08-10  40.680238   \n",
       "1393   bk-08-145920 -73.963730  2017-08-31  40.678540   \n",
       "1394   bk-05-126737 -73.868095  2017-09-23  40.691021   \n",
       "1395   bk-05-145943 -73.872079  2017-09-29  40.683506   \n",
       "1396   bk-05-145942 -73.871380  2017-09-29  40.683821   \n",
       "1397   bk-05-145941 -73.870537  2017-09-29  40.684061   \n",
       "1398   bk-05-145940 -73.868975  2017-09-29  40.684625   \n",
       "1399   bk-05-145939 -73.868309  2017-09-29  40.684702   \n",
       "1400   bk-05-145938 -73.866777  2017-09-29  40.685131   \n",
       "1401   bk-05-145932 -73.897167  2017-09-17  40.676475   \n",
       "1402   bk-05-145931 -73.897464  2017-09-17  40.677222   \n",
       "1403   bk-05-145937 -73.898358  2017-09-23  40.676994   \n",
       "1404   bk-05-145936 -73.899212  2017-09-23  40.677043   \n",
       "1405   bk-05-145945 -73.901951  2017-09-29  40.677540   \n",
       "1406   bk-05-145944 -73.902990  2017-09-29  40.677895   \n",
       "1407   bk-16-145963 -73.904301  2017-09-30  40.677862   \n",
       "1408   bk-16-145930 -73.905901  2017-09-17  40.677845   \n",
       "1409   bk-17-145928 -73.945545  2017-09-17  40.650947   \n",
       "1410   bk-17-145927 -73.947834  2017-09-17  40.650962   \n",
       "1411  bk-17-GF33476 -73.952414  2017-09-30  40.648733   \n",
       "1412   bk-14-145929 -73.955962  2017-09-17  40.648689   \n",
       "1413   bk-14-145949 -73.957820  2017-09-17  40.648607   \n",
       "\n",
       "                               lonlat  \\\n",
       "0         (-73.94248859, 40.70166753)   \n",
       "1     (-73.9421692831, 40.7015421938)   \n",
       "2     (-73.9422392385, 40.7019303439)   \n",
       "3         (-73.94291758, 40.70506042)   \n",
       "4             (-73.953439, 40.728133)   \n",
       "5         (-73.95786908, 40.71777024)   \n",
       "6         (-73.98193577, 40.67455551)   \n",
       "7         (-73.97973799, 40.67761961)   \n",
       "8              (-73.97406, 40.679568)   \n",
       "9     (-73.9743714571, 40.6796385839)   \n",
       "10    (-73.9732527771, 40.6784527943)   \n",
       "11            (-73.990353, 40.664176)   \n",
       "12        (-73.98695629, 40.66853323)   \n",
       "13            (-73.986317, 40.669018)   \n",
       "14        (-73.98595804, 40.66973105)   \n",
       "15            (-73.982789, 40.673534)   \n",
       "16            (-73.977006, 40.683625)   \n",
       "17            (-73.980613, 40.688851)   \n",
       "18        (-73.98086659, 40.68521833)   \n",
       "19         (-73.99314691, 40.6879008)   \n",
       "20    (-73.9945262014, 40.6853897562)   \n",
       "21    (-73.9957534826, 40.6824829166)   \n",
       "22         (-73.99002262, 40.6874966)   \n",
       "23        (-73.98042355, 40.68764898)   \n",
       "24        (-73.90457508, 40.86311405)   \n",
       "25        (-73.89305944, 40.86021467)   \n",
       "26        (-73.90324404, 40.86264365)   \n",
       "27            (-73.898023, 40.861349)   \n",
       "28        (-73.89858091, 40.86165512)   \n",
       "29        (-73.89855259, 40.85915372)   \n",
       "...                               ...   \n",
       "1384       (-74.00305032, 40.6554376)   \n",
       "1385      (-74.00440376, 40.65413323)   \n",
       "1386      (-73.83136082, 40.70753055)   \n",
       "1387      (-73.83157897, 40.70615073)   \n",
       "1388      (-73.92206966, 40.73968025)   \n",
       "1389      (-73.97573017, 40.68103872)   \n",
       "1390      (-73.96775318, 40.68226753)   \n",
       "1391      (-73.96466835, 40.68088788)   \n",
       "1392      (-73.96451072, 40.68023805)   \n",
       "1393            (-73.96373, 40.67854)   \n",
       "1394      (-73.86809486, 40.69102143)   \n",
       "1395          (-73.872079, 40.683506)   \n",
       "1396      (-73.87137973, 40.68382059)   \n",
       "1397      (-73.87053741, 40.68406084)   \n",
       "1398  (-73.8689745267, 40.6846250906)   \n",
       "1399  (-73.8683087897, 40.6847015538)   \n",
       "1400      (-73.86677733, 40.68513094)   \n",
       "1401      (-73.89716745, 40.67647467)   \n",
       "1402      (-73.89746353, 40.67722165)   \n",
       "1403      (-73.89835842, 40.67699412)   \n",
       "1404      (-73.89921208, 40.67704253)   \n",
       "1405         (-73.90195137, 40.67754)   \n",
       "1406      (-73.90299005, 40.67789498)   \n",
       "1407      (-73.90430067, 40.67786155)   \n",
       "1408      (-73.90590131, 40.67784547)   \n",
       "1409      (-73.94554463, 40.65094749)   \n",
       "1410          (-73.947834, 40.650962)   \n",
       "1411          (-73.952414, 40.648733)   \n",
       "1412      (-73.95596197, 40.64868919)   \n",
       "1413      (-73.95781959, 40.64860712)   \n",
       "\n",
       "                                          geometry  \n",
       "0     POINT (-73.94248859400085 40.70166745882933)  \n",
       "1     POINT (-73.94216928589759 40.70154213565441)  \n",
       "2     POINT (-73.94223924074817 40.70193028343965)  \n",
       "3     POINT (-73.94291758131216 40.70506036122693)  \n",
       "4     POINT (-73.95343900098165 40.72813292831005)  \n",
       "5      POINT (-73.95786908209053 40.7177701811634)  \n",
       "6     POINT (-73.98193577185617 40.67455544963543)  \n",
       "7     POINT (-73.97973799361988 40.67761954364668)  \n",
       "8     POINT (-73.97406000214852 40.67956794451546)  \n",
       "9     POINT (-73.97437146063594 40.67963851430564)  \n",
       "10    POINT (-73.97325278133459 40.67845272995399)  \n",
       "11    POINT (-73.99035300311478 40.66417593821416)  \n",
       "12    POINT (-73.98695629383487 40.66853315811596)  \n",
       "13    POINT (-73.98631700197778 40.66901793744756)  \n",
       "14    POINT (-73.98595804342229 40.66973098598196)  \n",
       "15    POINT (-73.98278900050146 40.67353393937726)  \n",
       "16     POINT (-73.9770060020851 40.68362493614543)  \n",
       "17    POINT (-73.98061300082418 40.68885093391318)  \n",
       "18     POINT (-73.98086659417565 40.6852182670757)  \n",
       "19      POINT (-73.99314691254307 40.687900736872)  \n",
       "20    POINT (-73.99452620256605 40.68538969665226)  \n",
       "21    POINT (-73.99575348706222 40.68248285135111)  \n",
       "22    POINT (-73.99002262163728 40.68749654036045)  \n",
       "23    POINT (-73.98042355149926 40.68764891962493)  \n",
       "24    POINT (-73.90457508353818 40.86311399347796)  \n",
       "25    POINT (-73.89305944329735 40.86021461032345)  \n",
       "26    POINT (-73.90324404275714 40.86264359016234)  \n",
       "27    POINT (-73.89802300399936 40.86134893560041)  \n",
       "28     POINT (-73.8985809105184 40.86165506017614)  \n",
       "29    POINT (-73.89855259354105 40.85915365662645)  \n",
       "...                                            ...  \n",
       "1384  POINT (-74.00305032315732 40.65543753683512)  \n",
       "1385  POINT (-74.00440376257578 40.65413316661405)  \n",
       "1386  POINT (-73.83136082206552 40.70753048509348)  \n",
       "1387  POINT (-73.83157897183483 40.70615066634377)  \n",
       "1388  POINT (-73.92206966296008 40.73968018668993)  \n",
       "1389  POINT (-73.97573017119822 40.68103865183942)  \n",
       "1390    POINT (-73.967753184147 40.68226746666426)  \n",
       "1391  POINT (-73.96466835176898 40.68088781518558)  \n",
       "1392  POINT (-73.96451072084965 40.68023799045517)  \n",
       "1393  POINT (-73.96373000280155 40.67853993856551)  \n",
       "1394  POINT (-73.86809486186321 40.69102136384593)  \n",
       "1395  POINT (-73.87207900366829 40.68350593674483)  \n",
       "1396  POINT (-73.87137973092268 40.68382053638622)  \n",
       "1397  POINT (-73.87053741199067 40.68406077940711)  \n",
       "1398  POINT (-73.86897452834465 40.68462502641856)  \n",
       "1399  POINT (-73.86830879215844 40.68470149251264)  \n",
       "1400  POINT (-73.86677733371155 40.68513087725389)  \n",
       "1401   POINT (-73.8971674520175 40.67647461059838)  \n",
       "1402  POINT (-73.89746353382094 40.67722158727394)  \n",
       "1403  POINT (-73.89835842382871 40.67699406149796)  \n",
       "1404  POINT (-73.89921208196471 40.67704245393705)  \n",
       "1405  POINT (-73.90195137216791 40.67753994122073)  \n",
       "1406  POINT (-73.90299005314368 40.67789490429163)  \n",
       "1407  POINT (-73.90430067220494 40.67786148725641)  \n",
       "1408  POINT (-73.90590131303024 40.67784540600516)  \n",
       "1409  POINT (-73.94554463140453 40.65094742474417)  \n",
       "1410  POINT (-73.94783400345162 40.65096193550627)  \n",
       "1411  POINT (-73.95241400164339 40.64873293283352)  \n",
       "1412  POINT (-73.95596197262338 40.64868913105501)  \n",
       "1413  POINT (-73.95781959211885 40.64860706138133)  \n",
       "\n",
       "[1414 rows x 6 columns]"
      ]
     },
     "execution_count": 67,
     "metadata": {},
     "output_type": "execute_result"
    }
   ],
   "source": [
    "linkNYC."
   ]
  },
  {
   "cell_type": "code",
   "execution_count": 1,
   "metadata": {},
   "outputs": [
    {
     "ename": "NameError",
     "evalue": "name 'pumashp2' is not defined",
     "output_type": "error",
     "traceback": [
      "\u001b[0;31m---------------------------------------------------------------------------\u001b[0m",
      "\u001b[0;31mNameError\u001b[0m                                 Traceback (most recent call last)",
      "\u001b[0;32m<ipython-input-1-e6142502f43c>\u001b[0m in \u001b[0;36m<module>\u001b[0;34m()\u001b[0m\n\u001b[0;32m----> 1\u001b[0;31m \u001b[0mpumashp\u001b[0m \u001b[0;34m=\u001b[0m \u001b[0mpumashp2\u001b[0m\u001b[0;34m.\u001b[0m\u001b[0mto_crs\u001b[0m\u001b[0;34m(\u001b[0m\u001b[0mepsg\u001b[0m\u001b[0;34m=\u001b[0m\u001b[0;36m2263\u001b[0m\u001b[0;34m)\u001b[0m\u001b[0;34m\u001b[0m\u001b[0m\n\u001b[0m",
      "\u001b[0;31mNameError\u001b[0m: name 'pumashp2' is not defined"
     ]
    }
   ],
   "source": [
    "pumashp = pumashp2.to_crs(epsg=2263)"
   ]
  },
  {
   "cell_type": "code",
   "execution_count": 58,
   "metadata": {},
   "outputs": [
    {
     "data": {
      "text/html": [
       "<div>\n",
       "<table border=\"1\" class=\"dataframe\">\n",
       "  <thead>\n",
       "    <tr style=\"text-align: right;\">\n",
       "      <th></th>\n",
       "      <th>puma</th>\n",
       "      <th>shape_area</th>\n",
       "      <th>shape_leng</th>\n",
       "      <th>geometry</th>\n",
       "      <th>B00001_001E</th>\n",
       "      <th>NAME</th>\n",
       "      <th>state</th>\n",
       "      <th>public use microdata area</th>\n",
       "      <th>index_right</th>\n",
       "      <th>link_site</th>\n",
       "      <th>longitude</th>\n",
       "      <th>date_link_</th>\n",
       "      <th>latitude</th>\n",
       "      <th>lonlat</th>\n",
       "    </tr>\n",
       "  </thead>\n",
       "  <tbody>\n",
       "  </tbody>\n",
       "</table>\n",
       "</div>"
      ],
      "text/plain": [
       "Empty GeoDataFrame\n",
       "Columns: [puma, shape_area, shape_leng, geometry, B00001_001E, NAME, state, public use microdata area, index_right, link_site, longitude, date_link_, latitude, lonlat]\n",
       "Index: []"
      ]
     },
     "execution_count": 58,
     "metadata": {},
     "output_type": "execute_result"
    }
   ],
   "source": [
    "linkpp = gpd.sjoin(pumashp2.to_crs(epsg=2263),linkNYC.to_crs(epsg=2263))#.groupby(...)\n",
    "linkpp.head()"
   ]
  },
  {
   "cell_type": "markdown",
   "metadata": {},
   "source": [
    "finally merge back into the pumashp. Make sure you use the correct scheme for merging: you want to have _all_ the PUMAs, not only the ones that have linkNYC in them in the final geoDF"
   ]
  },
  {
   "cell_type": "code",
   "execution_count": null,
   "metadata": {},
   "outputs": [],
   "source": [
    "#linkNYC per 100 inhabitants\n",
    "pumashplc[\"linkNYCp100p\"].describe()"
   ]
  },
  {
   "cell_type": "markdown",
   "metadata": {},
   "source": [
    "# at last, plot the linkNYC locations on top of a choropleth of number of stations per 100 people  in 10 equal intervals\n"
   ]
  },
  {
   "cell_type": "code",
   "execution_count": null,
   "metadata": {},
   "outputs": [],
   "source": []
  },
  {
   "cell_type": "markdown",
   "metadata": {},
   "source": [
    "# Extra credit 1: \n",
    "How would you enhance the visibility of this map? you are working with numbers that are mostly very low, and reside near each other, and them have a few much higher value points. Notice that here the high values are interesting though and should not be thrown away!"
   ]
  },
  {
   "cell_type": "code",
   "execution_count": null,
   "metadata": {},
   "outputs": [],
   "source": [
    "pl.hist(pumashplc[\"linkNYCpp\"], bins=30);"
   ]
  },
  {
   "cell_type": "markdown",
   "metadata": {},
   "source": [
    "## Extra Credit 2:\n",
    "plot Spatial Lag Deciles that describe the impact of linkNYC in providing access where needed. You can follow what you did in the lab, but you need to create a metric based on the data you have tha measures the impact of linkNYC\n"
   ]
  },
  {
   "cell_type": "code",
   "execution_count": null,
   "metadata": {},
   "outputs": [],
   "source": []
  },
  {
   "cell_type": "markdown",
   "metadata": {},
   "source": [
    "this is whay I came up with, and needs not be the same for you. But properly describe what you obtain"
   ]
  },
  {
   "cell_type": "markdown",
   "metadata": {},
   "source": [
    "\n",
    "Note: To find the table you extracted through the API manually you could\n",
    "\n",
    "https://factfinder.census.gov/ -> Advanced Search -> Show me all \n",
    "    \n",
    "    - Topics: Housing -> Physical Characteristics -> Internet Access\n",
    "    - Geographies -> all geography types -> Public Use Microdata Areas (755)\n",
    "                     -> Select a State: New York -> All Pubic Use Microdaa Areas within New York\n",
    "                     -> Add Your Selection\n",
    "    - Years -> 2016"
   ]
  },
  {
   "cell_type": "code",
   "execution_count": null,
   "metadata": {},
   "outputs": [],
   "source": []
  }
 ],
 "metadata": {
  "kernelspec": {
   "display_name": "PUI2016_Python3",
   "language": "python",
   "name": "pui2016_python3"
  },
  "language_info": {
   "codemirror_mode": {
    "name": "ipython",
    "version": 3
   },
   "file_extension": ".py",
   "mimetype": "text/x-python",
   "name": "python",
   "nbconvert_exporter": "python",
   "pygments_lexer": "ipython3",
   "version": "3.5.4"
  }
 },
 "nbformat": 4,
 "nbformat_minor": 2
}
